{
 "cells": [
  {
   "cell_type": "markdown",
   "id": "98778ad5",
   "metadata": {
    "papermill": {
     "duration": 0.007685,
     "end_time": "2025-07-26T21:34:19.852805",
     "exception": false,
     "start_time": "2025-07-26T21:34:19.845120",
     "status": "completed"
    },
    "tags": []
   },
   "source": [
    "**This notebook is an exercise in the [Python](https://www.kaggle.com/learn/python) course.  You can reference the tutorial at [this link](https://www.kaggle.com/colinmorris/booleans-and-conditionals).**\n",
    "\n",
    "---\n"
   ]
  },
  {
   "cell_type": "markdown",
   "id": "2bd6d675",
   "metadata": {
    "papermill": {
     "duration": 0.005645,
     "end_time": "2025-07-26T21:34:19.864764",
     "exception": false,
     "start_time": "2025-07-26T21:34:19.859119",
     "status": "completed"
    },
    "tags": []
   },
   "source": [
    "In this exercise, you'll put to work what you have learned about booleans and conditionals.\n",
    "\n",
    "To get started, **run the setup code below** before writing your own code (and if you leave this notebook and come back later, don't forget to run the setup code again)."
   ]
  },
  {
   "cell_type": "code",
   "execution_count": 1,
   "id": "97d1296c",
   "metadata": {
    "execution": {
     "iopub.execute_input": "2025-07-26T21:34:19.878519Z",
     "iopub.status.busy": "2025-07-26T21:34:19.878171Z",
     "iopub.status.idle": "2025-07-26T21:34:21.734904Z",
     "shell.execute_reply": "2025-07-26T21:34:21.733849Z"
    },
    "papermill": {
     "duration": 1.865805,
     "end_time": "2025-07-26T21:34:21.736560",
     "exception": false,
     "start_time": "2025-07-26T21:34:19.870755",
     "status": "completed"
    },
    "tags": []
   },
   "outputs": [
    {
     "name": "stdout",
     "output_type": "stream",
     "text": [
      "Setup complete.\n"
     ]
    }
   ],
   "source": [
    "from learntools.core import binder; binder.bind(globals())\n",
    "from learntools.python.ex3 import *\n",
    "print('Setup complete.')"
   ]
  },
  {
   "cell_type": "markdown",
   "id": "27ab2f62",
   "metadata": {
    "papermill": {
     "duration": 0.005532,
     "end_time": "2025-07-26T21:34:21.748337",
     "exception": false,
     "start_time": "2025-07-26T21:34:21.742805",
     "status": "completed"
    },
    "tags": []
   },
   "source": [
    "# 1.\n",
    "\n",
    "Many programming languages have [`sign`](https://en.wikipedia.org/wiki/Sign_function) available as a built-in function. Python doesn't, but we can define our own!\n",
    "\n",
    "In the cell below, define a function called `sign` which takes a numerical argument and returns -1 if it's negative, 1 if it's positive, and 0 if it's 0."
   ]
  },
  {
   "cell_type": "code",
   "execution_count": 2,
   "id": "cb2e87fd",
   "metadata": {
    "execution": {
     "iopub.execute_input": "2025-07-26T21:34:21.764511Z",
     "iopub.status.busy": "2025-07-26T21:34:21.763899Z",
     "iopub.status.idle": "2025-07-26T21:34:21.775642Z",
     "shell.execute_reply": "2025-07-26T21:34:21.774495Z"
    },
    "papermill": {
     "duration": 0.022835,
     "end_time": "2025-07-26T21:34:21.777340",
     "exception": false,
     "start_time": "2025-07-26T21:34:21.754505",
     "status": "completed"
    },
    "tags": []
   },
   "outputs": [
    {
     "data": {
      "application/javascript": [
       "parent.postMessage({\"jupyterEvent\": \"custom.exercise_interaction\", \"data\": {\"outcomeType\": 1, \"valueTowardsCompletion\": 0.2, \"interactionType\": 1, \"questionType\": 2, \"questionId\": \"1_SignFunctionProblem\", \"learnToolsVersion\": \"0.3.5\", \"failureMessage\": \"\", \"exceptionClass\": \"\", \"trace\": \"\"}}, \"*\")"
      ],
      "text/plain": [
       "<IPython.core.display.Javascript object>"
      ]
     },
     "metadata": {},
     "output_type": "display_data"
    },
    {
     "data": {
      "text/markdown": [
       "<span style=\"color:#33cc33\">Correct</span>"
      ],
      "text/plain": [
       "Correct"
      ]
     },
     "metadata": {},
     "output_type": "display_data"
    }
   ],
   "source": [
    "# Your code goes here. Define a function called 'sign'\n",
    "def sign(n):\n",
    "    if n > 0:\n",
    "        return 1\n",
    "    elif n < 0:\n",
    "        return -1\n",
    "    else:\n",
    "        return 0\n",
    "\n",
    "\n",
    "\n",
    "# Check your answer\n",
    "q1.check()"
   ]
  },
  {
   "cell_type": "code",
   "execution_count": 3,
   "id": "12efb2d8",
   "metadata": {
    "execution": {
     "iopub.execute_input": "2025-07-26T21:34:21.794017Z",
     "iopub.status.busy": "2025-07-26T21:34:21.793158Z",
     "iopub.status.idle": "2025-07-26T21:34:21.797666Z",
     "shell.execute_reply": "2025-07-26T21:34:21.796831Z"
    },
    "papermill": {
     "duration": 0.014823,
     "end_time": "2025-07-26T21:34:21.799232",
     "exception": false,
     "start_time": "2025-07-26T21:34:21.784409",
     "status": "completed"
    },
    "tags": []
   },
   "outputs": [],
   "source": [
    "#q1.solution()"
   ]
  },
  {
   "cell_type": "markdown",
   "id": "343680e4",
   "metadata": {
    "papermill": {
     "duration": 0.006067,
     "end_time": "2025-07-26T21:34:21.816287",
     "exception": false,
     "start_time": "2025-07-26T21:34:21.810220",
     "status": "completed"
    },
    "tags": []
   },
   "source": [
    "# 2.\n",
    "\n",
    "We've decided to add \"logging\" to our `to_smash` function from the previous exercise."
   ]
  },
  {
   "cell_type": "code",
   "execution_count": 4,
   "id": "3a7f2c3e",
   "metadata": {
    "execution": {
     "iopub.execute_input": "2025-07-26T21:34:21.830254Z",
     "iopub.status.busy": "2025-07-26T21:34:21.829410Z",
     "iopub.status.idle": "2025-07-26T21:34:21.835503Z",
     "shell.execute_reply": "2025-07-26T21:34:21.834507Z"
    },
    "papermill": {
     "duration": 0.014565,
     "end_time": "2025-07-26T21:34:21.836889",
     "exception": false,
     "start_time": "2025-07-26T21:34:21.822324",
     "status": "completed"
    },
    "tags": []
   },
   "outputs": [
    {
     "name": "stdout",
     "output_type": "stream",
     "text": [
      "Splitting 91 candies\n",
      "Splitting 1 candy\n"
     ]
    }
   ],
   "source": [
    "def to_smash(total_candies):\n",
    "    \"\"\"Return the number of leftover candies that must be smashed after distributing\n",
    "    the given number of candies evenly between 3 friends.\n",
    "    \n",
    "    >>> to_smash(91)\n",
    "    1\n",
    "    \"\"\"\n",
    "    if total_candies == 1:\n",
    "        print(\"Splitting\", 1,\"candy\")\n",
    "    else:    \n",
    "        print(\"Splitting\", total_candies, \"candies\")\n",
    "        return total_candies % 3\n",
    "    \n",
    "\n",
    "\n",
    "to_smash(91)\n",
    "to_smash(1)"
   ]
  },
  {
   "cell_type": "markdown",
   "id": "9bbc5646",
   "metadata": {
    "papermill": {
     "duration": 0.005849,
     "end_time": "2025-07-26T21:34:21.849003",
     "exception": false,
     "start_time": "2025-07-26T21:34:21.843154",
     "status": "completed"
    },
    "tags": []
   },
   "source": [
    "What happens if we call it with `total_candies = 1`?"
   ]
  },
  {
   "cell_type": "code",
   "execution_count": 5,
   "id": "cc08c399",
   "metadata": {
    "execution": {
     "iopub.execute_input": "2025-07-26T21:34:21.862781Z",
     "iopub.status.busy": "2025-07-26T21:34:21.861920Z",
     "iopub.status.idle": "2025-07-26T21:34:21.867026Z",
     "shell.execute_reply": "2025-07-26T21:34:21.866097Z"
    },
    "papermill": {
     "duration": 0.013448,
     "end_time": "2025-07-26T21:34:21.868424",
     "exception": false,
     "start_time": "2025-07-26T21:34:21.854976",
     "status": "completed"
    },
    "tags": []
   },
   "outputs": [
    {
     "name": "stdout",
     "output_type": "stream",
     "text": [
      "Splitting 1 candy\n"
     ]
    }
   ],
   "source": [
    "to_smash(1)"
   ]
  },
  {
   "cell_type": "markdown",
   "id": "e0a54ea4",
   "metadata": {
    "papermill": {
     "duration": 0.005921,
     "end_time": "2025-07-26T21:34:21.880845",
     "exception": false,
     "start_time": "2025-07-26T21:34:21.874924",
     "status": "completed"
    },
    "tags": []
   },
   "source": [
    "That isn't great grammar!\n",
    "\n",
    "Modify the definition in the cell below to correct the grammar of our print statement. (If there's only one candy, we should use the singular \"candy\" instead of the plural \"candies\")"
   ]
  },
  {
   "cell_type": "code",
   "execution_count": 6,
   "id": "7aea41d3",
   "metadata": {
    "execution": {
     "iopub.execute_input": "2025-07-26T21:34:21.894977Z",
     "iopub.status.busy": "2025-07-26T21:34:21.894650Z",
     "iopub.status.idle": "2025-07-26T21:34:21.902104Z",
     "shell.execute_reply": "2025-07-26T21:34:21.901179Z"
    },
    "papermill": {
     "duration": 0.016547,
     "end_time": "2025-07-26T21:34:21.903602",
     "exception": false,
     "start_time": "2025-07-26T21:34:21.887055",
     "status": "completed"
    },
    "tags": []
   },
   "outputs": [
    {
     "name": "stdout",
     "output_type": "stream",
     "text": [
      "Splitting 91 candies\n",
      "Splitting 1 candy\n"
     ]
    },
    {
     "data": {
      "text/plain": [
       "1"
      ]
     },
     "execution_count": 6,
     "metadata": {},
     "output_type": "execute_result"
    }
   ],
   "source": [
    "def to_smash(total_candies):\n",
    "    \"\"\"Return the number of leftover candies that must be smashed after distributing\n",
    "    the given number of candies evenly between 3 friends.\n",
    "    \n",
    "    >>> to_smash(91)\n",
    "    1\n",
    "    \"\"\"\n",
    "    \n",
    "    print(\"Splitting\", total_candies, \"candy\" if total_candies == 1 else \"candies\")\n",
    "    \n",
    "    return total_candies % 3\n",
    "\n",
    "\n",
    "to_smash(91)\n",
    "to_smash(1)\n"
   ]
  },
  {
   "cell_type": "markdown",
   "id": "406f984e",
   "metadata": {
    "papermill": {
     "duration": 0.00598,
     "end_time": "2025-07-26T21:34:21.916224",
     "exception": false,
     "start_time": "2025-07-26T21:34:21.910244",
     "status": "completed"
    },
    "tags": []
   },
   "source": [
    "To get credit for completing this problem, and to see the official answer, run the code cell below."
   ]
  },
  {
   "cell_type": "code",
   "execution_count": 7,
   "id": "3789dffd",
   "metadata": {
    "execution": {
     "iopub.execute_input": "2025-07-26T21:34:21.929890Z",
     "iopub.status.busy": "2025-07-26T21:34:21.929586Z",
     "iopub.status.idle": "2025-07-26T21:34:21.936805Z",
     "shell.execute_reply": "2025-07-26T21:34:21.935953Z"
    },
    "papermill": {
     "duration": 0.015768,
     "end_time": "2025-07-26T21:34:21.938201",
     "exception": false,
     "start_time": "2025-07-26T21:34:21.922433",
     "status": "completed"
    },
    "tags": []
   },
   "outputs": [
    {
     "data": {
      "application/javascript": [
       "parent.postMessage({\"jupyterEvent\": \"custom.exercise_interaction\", \"data\": {\"interactionType\": 3, \"questionType\": 4, \"questionId\": \"2_PluralizationProblem\", \"learnToolsVersion\": \"0.3.5\", \"valueTowardsCompletion\": 0.0, \"failureMessage\": \"\", \"exceptionClass\": \"\", \"trace\": \"\", \"outcomeType\": 4}}, \"*\")"
      ],
      "text/plain": [
       "<IPython.core.display.Javascript object>"
      ]
     },
     "metadata": {},
     "output_type": "display_data"
    },
    {
     "data": {
      "text/markdown": [
       "<span style=\"color:#33cc99\">Solution:</span> A straightforward (and totally fine) solution is to replace the original `print` call with:\n",
       "\n",
       "```python\n",
       "if total_candies == 1:\n",
       "    print(\"Splitting 1 candy\")\n",
       "else:\n",
       "    print(\"Splitting\", total_candies, \"candies\")\n",
       "```\n",
       "\n",
       "Here's a slightly more succinct solution using a conditional expression:\n",
       "\n",
       "```python\n",
       "print(\"Splitting\", total_candies, \"candy\" if total_candies == 1 else \"candies\")\n",
       "```"
      ],
      "text/plain": [
       "Solution: A straightforward (and totally fine) solution is to replace the original `print` call with:\n",
       "\n",
       "```python\n",
       "if total_candies == 1:\n",
       "    print(\"Splitting 1 candy\")\n",
       "else:\n",
       "    print(\"Splitting\", total_candies, \"candies\")\n",
       "```\n",
       "\n",
       "Here's a slightly more succinct solution using a conditional expression:\n",
       "\n",
       "```python\n",
       "print(\"Splitting\", total_candies, \"candy\" if total_candies == 1 else \"candies\")\n",
       "```"
      ]
     },
     "metadata": {},
     "output_type": "display_data"
    }
   ],
   "source": [
    "# Check your answer (Run this code cell to receive credit!)\n",
    "q2.solution()"
   ]
  },
  {
   "cell_type": "markdown",
   "id": "a66e37b7",
   "metadata": {
    "papermill": {
     "duration": 0.006292,
     "end_time": "2025-07-26T21:34:21.951244",
     "exception": false,
     "start_time": "2025-07-26T21:34:21.944952",
     "status": "completed"
    },
    "tags": []
   },
   "source": [
    "# 3. <span title=\"A bit spicy\" style=\"color: darkgreen \">🌶️</span>\n",
    "\n",
    "In the tutorial, we talked about deciding whether we're prepared for the weather. I said that I'm safe from today's weather if...\n",
    "- I have an umbrella...\n",
    "- or if the rain isn't too heavy and I have a hood...\n",
    "- otherwise, I'm still fine unless it's raining *and* it's a workday\n",
    "\n",
    "The function below uses our first attempt at turning this logic into a Python expression. I claimed that there was a bug in that code. Can you find it?\n",
    "\n",
    "To prove that `prepared_for_weather` is buggy, come up with a set of inputs where either:\n",
    "- the function returns `False` (but should have returned `True`), or\n",
    "- the function returned `True` (but should have returned `False`).\n",
    "\n",
    "To get credit for completing this question, your code should return a <font color='#33cc33'>Correct</font> result."
   ]
  },
  {
   "cell_type": "code",
   "execution_count": 8,
   "id": "e72f8b3c",
   "metadata": {
    "execution": {
     "iopub.execute_input": "2025-07-26T21:34:21.966351Z",
     "iopub.status.busy": "2025-07-26T21:34:21.966056Z",
     "iopub.status.idle": "2025-07-26T21:34:21.974558Z",
     "shell.execute_reply": "2025-07-26T21:34:21.973805Z"
    },
    "papermill": {
     "duration": 0.017568,
     "end_time": "2025-07-26T21:34:21.975951",
     "exception": false,
     "start_time": "2025-07-26T21:34:21.958383",
     "status": "completed"
    },
    "tags": []
   },
   "outputs": [
    {
     "name": "stdout",
     "output_type": "stream",
     "text": [
      "False\n"
     ]
    },
    {
     "data": {
      "application/javascript": [
       "parent.postMessage({\"jupyterEvent\": \"custom.exercise_interaction\", \"data\": {\"outcomeType\": 1, \"valueTowardsCompletion\": 0.2, \"interactionType\": 1, \"questionType\": 1, \"questionId\": \"3_WeatherDebug\", \"learnToolsVersion\": \"0.3.5\", \"failureMessage\": \"\", \"exceptionClass\": \"\", \"trace\": \"\"}}, \"*\")"
      ],
      "text/plain": [
       "<IPython.core.display.Javascript object>"
      ]
     },
     "metadata": {},
     "output_type": "display_data"
    },
    {
     "data": {
      "text/markdown": [
       "<span style=\"color:#33cc33\">Correct:</span> \n",
       "\n",
       "One example of a failing test case is:\n",
       "\n",
       "```python\n",
       "have_umbrella = False\n",
       "rain_level = 0.0\n",
       "have_hood = False\n",
       "is_workday = False\n",
       "```\n",
       "\n",
       "Clearly we're prepared for the weather in this case. It's not raining. Not only that, it's not a workday, so we don't even need to leave the house! But our function will return False on these inputs.\n",
       "\n",
       "The key problem is that Python implictly parenthesizes the last part as:\n",
       "\n",
       "```python\n",
       "(not (rain_level > 0)) and is_workday\n",
       "```\n",
       "\n",
       "Whereas what we were trying to express would look more like:\n",
       "\n",
       "```python\n",
       "not (rain_level > 0 and is_workday)\n",
       "```\n"
      ],
      "text/plain": [
       "Correct: \n",
       "\n",
       "One example of a failing test case is:\n",
       "\n",
       "```python\n",
       "have_umbrella = False\n",
       "rain_level = 0.0\n",
       "have_hood = False\n",
       "is_workday = False\n",
       "```\n",
       "\n",
       "Clearly we're prepared for the weather in this case. It's not raining. Not only that, it's not a workday, so we don't even need to leave the house! But our function will return False on these inputs.\n",
       "\n",
       "The key problem is that Python implictly parenthesizes the last part as:\n",
       "\n",
       "```python\n",
       "(not (rain_level > 0)) and is_workday\n",
       "```\n",
       "\n",
       "Whereas what we were trying to express would look more like:\n",
       "\n",
       "```python\n",
       "not (rain_level > 0 and is_workday)\n",
       "```"
      ]
     },
     "metadata": {},
     "output_type": "display_data"
    }
   ],
   "source": [
    "def prepared_for_weather(have_umbrella, rain_level, have_hood, is_workday):\n",
    "    # Don't change this code. Our goal is just to find the bug, not fix it!\n",
    "    return (\n",
    "        have_umbrella \n",
    "        or (rain_level < 5 and have_hood)\n",
    "        or (rain_level < 0 and is_workday)\n",
    "    )\n",
    "\n",
    "have_umbrella = False\n",
    "rain_level = 4.9\n",
    "have_hood = False\n",
    "is_workday = False\n",
    "\n",
    "actual = prepared_for_weather(have_umbrella, rain_level, have_hood, is_workday)\n",
    "print(actual) \n",
    "\n",
    "\n",
    "q3.check()\n"
   ]
  },
  {
   "cell_type": "code",
   "execution_count": 9,
   "id": "8fb2f6a6",
   "metadata": {
    "execution": {
     "iopub.execute_input": "2025-07-26T21:34:21.991438Z",
     "iopub.status.busy": "2025-07-26T21:34:21.990743Z",
     "iopub.status.idle": "2025-07-26T21:34:21.994744Z",
     "shell.execute_reply": "2025-07-26T21:34:21.993806Z"
    },
    "papermill": {
     "duration": 0.013307,
     "end_time": "2025-07-26T21:34:21.996193",
     "exception": false,
     "start_time": "2025-07-26T21:34:21.982886",
     "status": "completed"
    },
    "tags": []
   },
   "outputs": [],
   "source": [
    "#q3.hint()\n",
    "#q3.solution()"
   ]
  },
  {
   "cell_type": "markdown",
   "id": "9b67e89e",
   "metadata": {
    "papermill": {
     "duration": 0.006828,
     "end_time": "2025-07-26T21:34:22.010194",
     "exception": false,
     "start_time": "2025-07-26T21:34:22.003366",
     "status": "completed"
    },
    "tags": []
   },
   "source": [
    "# 4.\n",
    "\n",
    "The function `is_negative` below is implemented correctly - it returns True if the given number is negative and False otherwise.\n",
    "\n",
    "However, it's more verbose than it needs to be. We can actually reduce the number of lines of code in this function by *75%* while keeping the same behaviour. \n",
    "\n",
    "See if you can come up with an equivalent body that uses just **one line** of code, and put it in the function `concise_is_negative`. (HINT: you don't even need Python's ternary syntax)"
   ]
  },
  {
   "cell_type": "code",
   "execution_count": 10,
   "id": "4d341640",
   "metadata": {
    "execution": {
     "iopub.execute_input": "2025-07-26T21:34:22.025622Z",
     "iopub.status.busy": "2025-07-26T21:34:22.025290Z",
     "iopub.status.idle": "2025-07-26T21:34:22.032634Z",
     "shell.execute_reply": "2025-07-26T21:34:22.031921Z"
    },
    "papermill": {
     "duration": 0.016603,
     "end_time": "2025-07-26T21:34:22.033901",
     "exception": false,
     "start_time": "2025-07-26T21:34:22.017298",
     "status": "completed"
    },
    "tags": []
   },
   "outputs": [
    {
     "data": {
      "application/javascript": [
       "parent.postMessage({\"jupyterEvent\": \"custom.exercise_interaction\", \"data\": {\"outcomeType\": 1, \"valueTowardsCompletion\": 0.2, \"interactionType\": 1, \"questionType\": 2, \"questionId\": \"4_ConciseIsNegative\", \"learnToolsVersion\": \"0.3.5\", \"failureMessage\": \"\", \"exceptionClass\": \"\", \"trace\": \"\"}}, \"*\")"
      ],
      "text/plain": [
       "<IPython.core.display.Javascript object>"
      ]
     },
     "metadata": {},
     "output_type": "display_data"
    },
    {
     "data": {
      "text/markdown": [
       "<span style=\"color:#33cc33\">Correct</span>"
      ],
      "text/plain": [
       "Correct"
      ]
     },
     "metadata": {},
     "output_type": "display_data"
    }
   ],
   "source": [
    "def is_negative(number):\n",
    "    if number < 0:\n",
    "        return True\n",
    "    else:\n",
    "        return False\n",
    "\n",
    "def concise_is_negative(number):\n",
    "    return number < 0\n",
    "    \n",
    "\n",
    "\n",
    "q4.check()"
   ]
  },
  {
   "cell_type": "code",
   "execution_count": 11,
   "id": "28ab066b",
   "metadata": {
    "execution": {
     "iopub.execute_input": "2025-07-26T21:34:22.049848Z",
     "iopub.status.busy": "2025-07-26T21:34:22.049010Z",
     "iopub.status.idle": "2025-07-26T21:34:22.053202Z",
     "shell.execute_reply": "2025-07-26T21:34:22.052355Z"
    },
    "papermill": {
     "duration": 0.013715,
     "end_time": "2025-07-26T21:34:22.054781",
     "exception": false,
     "start_time": "2025-07-26T21:34:22.041066",
     "status": "completed"
    },
    "tags": []
   },
   "outputs": [],
   "source": [
    "#q4.hint()\n",
    "#q4.solution()"
   ]
  },
  {
   "cell_type": "markdown",
   "id": "d522bd72",
   "metadata": {
    "papermill": {
     "duration": 0.006744,
     "end_time": "2025-07-26T21:34:22.068607",
     "exception": false,
     "start_time": "2025-07-26T21:34:22.061863",
     "status": "completed"
    },
    "tags": []
   },
   "source": [
    "# 5a.\n",
    "\n",
    "The boolean variables `ketchup`, `mustard` and `onion` represent whether a customer wants a particular topping on their hot dog. We want to implement a number of boolean functions that correspond to some yes-or-no questions about the customer's order. For example:"
   ]
  },
  {
   "cell_type": "code",
   "execution_count": 12,
   "id": "4058dd12",
   "metadata": {
    "execution": {
     "iopub.execute_input": "2025-07-26T21:34:22.083554Z",
     "iopub.status.busy": "2025-07-26T21:34:22.083225Z",
     "iopub.status.idle": "2025-07-26T21:34:22.087628Z",
     "shell.execute_reply": "2025-07-26T21:34:22.086730Z"
    },
    "papermill": {
     "duration": 0.013574,
     "end_time": "2025-07-26T21:34:22.089089",
     "exception": false,
     "start_time": "2025-07-26T21:34:22.075515",
     "status": "completed"
    },
    "tags": []
   },
   "outputs": [],
   "source": [
    "def onionless(ketchup, mustard, onion):\n",
    "    \"\"\"Return whether the customer doesn't want onions.\n",
    "    \"\"\"\n",
    "    return not onion"
   ]
  },
  {
   "cell_type": "code",
   "execution_count": 13,
   "id": "12535021",
   "metadata": {
    "execution": {
     "iopub.execute_input": "2025-07-26T21:34:22.104593Z",
     "iopub.status.busy": "2025-07-26T21:34:22.104245Z",
     "iopub.status.idle": "2025-07-26T21:34:22.111290Z",
     "shell.execute_reply": "2025-07-26T21:34:22.110533Z"
    },
    "papermill": {
     "duration": 0.016288,
     "end_time": "2025-07-26T21:34:22.112659",
     "exception": false,
     "start_time": "2025-07-26T21:34:22.096371",
     "status": "completed"
    },
    "tags": []
   },
   "outputs": [
    {
     "data": {
      "application/javascript": [
       "parent.postMessage({\"jupyterEvent\": \"custom.exercise_interaction\", \"data\": {\"outcomeType\": 1, \"valueTowardsCompletion\": 0.2, \"interactionType\": 1, \"questionType\": 2, \"questionId\": \"5.1_AllToppings\", \"learnToolsVersion\": \"0.3.5\", \"failureMessage\": \"\", \"exceptionClass\": \"\", \"trace\": \"\"}}, \"*\")"
      ],
      "text/plain": [
       "<IPython.core.display.Javascript object>"
      ]
     },
     "metadata": {},
     "output_type": "display_data"
    },
    {
     "data": {
      "text/markdown": [
       "<span style=\"color:#33cc33\">Correct</span>"
      ],
      "text/plain": [
       "Correct"
      ]
     },
     "metadata": {},
     "output_type": "display_data"
    }
   ],
   "source": [
    "def wants_all_toppings(ketchup, mustard, onion):\n",
    "    return ketchup and mustard and onion\n",
    "    \n",
    "    \n",
    "   \n",
    "# Check your answer\n",
    "q5.a.check()"
   ]
  },
  {
   "cell_type": "code",
   "execution_count": 14,
   "id": "54faa884",
   "metadata": {
    "execution": {
     "iopub.execute_input": "2025-07-26T21:34:22.128689Z",
     "iopub.status.busy": "2025-07-26T21:34:22.128342Z",
     "iopub.status.idle": "2025-07-26T21:34:22.132658Z",
     "shell.execute_reply": "2025-07-26T21:34:22.131537Z"
    },
    "papermill": {
     "duration": 0.014151,
     "end_time": "2025-07-26T21:34:22.134196",
     "exception": false,
     "start_time": "2025-07-26T21:34:22.120045",
     "status": "completed"
    },
    "tags": []
   },
   "outputs": [],
   "source": [
    "#q5.a.hint()\n",
    "#q5.a.solution()"
   ]
  },
  {
   "cell_type": "markdown",
   "id": "2eadc358",
   "metadata": {
    "papermill": {
     "duration": 0.007324,
     "end_time": "2025-07-26T21:34:22.150654",
     "exception": false,
     "start_time": "2025-07-26T21:34:22.143330",
     "status": "completed"
    },
    "tags": []
   },
   "source": [
    "# 5b.\n",
    "\n",
    "For the next function, fill in the body to match the English description in the docstring. "
   ]
  },
  {
   "cell_type": "code",
   "execution_count": 15,
   "id": "1dd541e4",
   "metadata": {
    "execution": {
     "iopub.execute_input": "2025-07-26T21:34:22.166901Z",
     "iopub.status.busy": "2025-07-26T21:34:22.166589Z",
     "iopub.status.idle": "2025-07-26T21:34:22.174132Z",
     "shell.execute_reply": "2025-07-26T21:34:22.173344Z"
    },
    "papermill": {
     "duration": 0.017289,
     "end_time": "2025-07-26T21:34:22.175475",
     "exception": false,
     "start_time": "2025-07-26T21:34:22.158186",
     "status": "completed"
    },
    "tags": []
   },
   "outputs": [
    {
     "data": {
      "application/javascript": [
       "parent.postMessage({\"jupyterEvent\": \"custom.exercise_interaction\", \"data\": {\"outcomeType\": 1, \"valueTowardsCompletion\": 0.2, \"interactionType\": 1, \"questionType\": 2, \"questionId\": \"5.2_PlainDog\", \"learnToolsVersion\": \"0.3.5\", \"failureMessage\": \"\", \"exceptionClass\": \"\", \"trace\": \"\"}}, \"*\")"
      ],
      "text/plain": [
       "<IPython.core.display.Javascript object>"
      ]
     },
     "metadata": {},
     "output_type": "display_data"
    },
    {
     "data": {
      "text/markdown": [
       "<span style=\"color:#33cc33\">Correct:</span> \n",
       "\n",
       "One solution looks like:\n",
       "```python\n",
       "return not ketchup and not mustard and not onion\n",
       "```\n",
       "\n",
       "We can also [\"factor out\" the nots](https://en.wikipedia.org/wiki/De_Morgan%27s_laws) to get:\n",
       "\n",
       "```python\n",
       "return not (ketchup or mustard or onion)\n",
       "```"
      ],
      "text/plain": [
       "Correct: \n",
       "\n",
       "One solution looks like:\n",
       "```python\n",
       "return not ketchup and not mustard and not onion\n",
       "```\n",
       "\n",
       "We can also [\"factor out\" the nots](https://en.wikipedia.org/wiki/De_Morgan%27s_laws) to get:\n",
       "\n",
       "```python\n",
       "return not (ketchup or mustard or onion)\n",
       "```"
      ]
     },
     "metadata": {},
     "output_type": "display_data"
    }
   ],
   "source": [
    "def wants_plain_hotdog(ketchup, mustard, onion):\n",
    "    return not(ketchup or mustard or onion)\n",
    "\n",
    "# Check your answer\n",
    "q5.b.check()"
   ]
  },
  {
   "cell_type": "code",
   "execution_count": 16,
   "id": "c93a1fb6",
   "metadata": {
    "execution": {
     "iopub.execute_input": "2025-07-26T21:34:22.192057Z",
     "iopub.status.busy": "2025-07-26T21:34:22.191726Z",
     "iopub.status.idle": "2025-07-26T21:34:22.195401Z",
     "shell.execute_reply": "2025-07-26T21:34:22.194614Z"
    },
    "papermill": {
     "duration": 0.013535,
     "end_time": "2025-07-26T21:34:22.196679",
     "exception": false,
     "start_time": "2025-07-26T21:34:22.183144",
     "status": "completed"
    },
    "tags": []
   },
   "outputs": [],
   "source": [
    "#q5.b.hint()\n",
    "#q5.b.solution()"
   ]
  },
  {
   "cell_type": "markdown",
   "id": "83c46f42",
   "metadata": {
    "papermill": {
     "duration": 0.007196,
     "end_time": "2025-07-26T21:34:22.211473",
     "exception": false,
     "start_time": "2025-07-26T21:34:22.204277",
     "status": "completed"
    },
    "tags": []
   },
   "source": [
    "# 5c.\n",
    "\n",
    "You know what to do: for the next function, fill in the body to match the English description in the docstring."
   ]
  },
  {
   "cell_type": "code",
   "execution_count": 17,
   "id": "4169483f",
   "metadata": {
    "execution": {
     "iopub.execute_input": "2025-07-26T21:34:22.291252Z",
     "iopub.status.busy": "2025-07-26T21:34:22.290943Z",
     "iopub.status.idle": "2025-07-26T21:34:22.298117Z",
     "shell.execute_reply": "2025-07-26T21:34:22.297292Z"
    },
    "papermill": {
     "duration": 0.080632,
     "end_time": "2025-07-26T21:34:22.299509",
     "exception": false,
     "start_time": "2025-07-26T21:34:22.218877",
     "status": "completed"
    },
    "tags": []
   },
   "outputs": [
    {
     "data": {
      "application/javascript": [
       "parent.postMessage({\"jupyterEvent\": \"custom.exercise_interaction\", \"data\": {\"outcomeType\": 1, \"valueTowardsCompletion\": 0.2, \"interactionType\": 1, \"questionType\": 2, \"questionId\": \"5.3_OneSauce\", \"learnToolsVersion\": \"0.3.5\", \"failureMessage\": \"\", \"exceptionClass\": \"\", \"trace\": \"\"}}, \"*\")"
      ],
      "text/plain": [
       "<IPython.core.display.Javascript object>"
      ]
     },
     "metadata": {},
     "output_type": "display_data"
    },
    {
     "data": {
      "text/markdown": [
       "<span style=\"color:#33cc33\">Correct</span>"
      ],
      "text/plain": [
       "Correct"
      ]
     },
     "metadata": {},
     "output_type": "display_data"
    }
   ],
   "source": [
    "def exactly_one_sauce(ketchup, mustard, onion):\n",
    "    \"\"\"Return whether the customer wants either ketchup or mustard, but not both.\n",
    "    (You may be familiar with this operation under the name \"exclusive or\")\n",
    "    \"\"\"\n",
    "    return ketchup != mustard\n",
    "\n",
    "# Check your answer\n",
    "q5.c.check()"
   ]
  },
  {
   "cell_type": "code",
   "execution_count": 18,
   "id": "82f7d69c",
   "metadata": {
    "execution": {
     "iopub.execute_input": "2025-07-26T21:34:22.316811Z",
     "iopub.status.busy": "2025-07-26T21:34:22.315905Z",
     "iopub.status.idle": "2025-07-26T21:34:22.320223Z",
     "shell.execute_reply": "2025-07-26T21:34:22.319554Z"
    },
    "papermill": {
     "duration": 0.014147,
     "end_time": "2025-07-26T21:34:22.321526",
     "exception": false,
     "start_time": "2025-07-26T21:34:22.307379",
     "status": "completed"
    },
    "tags": []
   },
   "outputs": [],
   "source": [
    "#q5.c.hint()\n",
    "#q5.c.solution()"
   ]
  },
  {
   "cell_type": "markdown",
   "id": "f463b1e9",
   "metadata": {
    "papermill": {
     "duration": 0.007448,
     "end_time": "2025-07-26T21:34:22.336623",
     "exception": false,
     "start_time": "2025-07-26T21:34:22.329175",
     "status": "completed"
    },
    "tags": []
   },
   "source": [
    "# 6. <span title=\"A bit spicy\" style=\"color: darkgreen \">🌶️</span>\n",
    "\n",
    "We’ve seen that calling `bool()` on an integer returns `False` if it’s equal to 0 and `True` otherwise. What happens if we call `int()` on a bool? Try it out in the notebook cell below.\n",
    "\n",
    "Can you take advantage of this to write a succinct function that corresponds to the English sentence \"does the customer want exactly one topping?\"?"
   ]
  },
  {
   "cell_type": "code",
   "execution_count": 19,
   "id": "2ba92f6f",
   "metadata": {
    "execution": {
     "iopub.execute_input": "2025-07-26T21:34:22.353438Z",
     "iopub.status.busy": "2025-07-26T21:34:22.352678Z",
     "iopub.status.idle": "2025-07-26T21:34:22.359945Z",
     "shell.execute_reply": "2025-07-26T21:34:22.359256Z"
    },
    "papermill": {
     "duration": 0.017262,
     "end_time": "2025-07-26T21:34:22.361306",
     "exception": false,
     "start_time": "2025-07-26T21:34:22.344044",
     "status": "completed"
    },
    "tags": []
   },
   "outputs": [
    {
     "data": {
      "application/javascript": [
       "parent.postMessage({\"jupyterEvent\": \"custom.exercise_interaction\", \"data\": {\"outcomeType\": 1, \"valueTowardsCompletion\": 0.2, \"interactionType\": 1, \"questionType\": 2, \"questionId\": \"6_OneTopping\", \"learnToolsVersion\": \"0.3.5\", \"failureMessage\": \"\", \"exceptionClass\": \"\", \"trace\": \"\"}}, \"*\")"
      ],
      "text/plain": [
       "<IPython.core.display.Javascript object>"
      ]
     },
     "metadata": {},
     "output_type": "display_data"
    },
    {
     "data": {
      "text/markdown": [
       "<span style=\"color:#33cc33\">Correct:</span> \n",
       "\n",
       "This condition would be pretty complicated to express using just `and`, `or` and `not`, but using boolean-to-integer conversion gives us this short solution:\n",
       "```python\n",
       "return (int(ketchup) + int(mustard) + int(onion)) == 1\n",
       "```\n",
       "\n",
       "Fun fact: we don't technically need to call `int` on the arguments. Just by doing addition with booleans, Python implicitly does the integer conversion. So we could also write...\n",
       "\n",
       "```python\n",
       "return (ketchup + mustard + onion) == 1\n",
       "```"
      ],
      "text/plain": [
       "Correct: \n",
       "\n",
       "This condition would be pretty complicated to express using just `and`, `or` and `not`, but using boolean-to-integer conversion gives us this short solution:\n",
       "```python\n",
       "return (int(ketchup) + int(mustard) + int(onion)) == 1\n",
       "```\n",
       "\n",
       "Fun fact: we don't technically need to call `int` on the arguments. Just by doing addition with booleans, Python implicitly does the integer conversion. So we could also write...\n",
       "\n",
       "```python\n",
       "return (ketchup + mustard + onion) == 1\n",
       "```"
      ]
     },
     "metadata": {},
     "output_type": "display_data"
    }
   ],
   "source": [
    "def exactly_one_topping(ketchup, mustard, onion):\n",
    "    \"\"\"Return whether the customer wants exactly one of the three available toppings\n",
    "    on their hot dog.\n",
    "    \"\"\"\n",
    "    return (ketchup + mustard + onion ) == 1\n",
    "\n",
    "# Check your answer\n",
    "q6.check()"
   ]
  },
  {
   "cell_type": "code",
   "execution_count": 20,
   "id": "04484baf",
   "metadata": {
    "execution": {
     "iopub.execute_input": "2025-07-26T21:34:22.378992Z",
     "iopub.status.busy": "2025-07-26T21:34:22.378188Z",
     "iopub.status.idle": "2025-07-26T21:34:22.382347Z",
     "shell.execute_reply": "2025-07-26T21:34:22.381471Z"
    },
    "papermill": {
     "duration": 0.014746,
     "end_time": "2025-07-26T21:34:22.384106",
     "exception": false,
     "start_time": "2025-07-26T21:34:22.369360",
     "status": "completed"
    },
    "tags": []
   },
   "outputs": [],
   "source": [
    "#q6.hint()\n",
    "#q6.solution()"
   ]
  },
  {
   "cell_type": "markdown",
   "id": "d359682e",
   "metadata": {
    "papermill": {
     "duration": 0.007628,
     "end_time": "2025-07-26T21:34:22.399875",
     "exception": false,
     "start_time": "2025-07-26T21:34:22.392247",
     "status": "completed"
    },
    "tags": []
   },
   "source": [
    "# 7. <span title=\"A bit spicy\" style=\"color: darkgreen \">🌶️</span> (Optional)\n",
    "\n",
    "In this problem we'll be working with a simplified version of [blackjack](https://en.wikipedia.org/wiki/Blackjack) (aka twenty-one). In this version there is one player (who you'll control) and a dealer. Play proceeds as follows:\n",
    "\n",
    "- The player is dealt two face-up cards. The dealer is dealt one face-up card.\n",
    "- The player may ask to be dealt another card ('hit') as many times as they wish. If the sum of their cards exceeds 21, they lose the round immediately.\n",
    "- The dealer then deals additional cards to himself until either:\n",
    "    - the sum of the dealer's cards exceeds 21, in which case the player wins the round\n",
    "    - the sum of the dealer's cards is greater than or equal to 17. If the player's total is greater than the dealer's, the player wins. Otherwise, the dealer wins (even in case of a tie).\n",
    "    \n",
    "When calculating the sum of cards, Jack, Queen, and King count for 10. Aces can count as 1 or 11 (when referring to a player's \"total\" above, we mean the largest total that can be made without exceeding 21. So e.g. A+8 = 19, A+8+8 = 17)\n",
    "\n",
    "For this problem, you'll write a function representing the player's decision-making strategy in this game. We've provided a very unintelligent implementation below:"
   ]
  },
  {
   "cell_type": "code",
   "execution_count": 21,
   "id": "ffdfcfd4",
   "metadata": {
    "execution": {
     "iopub.execute_input": "2025-07-26T21:34:22.417065Z",
     "iopub.status.busy": "2025-07-26T21:34:22.416777Z",
     "iopub.status.idle": "2025-07-26T21:34:22.420967Z",
     "shell.execute_reply": "2025-07-26T21:34:22.420204Z"
    },
    "papermill": {
     "duration": 0.014579,
     "end_time": "2025-07-26T21:34:22.422317",
     "exception": false,
     "start_time": "2025-07-26T21:34:22.407738",
     "status": "completed"
    },
    "tags": []
   },
   "outputs": [],
   "source": [
    "def should_hit(dealer_total, player_total, player_low_aces, player_high_aces):\n",
    "    \"\"\"Return True if the player should hit (request another card) given the current game\n",
    "    state, or False if the player should stay.\n",
    "    When calculating a hand's total value, we count aces as \"high\" (with value 11) if doing so\n",
    "    doesn't bring the total above 21, otherwise we count them as low (with value 1). \n",
    "    For example, if the player's hand is {A, A, A, 7}, we will count it as 11 + 1 + 1 + 7,\n",
    "    and therefore set player_total=20, player_low_aces=2, player_high_aces=1.\n",
    "    \"\"\"\n",
    "    return False"
   ]
  },
  {
   "cell_type": "markdown",
   "id": "85595c3d",
   "metadata": {
    "papermill": {
     "duration": 0.00753,
     "end_time": "2025-07-26T21:34:22.438004",
     "exception": false,
     "start_time": "2025-07-26T21:34:22.430474",
     "status": "completed"
    },
    "tags": []
   },
   "source": [
    "This very conservative agent *always* sticks with the hand of two cards that they're dealt.\n",
    "\n",
    "We'll be simulating games between your player agent and our own dealer agent by calling your function.\n",
    "\n",
    "Try running the function below to see an example of a simulated game:"
   ]
  },
  {
   "cell_type": "code",
   "execution_count": 22,
   "id": "bbce57e4",
   "metadata": {
    "execution": {
     "iopub.execute_input": "2025-07-26T21:34:22.454985Z",
     "iopub.status.busy": "2025-07-26T21:34:22.454690Z",
     "iopub.status.idle": "2025-07-26T21:34:22.459306Z",
     "shell.execute_reply": "2025-07-26T21:34:22.458397Z"
    },
    "papermill": {
     "duration": 0.014867,
     "end_time": "2025-07-26T21:34:22.460717",
     "exception": false,
     "start_time": "2025-07-26T21:34:22.445850",
     "status": "completed"
    },
    "tags": []
   },
   "outputs": [
    {
     "name": "stdout",
     "output_type": "stream",
     "text": [
      "Player starts with 3 and 7 (total = 10)\n",
      "Dealer starts with 3\n",
      "\n",
      "__Player's turn__\n",
      "Player stays\n",
      "\n",
      "__Dealer's turn__\n",
      "Dealer hits and receives A. (total = 14)\n",
      "Dealer hits and receives A. (total = 15)\n",
      "Dealer hits and receives A. (total = 16)\n",
      "Dealer hits and receives A. (total = 17)\n",
      "Dealer stands.\n",
      "Dealer wins. 17 >= 10\n"
     ]
    }
   ],
   "source": [
    "q7.simulate_one_game()"
   ]
  },
  {
   "cell_type": "markdown",
   "id": "4af609c1",
   "metadata": {
    "papermill": {
     "duration": 0.008135,
     "end_time": "2025-07-26T21:34:22.477142",
     "exception": false,
     "start_time": "2025-07-26T21:34:22.469007",
     "status": "completed"
    },
    "tags": []
   },
   "source": [
    "The real test of your agent's mettle is their average win rate over many games. Try calling the function below to simulate 50000 games of blackjack (it may take a couple seconds):"
   ]
  },
  {
   "cell_type": "code",
   "execution_count": 23,
   "id": "7731b9f9",
   "metadata": {
    "execution": {
     "iopub.execute_input": "2025-07-26T21:34:22.494747Z",
     "iopub.status.busy": "2025-07-26T21:34:22.494417Z",
     "iopub.status.idle": "2025-07-26T21:34:23.363346Z",
     "shell.execute_reply": "2025-07-26T21:34:23.362255Z"
    },
    "papermill": {
     "duration": 0.879883,
     "end_time": "2025-07-26T21:34:23.365165",
     "exception": false,
     "start_time": "2025-07-26T21:34:22.485282",
     "status": "completed"
    },
    "tags": []
   },
   "outputs": [
    {
     "name": "stdout",
     "output_type": "stream",
     "text": [
      "Player won 18808 out of 50000 games (win rate = 37.6%)\n"
     ]
    }
   ],
   "source": [
    "q7.simulate(n_games=50000)"
   ]
  },
  {
   "cell_type": "markdown",
   "id": "a2535e61",
   "metadata": {
    "papermill": {
     "duration": 0.008422,
     "end_time": "2025-07-26T21:34:23.382283",
     "exception": false,
     "start_time": "2025-07-26T21:34:23.373861",
     "status": "completed"
    },
    "tags": []
   },
   "source": [
    "Our dumb agent that completely ignores the game state still manages to win shockingly often!\n",
    "\n",
    "Try adding some more smarts to the `should_hit` function and see how it affects the results."
   ]
  },
  {
   "cell_type": "code",
   "execution_count": 24,
   "id": "7152efdf",
   "metadata": {
    "execution": {
     "iopub.execute_input": "2025-07-26T21:34:23.399906Z",
     "iopub.status.busy": "2025-07-26T21:34:23.399624Z",
     "iopub.status.idle": "2025-07-26T21:34:24.248983Z",
     "shell.execute_reply": "2025-07-26T21:34:24.247894Z"
    },
    "papermill": {
     "duration": 0.860265,
     "end_time": "2025-07-26T21:34:24.250650",
     "exception": false,
     "start_time": "2025-07-26T21:34:23.390385",
     "status": "completed"
    },
    "tags": []
   },
   "outputs": [
    {
     "name": "stdout",
     "output_type": "stream",
     "text": [
      "Player won 19060 out of 50000 games (win rate = 38.1%)\n"
     ]
    }
   ],
   "source": [
    "def should_hit(dealer_total, player_total, player_low_aces, player_high_aces):\n",
    "    \"\"\"Return True if the player should hit (request another card) given the current game\n",
    "    state, or False if the player should stay.\n",
    "    When calculating a hand's total value, we count aces as \"high\" (with value 11) if doing so\n",
    "    doesn't bring the total above 21, otherwise we count them as low (with value 1). \n",
    "    For example, if the player's hand is {A, A, A, 7}, we will count it as 11 + 1 + 1 + 7,\n",
    "    and therefore set player_total=20, player_low_aces=2, player_high_aces=1.\n",
    "    \"\"\"\n",
    "    return False\n",
    "\n",
    "q7.simulate(n_games=50000)"
   ]
  },
  {
   "cell_type": "markdown",
   "id": "f5171634",
   "metadata": {
    "papermill": {
     "duration": 0.007862,
     "end_time": "2025-07-26T21:34:24.266947",
     "exception": false,
     "start_time": "2025-07-26T21:34:24.259085",
     "status": "completed"
    },
    "tags": []
   },
   "source": [
    "# Keep Going\n",
    "\n",
    "Learn about **[lists and tuples](https://www.kaggle.com/colinmorris/lists)** to handle multiple items of data in a systematic way."
   ]
  },
  {
   "cell_type": "markdown",
   "id": "b6e074c0",
   "metadata": {
    "papermill": {
     "duration": 0.007937,
     "end_time": "2025-07-26T21:34:24.283170",
     "exception": false,
     "start_time": "2025-07-26T21:34:24.275233",
     "status": "completed"
    },
    "tags": []
   },
   "source": [
    "---\n",
    "\n",
    "\n",
    "\n",
    "\n",
    "*Have questions or comments? Visit the [course discussion forum](https://www.kaggle.com/learn/python/discussion) to chat with other learners.*"
   ]
  }
 ],
 "metadata": {
  "kaggle": {
   "accelerator": "none",
   "dataSources": [],
   "isGpuEnabled": false,
   "isInternetEnabled": false,
   "language": "python",
   "sourceType": "notebook"
  },
  "kernelspec": {
   "display_name": "Python 3",
   "language": "python",
   "name": "python3"
  },
  "language_info": {
   "codemirror_mode": {
    "name": "ipython",
    "version": 3
   },
   "file_extension": ".py",
   "mimetype": "text/x-python",
   "name": "python",
   "nbconvert_exporter": "python",
   "pygments_lexer": "ipython3",
   "version": "3.11.13"
  },
  "learntools_metadata": {
   "lesson_index": 2,
   "type": "exercise"
  },
  "papermill": {
   "default_parameters": {},
   "duration": 10.445231,
   "end_time": "2025-07-26T21:34:24.810977",
   "environment_variables": {},
   "exception": null,
   "input_path": "__notebook__.ipynb",
   "output_path": "__notebook__.ipynb",
   "parameters": {},
   "start_time": "2025-07-26T21:34:14.365746",
   "version": "2.6.0"
  }
 },
 "nbformat": 4,
 "nbformat_minor": 5
}
