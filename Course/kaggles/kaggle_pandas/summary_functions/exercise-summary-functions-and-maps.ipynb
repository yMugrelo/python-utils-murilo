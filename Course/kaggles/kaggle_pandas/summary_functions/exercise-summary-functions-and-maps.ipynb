{
 "cells": [
  {
   "cell_type": "markdown",
   "id": "1b869c0a",
   "metadata": {
    "papermill": {
     "duration": 0.004977,
     "end_time": "2025-08-08T19:05:39.903005",
     "exception": false,
     "start_time": "2025-08-08T19:05:39.898028",
     "status": "completed"
    },
    "tags": []
   },
   "source": [
    "**This notebook is an exercise in the [Pandas](https://www.kaggle.com/learn/pandas) course.  You can reference the tutorial at [this link](https://www.kaggle.com/residentmario/summary-functions-and-maps).**\n",
    "\n",
    "---\n"
   ]
  },
  {
   "cell_type": "markdown",
   "id": "0622309f",
   "metadata": {
    "papermill": {
     "duration": 0.003886,
     "end_time": "2025-08-08T19:05:39.911214",
     "exception": false,
     "start_time": "2025-08-08T19:05:39.907328",
     "status": "completed"
    },
    "tags": []
   },
   "source": [
    "# Introduction\n",
    "\n",
    "Now you are ready to get a deeper understanding of your data.\n",
    "\n",
    "Run the following cell to load your data and some utility functions (including code to check your answers)."
   ]
  },
  {
   "cell_type": "code",
   "execution_count": 1,
   "id": "9f1a85ce",
   "metadata": {
    "execution": {
     "iopub.execute_input": "2025-08-08T19:05:39.921360Z",
     "iopub.status.busy": "2025-08-08T19:05:39.920273Z",
     "iopub.status.idle": "2025-08-08T19:05:46.881078Z",
     "shell.execute_reply": "2025-08-08T19:05:46.880136Z"
    },
    "papermill": {
     "duration": 6.967416,
     "end_time": "2025-08-08T19:05:46.882674",
     "exception": false,
     "start_time": "2025-08-08T19:05:39.915258",
     "status": "completed"
    },
    "tags": []
   },
   "outputs": [
    {
     "name": "stdout",
     "output_type": "stream",
     "text": [
      "Setup complete.\n"
     ]
    },
    {
     "name": "stderr",
     "output_type": "stream",
     "text": [
      "/usr/local/lib/python3.11/dist-packages/pandas/io/formats/format.py:1458: RuntimeWarning: invalid value encountered in greater\n",
      "  has_large_values = (abs_vals > 1e6).any()\n",
      "/usr/local/lib/python3.11/dist-packages/pandas/io/formats/format.py:1459: RuntimeWarning: invalid value encountered in less\n",
      "  has_small_values = ((abs_vals < 10 ** (-self.digits)) & (abs_vals > 0)).any()\n",
      "/usr/local/lib/python3.11/dist-packages/pandas/io/formats/format.py:1459: RuntimeWarning: invalid value encountered in greater\n",
      "  has_small_values = ((abs_vals < 10 ** (-self.digits)) & (abs_vals > 0)).any()\n"
     ]
    },
    {
     "data": {
      "text/html": [
       "<div>\n",
       "<style scoped>\n",
       "    .dataframe tbody tr th:only-of-type {\n",
       "        vertical-align: middle;\n",
       "    }\n",
       "\n",
       "    .dataframe tbody tr th {\n",
       "        vertical-align: top;\n",
       "    }\n",
       "\n",
       "    .dataframe thead th {\n",
       "        text-align: right;\n",
       "    }\n",
       "</style>\n",
       "<table border=\"1\" class=\"dataframe\">\n",
       "  <thead>\n",
       "    <tr style=\"text-align: right;\">\n",
       "      <th></th>\n",
       "      <th>country</th>\n",
       "      <th>description</th>\n",
       "      <th>designation</th>\n",
       "      <th>points</th>\n",
       "      <th>price</th>\n",
       "      <th>province</th>\n",
       "      <th>region_1</th>\n",
       "      <th>region_2</th>\n",
       "      <th>taster_name</th>\n",
       "      <th>taster_twitter_handle</th>\n",
       "      <th>title</th>\n",
       "      <th>variety</th>\n",
       "      <th>winery</th>\n",
       "    </tr>\n",
       "  </thead>\n",
       "  <tbody>\n",
       "    <tr>\n",
       "      <th>0</th>\n",
       "      <td>Italy</td>\n",
       "      <td>Aromas include tropical fruit, broom, brimston...</td>\n",
       "      <td>Vulkà Bianco</td>\n",
       "      <td>87</td>\n",
       "      <td>NaN</td>\n",
       "      <td>Sicily &amp; Sardinia</td>\n",
       "      <td>Etna</td>\n",
       "      <td>NaN</td>\n",
       "      <td>Kerin O’Keefe</td>\n",
       "      <td>@kerinokeefe</td>\n",
       "      <td>Nicosia 2013 Vulkà Bianco  (Etna)</td>\n",
       "      <td>White Blend</td>\n",
       "      <td>Nicosia</td>\n",
       "    </tr>\n",
       "    <tr>\n",
       "      <th>1</th>\n",
       "      <td>Portugal</td>\n",
       "      <td>This is ripe and fruity, a wine that is smooth...</td>\n",
       "      <td>Avidagos</td>\n",
       "      <td>87</td>\n",
       "      <td>15.0</td>\n",
       "      <td>Douro</td>\n",
       "      <td>NaN</td>\n",
       "      <td>NaN</td>\n",
       "      <td>Roger Voss</td>\n",
       "      <td>@vossroger</td>\n",
       "      <td>Quinta dos Avidagos 2011 Avidagos Red (Douro)</td>\n",
       "      <td>Portuguese Red</td>\n",
       "      <td>Quinta dos Avidagos</td>\n",
       "    </tr>\n",
       "    <tr>\n",
       "      <th>2</th>\n",
       "      <td>US</td>\n",
       "      <td>Tart and snappy, the flavors of lime flesh and...</td>\n",
       "      <td>NaN</td>\n",
       "      <td>87</td>\n",
       "      <td>14.0</td>\n",
       "      <td>Oregon</td>\n",
       "      <td>Willamette Valley</td>\n",
       "      <td>Willamette Valley</td>\n",
       "      <td>Paul Gregutt</td>\n",
       "      <td>@paulgwine</td>\n",
       "      <td>Rainstorm 2013 Pinot Gris (Willamette Valley)</td>\n",
       "      <td>Pinot Gris</td>\n",
       "      <td>Rainstorm</td>\n",
       "    </tr>\n",
       "    <tr>\n",
       "      <th>3</th>\n",
       "      <td>US</td>\n",
       "      <td>Pineapple rind, lemon pith and orange blossom ...</td>\n",
       "      <td>Reserve Late Harvest</td>\n",
       "      <td>87</td>\n",
       "      <td>13.0</td>\n",
       "      <td>Michigan</td>\n",
       "      <td>Lake Michigan Shore</td>\n",
       "      <td>NaN</td>\n",
       "      <td>Alexander Peartree</td>\n",
       "      <td>NaN</td>\n",
       "      <td>St. Julian 2013 Reserve Late Harvest Riesling ...</td>\n",
       "      <td>Riesling</td>\n",
       "      <td>St. Julian</td>\n",
       "    </tr>\n",
       "    <tr>\n",
       "      <th>4</th>\n",
       "      <td>US</td>\n",
       "      <td>Much like the regular bottling from 2012, this...</td>\n",
       "      <td>Vintner's Reserve Wild Child Block</td>\n",
       "      <td>87</td>\n",
       "      <td>65.0</td>\n",
       "      <td>Oregon</td>\n",
       "      <td>Willamette Valley</td>\n",
       "      <td>Willamette Valley</td>\n",
       "      <td>Paul Gregutt</td>\n",
       "      <td>@paulgwine</td>\n",
       "      <td>Sweet Cheeks 2012 Vintner's Reserve Wild Child...</td>\n",
       "      <td>Pinot Noir</td>\n",
       "      <td>Sweet Cheeks</td>\n",
       "    </tr>\n",
       "  </tbody>\n",
       "</table>\n",
       "</div>"
      ],
      "text/plain": [
       "    country                                        description  \\\n",
       "0     Italy  Aromas include tropical fruit, broom, brimston...   \n",
       "1  Portugal  This is ripe and fruity, a wine that is smooth...   \n",
       "2        US  Tart and snappy, the flavors of lime flesh and...   \n",
       "3        US  Pineapple rind, lemon pith and orange blossom ...   \n",
       "4        US  Much like the regular bottling from 2012, this...   \n",
       "\n",
       "                          designation  points  price           province  \\\n",
       "0                        Vulkà Bianco      87    NaN  Sicily & Sardinia   \n",
       "1                            Avidagos      87   15.0              Douro   \n",
       "2                                 NaN      87   14.0             Oregon   \n",
       "3                Reserve Late Harvest      87   13.0           Michigan   \n",
       "4  Vintner's Reserve Wild Child Block      87   65.0             Oregon   \n",
       "\n",
       "              region_1           region_2         taster_name  \\\n",
       "0                 Etna                NaN       Kerin O’Keefe   \n",
       "1                  NaN                NaN          Roger Voss   \n",
       "2    Willamette Valley  Willamette Valley        Paul Gregutt   \n",
       "3  Lake Michigan Shore                NaN  Alexander Peartree   \n",
       "4    Willamette Valley  Willamette Valley        Paul Gregutt   \n",
       "\n",
       "  taster_twitter_handle                                              title  \\\n",
       "0          @kerinokeefe                  Nicosia 2013 Vulkà Bianco  (Etna)   \n",
       "1            @vossroger      Quinta dos Avidagos 2011 Avidagos Red (Douro)   \n",
       "2           @paulgwine       Rainstorm 2013 Pinot Gris (Willamette Valley)   \n",
       "3                   NaN  St. Julian 2013 Reserve Late Harvest Riesling ...   \n",
       "4           @paulgwine   Sweet Cheeks 2012 Vintner's Reserve Wild Child...   \n",
       "\n",
       "          variety               winery  \n",
       "0     White Blend              Nicosia  \n",
       "1  Portuguese Red  Quinta dos Avidagos  \n",
       "2      Pinot Gris            Rainstorm  \n",
       "3        Riesling           St. Julian  \n",
       "4      Pinot Noir         Sweet Cheeks  "
      ]
     },
     "execution_count": 1,
     "metadata": {},
     "output_type": "execute_result"
    }
   ],
   "source": [
    "import pandas as pd\n",
    "pd.set_option(\"display.max_rows\", 5)\n",
    "reviews = pd.read_csv(\"../input/wine-reviews/winemag-data-130k-v2.csv\", index_col=0)\n",
    "\n",
    "from learntools.core import binder; binder.bind(globals())\n",
    "from learntools.pandas.summary_functions_and_maps import *\n",
    "print(\"Setup complete.\")\n",
    "\n",
    "reviews.head()"
   ]
  },
  {
   "cell_type": "markdown",
   "id": "d517321a",
   "metadata": {
    "papermill": {
     "duration": 0.004382,
     "end_time": "2025-08-08T19:05:46.892141",
     "exception": false,
     "start_time": "2025-08-08T19:05:46.887759",
     "status": "completed"
    },
    "tags": []
   },
   "source": [
    "# Exercises"
   ]
  },
  {
   "cell_type": "markdown",
   "id": "fd0b8ad4",
   "metadata": {
    "papermill": {
     "duration": 0.004176,
     "end_time": "2025-08-08T19:05:46.900827",
     "exception": false,
     "start_time": "2025-08-08T19:05:46.896651",
     "status": "completed"
    },
    "tags": []
   },
   "source": [
    "## 1.\n",
    "\n",
    "What is the median of the `points` column in the `reviews` DataFrame?"
   ]
  },
  {
   "cell_type": "code",
   "execution_count": 2,
   "id": "57075b57",
   "metadata": {
    "execution": {
     "iopub.execute_input": "2025-08-08T19:05:46.910858Z",
     "iopub.status.busy": "2025-08-08T19:05:46.910488Z",
     "iopub.status.idle": "2025-08-08T19:05:46.918292Z",
     "shell.execute_reply": "2025-08-08T19:05:46.917634Z"
    },
    "papermill": {
     "duration": 0.014402,
     "end_time": "2025-08-08T19:05:46.919606",
     "exception": false,
     "start_time": "2025-08-08T19:05:46.905204",
     "status": "completed"
    },
    "tags": []
   },
   "outputs": [
    {
     "data": {
      "application/javascript": [
       "parent.postMessage({\"jupyterEvent\": \"custom.exercise_interaction\", \"data\": {\"outcomeType\": 1, \"valueTowardsCompletion\": 0.14285714285714285, \"interactionType\": 1, \"questionType\": 1, \"questionId\": \"1_MedianPoints\", \"learnToolsVersion\": \"0.3.5\", \"failureMessage\": \"\", \"exceptionClass\": \"\", \"trace\": \"\"}}, \"*\")"
      ],
      "text/plain": [
       "<IPython.core.display.Javascript object>"
      ]
     },
     "metadata": {},
     "output_type": "display_data"
    },
    {
     "data": {
      "text/markdown": [
       "<span style=\"color:#33cc33\">Correct</span>"
      ],
      "text/plain": [
       "Correct"
      ]
     },
     "metadata": {},
     "output_type": "display_data"
    }
   ],
   "source": [
    "\n",
    "median_points = reviews.points.median()\n",
    "\n",
    "# Check your answer\n",
    "q1.check()"
   ]
  },
  {
   "cell_type": "code",
   "execution_count": 3,
   "id": "fc7f8d08",
   "metadata": {
    "execution": {
     "iopub.execute_input": "2025-08-08T19:05:46.931855Z",
     "iopub.status.busy": "2025-08-08T19:05:46.931037Z",
     "iopub.status.idle": "2025-08-08T19:05:46.934941Z",
     "shell.execute_reply": "2025-08-08T19:05:46.934108Z"
    },
    "papermill": {
     "duration": 0.010938,
     "end_time": "2025-08-08T19:05:46.936331",
     "exception": false,
     "start_time": "2025-08-08T19:05:46.925393",
     "status": "completed"
    },
    "tags": []
   },
   "outputs": [],
   "source": [
    "#q1.hint()\n",
    "#q1.solution()"
   ]
  },
  {
   "cell_type": "markdown",
   "id": "422c661f",
   "metadata": {
    "papermill": {
     "duration": 0.004512,
     "end_time": "2025-08-08T19:05:46.945761",
     "exception": false,
     "start_time": "2025-08-08T19:05:46.941249",
     "status": "completed"
    },
    "tags": []
   },
   "source": [
    "## 2. \n",
    "What countries are represented in the dataset? (Your answer should not include any duplicates.)"
   ]
  },
  {
   "cell_type": "code",
   "execution_count": 4,
   "id": "cbeadda7",
   "metadata": {
    "execution": {
     "iopub.execute_input": "2025-08-08T19:05:46.956293Z",
     "iopub.status.busy": "2025-08-08T19:05:46.956025Z",
     "iopub.status.idle": "2025-08-08T19:05:46.967478Z",
     "shell.execute_reply": "2025-08-08T19:05:46.966770Z"
    },
    "papermill": {
     "duration": 0.018422,
     "end_time": "2025-08-08T19:05:46.968904",
     "exception": false,
     "start_time": "2025-08-08T19:05:46.950482",
     "status": "completed"
    },
    "tags": []
   },
   "outputs": [
    {
     "data": {
      "application/javascript": [
       "parent.postMessage({\"jupyterEvent\": \"custom.exercise_interaction\", \"data\": {\"outcomeType\": 1, \"valueTowardsCompletion\": 0.14285714285714285, \"interactionType\": 1, \"questionType\": 2, \"questionId\": \"2_UniqueCountries\", \"learnToolsVersion\": \"0.3.5\", \"failureMessage\": \"\", \"exceptionClass\": \"\", \"trace\": \"\"}}, \"*\")"
      ],
      "text/plain": [
       "<IPython.core.display.Javascript object>"
      ]
     },
     "metadata": {},
     "output_type": "display_data"
    },
    {
     "data": {
      "text/markdown": [
       "<span style=\"color:#33cc33\">Correct</span>"
      ],
      "text/plain": [
       "Correct"
      ]
     },
     "metadata": {},
     "output_type": "display_data"
    }
   ],
   "source": [
    "countries = reviews.country.unique()\n",
    "\n",
    "# Check your answer\n",
    "q2.check()"
   ]
  },
  {
   "cell_type": "code",
   "execution_count": 5,
   "id": "30385299",
   "metadata": {
    "execution": {
     "iopub.execute_input": "2025-08-08T19:05:46.980163Z",
     "iopub.status.busy": "2025-08-08T19:05:46.979459Z",
     "iopub.status.idle": "2025-08-08T19:05:46.982802Z",
     "shell.execute_reply": "2025-08-08T19:05:46.982202Z"
    },
    "papermill": {
     "duration": 0.010173,
     "end_time": "2025-08-08T19:05:46.984087",
     "exception": false,
     "start_time": "2025-08-08T19:05:46.973914",
     "status": "completed"
    },
    "tags": []
   },
   "outputs": [],
   "source": [
    "#q2.hint()\n",
    "#q2.solution()"
   ]
  },
  {
   "cell_type": "markdown",
   "id": "0d793373",
   "metadata": {
    "papermill": {
     "duration": 0.00457,
     "end_time": "2025-08-08T19:05:46.993714",
     "exception": false,
     "start_time": "2025-08-08T19:05:46.989144",
     "status": "completed"
    },
    "tags": []
   },
   "source": [
    "## 3.\n",
    "How often does each country appear in the dataset? Create a Series `reviews_per_country` mapping countries to the count of reviews of wines from that country."
   ]
  },
  {
   "cell_type": "code",
   "execution_count": 6,
   "id": "c69dcd1b",
   "metadata": {
    "execution": {
     "iopub.execute_input": "2025-08-08T19:05:47.004325Z",
     "iopub.status.busy": "2025-08-08T19:05:47.004065Z",
     "iopub.status.idle": "2025-08-08T19:05:47.025342Z",
     "shell.execute_reply": "2025-08-08T19:05:47.024619Z"
    },
    "papermill": {
     "duration": 0.02817,
     "end_time": "2025-08-08T19:05:47.026585",
     "exception": false,
     "start_time": "2025-08-08T19:05:46.998415",
     "status": "completed"
    },
    "tags": []
   },
   "outputs": [
    {
     "data": {
      "application/javascript": [
       "parent.postMessage({\"jupyterEvent\": \"custom.exercise_interaction\", \"data\": {\"outcomeType\": 1, \"valueTowardsCompletion\": 0.14285714285714285, \"interactionType\": 1, \"questionType\": 1, \"questionId\": \"3_ReviewsPerCountry\", \"learnToolsVersion\": \"0.3.5\", \"failureMessage\": \"\", \"exceptionClass\": \"\", \"trace\": \"\"}}, \"*\")"
      ],
      "text/plain": [
       "<IPython.core.display.Javascript object>"
      ]
     },
     "metadata": {},
     "output_type": "display_data"
    },
    {
     "data": {
      "text/markdown": [
       "<span style=\"color:#33cc33\">Correct</span>"
      ],
      "text/plain": [
       "Correct"
      ]
     },
     "metadata": {},
     "output_type": "display_data"
    }
   ],
   "source": [
    "reviews_per_country = reviews['country'].value_counts()\n",
    "\n",
    "\n",
    "# Check your answer\n",
    "q3.check()"
   ]
  },
  {
   "cell_type": "code",
   "execution_count": 7,
   "id": "45a6199f",
   "metadata": {
    "execution": {
     "iopub.execute_input": "2025-08-08T19:05:47.038290Z",
     "iopub.status.busy": "2025-08-08T19:05:47.037697Z",
     "iopub.status.idle": "2025-08-08T19:05:47.041234Z",
     "shell.execute_reply": "2025-08-08T19:05:47.040586Z"
    },
    "papermill": {
     "duration": 0.010594,
     "end_time": "2025-08-08T19:05:47.042436",
     "exception": false,
     "start_time": "2025-08-08T19:05:47.031842",
     "status": "completed"
    },
    "tags": []
   },
   "outputs": [],
   "source": [
    "#q3.hint()\n",
    "#q3.solution()"
   ]
  },
  {
   "cell_type": "markdown",
   "id": "b8b3cb9f",
   "metadata": {
    "papermill": {
     "duration": 0.004812,
     "end_time": "2025-08-08T19:05:47.052411",
     "exception": false,
     "start_time": "2025-08-08T19:05:47.047599",
     "status": "completed"
    },
    "tags": []
   },
   "source": [
    "## 4.\n",
    "Create variable `centered_price` containing a version of the `price` column with the mean price subtracted.\n",
    "\n",
    "(Note: this 'centering' transformation is a common preprocessing step before applying various machine learning algorithms.) "
   ]
  },
  {
   "cell_type": "code",
   "execution_count": 8,
   "id": "da32ae78",
   "metadata": {
    "execution": {
     "iopub.execute_input": "2025-08-08T19:05:47.063685Z",
     "iopub.status.busy": "2025-08-08T19:05:47.063340Z",
     "iopub.status.idle": "2025-08-08T19:05:47.072223Z",
     "shell.execute_reply": "2025-08-08T19:05:47.071352Z"
    },
    "papermill": {
     "duration": 0.01603,
     "end_time": "2025-08-08T19:05:47.073539",
     "exception": false,
     "start_time": "2025-08-08T19:05:47.057509",
     "status": "completed"
    },
    "tags": []
   },
   "outputs": [
    {
     "data": {
      "application/javascript": [
       "parent.postMessage({\"jupyterEvent\": \"custom.exercise_interaction\", \"data\": {\"outcomeType\": 1, \"valueTowardsCompletion\": 0.14285714285714285, \"interactionType\": 1, \"questionType\": 1, \"questionId\": \"4_CenteredPrice\", \"learnToolsVersion\": \"0.3.5\", \"failureMessage\": \"\", \"exceptionClass\": \"\", \"trace\": \"\"}}, \"*\")"
      ],
      "text/plain": [
       "<IPython.core.display.Javascript object>"
      ]
     },
     "metadata": {},
     "output_type": "display_data"
    },
    {
     "data": {
      "text/markdown": [
       "<span style=\"color:#33cc33\">Correct</span>"
      ],
      "text/plain": [
       "Correct"
      ]
     },
     "metadata": {},
     "output_type": "display_data"
    }
   ],
   "source": [
    "centered_price = reviews.price - reviews.price.mean()\n",
    "\n",
    "# Check your answer\n",
    "q4.check()"
   ]
  },
  {
   "cell_type": "code",
   "execution_count": 9,
   "id": "04ca85a9",
   "metadata": {
    "execution": {
     "iopub.execute_input": "2025-08-08T19:05:47.087722Z",
     "iopub.status.busy": "2025-08-08T19:05:47.087411Z",
     "iopub.status.idle": "2025-08-08T19:05:47.091014Z",
     "shell.execute_reply": "2025-08-08T19:05:47.090169Z"
    },
    "papermill": {
     "duration": 0.012208,
     "end_time": "2025-08-08T19:05:47.092468",
     "exception": false,
     "start_time": "2025-08-08T19:05:47.080260",
     "status": "completed"
    },
    "tags": []
   },
   "outputs": [],
   "source": [
    "#q4.hint()\n",
    "#q4.solution()"
   ]
  },
  {
   "cell_type": "markdown",
   "id": "07bd0664",
   "metadata": {
    "papermill": {
     "duration": 0.005119,
     "end_time": "2025-08-08T19:05:47.103126",
     "exception": false,
     "start_time": "2025-08-08T19:05:47.098007",
     "status": "completed"
    },
    "tags": []
   },
   "source": [
    "## 5.\n",
    "I'm an economical wine buyer. Which wine is the \"best bargain\"? Create a variable `bargain_wine` with the title of the wine with the highest points-to-price ratio in the dataset."
   ]
  },
  {
   "cell_type": "code",
   "execution_count": 10,
   "id": "d940b860",
   "metadata": {
    "execution": {
     "iopub.execute_input": "2025-08-08T19:05:47.115910Z",
     "iopub.status.busy": "2025-08-08T19:05:47.115070Z",
     "iopub.status.idle": "2025-08-08T19:05:47.159793Z",
     "shell.execute_reply": "2025-08-08T19:05:47.158867Z"
    },
    "papermill": {
     "duration": 0.052679,
     "end_time": "2025-08-08T19:05:47.161207",
     "exception": false,
     "start_time": "2025-08-08T19:05:47.108528",
     "status": "completed"
    },
    "tags": []
   },
   "outputs": [
    {
     "data": {
      "application/javascript": [
       "parent.postMessage({\"jupyterEvent\": \"custom.exercise_interaction\", \"data\": {\"outcomeType\": 1, \"valueTowardsCompletion\": 0.14285714285714285, \"interactionType\": 1, \"questionType\": 2, \"questionId\": \"5_BargainWine\", \"learnToolsVersion\": \"0.3.5\", \"failureMessage\": \"\", \"exceptionClass\": \"\", \"trace\": \"\"}}, \"*\")"
      ],
      "text/plain": [
       "<IPython.core.display.Javascript object>"
      ]
     },
     "metadata": {},
     "output_type": "display_data"
    },
    {
     "data": {
      "text/markdown": [
       "<span style=\"color:#33cc33\">Correct</span>"
      ],
      "text/plain": [
       "Correct"
      ]
     },
     "metadata": {},
     "output_type": "display_data"
    }
   ],
   "source": [
    "points_per_price = reviews.points / reviews.price\n",
    "\n",
    "best_index = points_per_price.idxmax()\n",
    "\n",
    "bargain_wine = reviews.loc[best_index, 'title']\n",
    "\n",
    "# Check your answer\n",
    "q5.check()"
   ]
  },
  {
   "cell_type": "code",
   "execution_count": 11,
   "id": "1f35f869",
   "metadata": {
    "execution": {
     "iopub.execute_input": "2025-08-08T19:05:47.174682Z",
     "iopub.status.busy": "2025-08-08T19:05:47.174068Z",
     "iopub.status.idle": "2025-08-08T19:05:47.177762Z",
     "shell.execute_reply": "2025-08-08T19:05:47.176915Z"
    },
    "papermill": {
     "duration": 0.011429,
     "end_time": "2025-08-08T19:05:47.179232",
     "exception": false,
     "start_time": "2025-08-08T19:05:47.167803",
     "status": "completed"
    },
    "tags": []
   },
   "outputs": [],
   "source": [
    "#q5.hint()\n",
    "#q5.solution()"
   ]
  },
  {
   "cell_type": "markdown",
   "id": "f560e156",
   "metadata": {
    "papermill": {
     "duration": 0.005167,
     "end_time": "2025-08-08T19:05:47.190029",
     "exception": false,
     "start_time": "2025-08-08T19:05:47.184862",
     "status": "completed"
    },
    "tags": []
   },
   "source": [
    "## 6.\n",
    "There are only so many words you can use when describing a bottle of wine. Is a wine more likely to be \"tropical\" or \"fruity\"? Create a Series `descriptor_counts` counting how many times each of these two words appears in the `description` column in the dataset. (For simplicity, let's ignore the capitalized versions of these words.)"
   ]
  },
  {
   "cell_type": "code",
   "execution_count": 12,
   "id": "c2ff018b",
   "metadata": {
    "execution": {
     "iopub.execute_input": "2025-08-08T19:05:47.202313Z",
     "iopub.status.busy": "2025-08-08T19:05:47.201444Z",
     "iopub.status.idle": "2025-08-08T19:05:47.391660Z",
     "shell.execute_reply": "2025-08-08T19:05:47.390774Z"
    },
    "papermill": {
     "duration": 0.197682,
     "end_time": "2025-08-08T19:05:47.393038",
     "exception": false,
     "start_time": "2025-08-08T19:05:47.195356",
     "status": "completed"
    },
    "tags": []
   },
   "outputs": [
    {
     "data": {
      "application/javascript": [
       "parent.postMessage({\"jupyterEvent\": \"custom.exercise_interaction\", \"data\": {\"outcomeType\": 1, \"valueTowardsCompletion\": 0.14285714285714285, \"interactionType\": 1, \"questionType\": 1, \"questionId\": \"6_DescriptorCounts\", \"learnToolsVersion\": \"0.3.5\", \"failureMessage\": \"\", \"exceptionClass\": \"\", \"trace\": \"\"}}, \"*\")"
      ],
      "text/plain": [
       "<IPython.core.display.Javascript object>"
      ]
     },
     "metadata": {},
     "output_type": "display_data"
    },
    {
     "data": {
      "text/markdown": [
       "<span style=\"color:#33cc33\">Correct</span>"
      ],
      "text/plain": [
       "Correct"
      ]
     },
     "metadata": {},
     "output_type": "display_data"
    }
   ],
   "source": [
    "descriptor_counts = pd.Series({\n",
    "    'tropical' : reviews.description.str.contains('tropical').sum(),\n",
    "    'fruity' : reviews.description.str.contains('fruity').sum()\n",
    "})\n",
    "# Check your answer\n",
    "q6.check()"
   ]
  },
  {
   "cell_type": "code",
   "execution_count": 13,
   "id": "d4117691",
   "metadata": {
    "execution": {
     "iopub.execute_input": "2025-08-08T19:05:47.405694Z",
     "iopub.status.busy": "2025-08-08T19:05:47.405008Z",
     "iopub.status.idle": "2025-08-08T19:05:47.408298Z",
     "shell.execute_reply": "2025-08-08T19:05:47.407732Z"
    },
    "papermill": {
     "duration": 0.010888,
     "end_time": "2025-08-08T19:05:47.409546",
     "exception": false,
     "start_time": "2025-08-08T19:05:47.398658",
     "status": "completed"
    },
    "tags": []
   },
   "outputs": [],
   "source": [
    "#q6.hint()\n",
    "#q6.solution()"
   ]
  },
  {
   "cell_type": "markdown",
   "id": "91158d66",
   "metadata": {
    "papermill": {
     "duration": 0.005348,
     "end_time": "2025-08-08T19:05:47.420595",
     "exception": false,
     "start_time": "2025-08-08T19:05:47.415247",
     "status": "completed"
    },
    "tags": []
   },
   "source": [
    "## 7.\n",
    "We'd like to host these wine reviews on our website, but a rating system ranging from 80 to 100 points is too hard to understand - we'd like to translate them into simple star ratings. A score of 95 or higher counts as 3 stars, a score of at least 85 but less than 95 is 2 stars. Any other score is 1 star.\n",
    "\n",
    "Also, the Canadian Vintners Association bought a lot of ads on the site, so any wines from Canada should automatically get 3 stars, regardless of points.\n",
    "\n",
    "Create a series `star_ratings` with the number of stars corresponding to each review in the dataset."
   ]
  },
  {
   "cell_type": "code",
   "execution_count": 14,
   "id": "a098dded",
   "metadata": {
    "execution": {
     "iopub.execute_input": "2025-08-08T19:05:47.433055Z",
     "iopub.status.busy": "2025-08-08T19:05:47.432743Z",
     "iopub.status.idle": "2025-08-08T19:05:49.665447Z",
     "shell.execute_reply": "2025-08-08T19:05:49.664667Z"
    },
    "papermill": {
     "duration": 2.240466,
     "end_time": "2025-08-08T19:05:49.666834",
     "exception": false,
     "start_time": "2025-08-08T19:05:47.426368",
     "status": "completed"
    },
    "tags": []
   },
   "outputs": [
    {
     "data": {
      "application/javascript": [
       "parent.postMessage({\"jupyterEvent\": \"custom.exercise_interaction\", \"data\": {\"outcomeType\": 1, \"valueTowardsCompletion\": 0.14285714285714285, \"interactionType\": 1, \"questionType\": 1, \"questionId\": \"7_StarRatings\", \"learnToolsVersion\": \"0.3.5\", \"failureMessage\": \"\", \"exceptionClass\": \"\", \"trace\": \"\"}}, \"*\")"
      ],
      "text/plain": [
       "<IPython.core.display.Javascript object>"
      ]
     },
     "metadata": {},
     "output_type": "display_data"
    },
    {
     "data": {
      "text/markdown": [
       "<span style=\"color:#33cc33\">Correct</span>"
      ],
      "text/plain": [
       "Correct"
      ]
     },
     "metadata": {},
     "output_type": "display_data"
    }
   ],
   "source": [
    "def rating(reviews):\n",
    "    if reviews.country ==  'Canada':\n",
    "        return 3\n",
    "    elif reviews.points >= 95:\n",
    "        return 3\n",
    "    elif 85 <= reviews.points < 95:\n",
    "        return 2\n",
    "    else:\n",
    "        return 1\n",
    "star_ratings = reviews.apply(rating, axis = 1)\n",
    "\n",
    "# Check your answer\n",
    "q7.check()"
   ]
  },
  {
   "cell_type": "code",
   "execution_count": 15,
   "id": "6835a758",
   "metadata": {
    "execution": {
     "iopub.execute_input": "2025-08-08T19:05:49.679452Z",
     "iopub.status.busy": "2025-08-08T19:05:49.679155Z",
     "iopub.status.idle": "2025-08-08T19:05:49.683131Z",
     "shell.execute_reply": "2025-08-08T19:05:49.682304Z"
    },
    "papermill": {
     "duration": 0.012091,
     "end_time": "2025-08-08T19:05:49.684643",
     "exception": false,
     "start_time": "2025-08-08T19:05:49.672552",
     "status": "completed"
    },
    "tags": []
   },
   "outputs": [],
   "source": [
    "#q7.hint()\n",
    "#q7.solution()"
   ]
  },
  {
   "cell_type": "markdown",
   "id": "803115f0",
   "metadata": {
    "papermill": {
     "duration": 0.005421,
     "end_time": "2025-08-08T19:05:49.695897",
     "exception": false,
     "start_time": "2025-08-08T19:05:49.690476",
     "status": "completed"
    },
    "tags": []
   },
   "source": [
    "# Keep going\n",
    "Continue to **[grouping and sorting](https://www.kaggle.com/residentmario/grouping-and-sorting)**."
   ]
  },
  {
   "cell_type": "markdown",
   "id": "4d255b46",
   "metadata": {
    "papermill": {
     "duration": 0.005366,
     "end_time": "2025-08-08T19:05:49.706892",
     "exception": false,
     "start_time": "2025-08-08T19:05:49.701526",
     "status": "completed"
    },
    "tags": []
   },
   "source": [
    "---\n",
    "\n",
    "\n",
    "\n",
    "\n",
    "*Have questions or comments? Visit the [course discussion forum](https://www.kaggle.com/learn/pandas/discussion) to chat with other learners.*"
   ]
  }
 ],
 "metadata": {
  "kaggle": {
   "accelerator": "none",
   "dataSources": [
    {
     "datasetId": 655,
     "sourceId": 1252,
     "sourceType": "datasetVersion"
    },
    {
     "datasetId": 2321,
     "sourceId": 3919,
     "sourceType": "datasetVersion"
    },
    {
     "datasetId": 2894,
     "sourceId": 4877,
     "sourceType": "datasetVersion"
    },
    {
     "datasetId": 3491,
     "sourceId": 5624,
     "sourceType": "datasetVersion"
    },
    {
     "datasetId": 1442,
     "sourceId": 8172,
     "sourceType": "datasetVersion"
    },
    {
     "datasetId": 9366,
     "sourceId": 13206,
     "sourceType": "datasetVersion"
    },
    {
     "datasetId": 179555,
     "sourceId": 403916,
     "sourceType": "datasetVersion"
    },
    {
     "datasetId": 4549,
     "sourceId": 466349,
     "sourceType": "datasetVersion"
    },
    {
     "datasetId": 2478,
     "sourceId": 1151655,
     "sourceType": "datasetVersion"
    },
    {
     "datasetId": 10128,
     "sourceId": 5438389,
     "sourceType": "datasetVersion"
    }
   ],
   "isGpuEnabled": false,
   "isInternetEnabled": false,
   "language": "python",
   "sourceType": "notebook"
  },
  "kernelspec": {
   "display_name": "Python 3",
   "language": "python",
   "name": "python3"
  },
  "language_info": {
   "codemirror_mode": {
    "name": "ipython",
    "version": 3
   },
   "file_extension": ".py",
   "mimetype": "text/x-python",
   "name": "python",
   "nbconvert_exporter": "python",
   "pygments_lexer": "ipython3",
   "version": "3.11.13"
  },
  "papermill": {
   "default_parameters": {},
   "duration": 14.887438,
   "end_time": "2025-08-08T19:05:50.231835",
   "environment_variables": {},
   "exception": null,
   "input_path": "__notebook__.ipynb",
   "output_path": "__notebook__.ipynb",
   "parameters": {},
   "start_time": "2025-08-08T19:05:35.344397",
   "version": "2.6.0"
  }
 },
 "nbformat": 4,
 "nbformat_minor": 5
}
