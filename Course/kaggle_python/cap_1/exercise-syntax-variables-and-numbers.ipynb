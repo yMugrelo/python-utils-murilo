{
 "cells": [
  {
   "cell_type": "markdown",
   "id": "afaff4c4",
   "metadata": {
    "papermill": {
     "duration": 0.005676,
     "end_time": "2025-07-26T15:36:55.838847",
     "exception": false,
     "start_time": "2025-07-26T15:36:55.833171",
     "status": "completed"
    },
    "tags": []
   },
   "source": [
    "**This notebook is an exercise in the [Python](https://www.kaggle.com/learn/python) course.  You can reference the tutorial at [this link](https://www.kaggle.com/colinmorris/hello-python).**\n",
    "\n",
    "---\n"
   ]
  },
  {
   "cell_type": "markdown",
   "id": "c33b8a57",
   "metadata": {
    "papermill": {
     "duration": 0.00482,
     "end_time": "2025-07-26T15:36:55.848703",
     "exception": false,
     "start_time": "2025-07-26T15:36:55.843883",
     "status": "completed"
    },
    "tags": []
   },
   "source": [
    "Welcome to your first set of Python coding problems.  If this is your first time using Kaggle Notebooks, welcome! \n",
    "\n",
    "Notebooks are composed of blocks (called \"cells\") of text and code. Each of these is editable, though you'll mainly be editing the code cells to answer some questions.\n",
    "\n",
    "To get started, try running the code cell below (by pressing the ► button, or clicking on the cell and pressing ctrl+enter on your keyboard)."
   ]
  },
  {
   "cell_type": "code",
   "execution_count": 1,
   "id": "e7368fd6",
   "metadata": {
    "execution": {
     "iopub.execute_input": "2025-07-26T15:36:55.859150Z",
     "iopub.status.busy": "2025-07-26T15:36:55.858842Z",
     "iopub.status.idle": "2025-07-26T15:36:55.868629Z",
     "shell.execute_reply": "2025-07-26T15:36:55.867150Z"
    },
    "papermill": {
     "duration": 0.017555,
     "end_time": "2025-07-26T15:36:55.870850",
     "exception": false,
     "start_time": "2025-07-26T15:36:55.853295",
     "status": "completed"
    },
    "tags": []
   },
   "outputs": [
    {
     "name": "stdout",
     "output_type": "stream",
     "text": [
      "You've successfully run some Python code\n",
      "Congratulations!\n"
     ]
    }
   ],
   "source": [
    "print(\"You've successfully run some Python code\")\n",
    "print(\"Congratulations!\")"
   ]
  },
  {
   "cell_type": "code",
   "execution_count": null,
   "id": "98e094aa",
   "metadata": {
    "papermill": {
     "duration": 0.005084,
     "end_time": "2025-07-26T15:36:55.882741",
     "exception": false,
     "start_time": "2025-07-26T15:36:55.877657",
     "status": "completed"
    },
    "tags": []
   },
   "outputs": [],
   "source": []
  },
  {
   "cell_type": "markdown",
   "id": "a6cc1a5f",
   "metadata": {
    "papermill": {
     "duration": 0.004909,
     "end_time": "2025-07-26T15:36:55.893041",
     "exception": false,
     "start_time": "2025-07-26T15:36:55.888132",
     "status": "completed"
    },
    "tags": []
   },
   "source": [
    "Try adding another line of code in the cell above and re-running it. \n",
    "\n",
    "Now let's get a little fancier:  Add a new code cell by clicking on an existing code cell, hitting the escape key, and then hitting the `a` or `b` key.  The `a` key will add a cell above the current cell, and `b` adds a cell below.\n",
    "\n",
    "Great! Now you know how to use Notebooks.\n",
    "\n",
    "Each hands-on exercise starts by setting up our feedback and code checking mechanism. Run the code cell below to do that. Then you'll be ready to move on to question 0."
   ]
  },
  {
   "cell_type": "code",
   "execution_count": 2,
   "id": "bbf3fe8a",
   "metadata": {
    "_kg_hide-input": true,
    "_kg_hide-output": true,
    "execution": {
     "iopub.execute_input": "2025-07-26T15:36:55.904282Z",
     "iopub.status.busy": "2025-07-26T15:36:55.903939Z",
     "iopub.status.idle": "2025-07-26T15:36:58.088242Z",
     "shell.execute_reply": "2025-07-26T15:36:58.087118Z"
    },
    "papermill": {
     "duration": 2.19247,
     "end_time": "2025-07-26T15:36:58.090249",
     "exception": false,
     "start_time": "2025-07-26T15:36:55.897779",
     "status": "completed"
    },
    "tags": []
   },
   "outputs": [
    {
     "name": "stdout",
     "output_type": "stream",
     "text": [
      "Setup complete! You're ready to start question 0.\n"
     ]
    }
   ],
   "source": [
    "from learntools.core import binder; binder.bind(globals())\n",
    "from learntools.python.ex1 import *\n",
    "print(\"Setup complete! You're ready to start question 0.\")"
   ]
  },
  {
   "cell_type": "markdown",
   "id": "dd8f97c2",
   "metadata": {
    "papermill": {
     "duration": 0.004416,
     "end_time": "2025-07-26T15:36:58.099745",
     "exception": false,
     "start_time": "2025-07-26T15:36:58.095329",
     "status": "completed"
    },
    "tags": []
   },
   "source": [
    "# 0.\n",
    "\n",
    "*This is a silly question intended as an introduction to the format we use for hands-on exercises throughout all Kaggle courses.*\n",
    "\n",
    "**What is your favorite color? **\n",
    "\n",
    "To complete this question, create a variable called `color` in the cell below with an appropriate value. The function call `q0.check()` (which we've already provided in the cell below) will check your answer."
   ]
  },
  {
   "cell_type": "code",
   "execution_count": 3,
   "id": "12bb90f5",
   "metadata": {
    "execution": {
     "iopub.execute_input": "2025-07-26T15:36:58.111657Z",
     "iopub.status.busy": "2025-07-26T15:36:58.111064Z",
     "iopub.status.idle": "2025-07-26T15:36:58.120766Z",
     "shell.execute_reply": "2025-07-26T15:36:58.119634Z"
    },
    "papermill": {
     "duration": 0.017665,
     "end_time": "2025-07-26T15:36:58.122177",
     "exception": false,
     "start_time": "2025-07-26T15:36:58.104512",
     "status": "completed"
    },
    "tags": []
   },
   "outputs": [
    {
     "data": {
      "application/javascript": [
       "parent.postMessage({\"jupyterEvent\": \"custom.exercise_interaction\", \"data\": {\"outcomeType\": 1, \"valueTowardsCompletion\": 0.25, \"interactionType\": 1, \"questionType\": 2, \"questionId\": \"0_ExerciseFormatTutorial\", \"learnToolsVersion\": \"0.3.5\", \"failureMessage\": \"\", \"exceptionClass\": \"\", \"trace\": \"\"}}, \"*\")"
      ],
      "text/plain": [
       "<IPython.core.display.Javascript object>"
      ]
     },
     "metadata": {},
     "output_type": "display_data"
    },
    {
     "data": {
      "text/markdown": [
       "<span style=\"color:#33cc33\">Correct:</span> What?! You got it right without needing a hint or anything? Drats. Well hey, you should still continue to the next step to get some practice asking for a hint and checking solutions. (Even though you obviously don't need any help here.)"
      ],
      "text/plain": [
       "Correct: What?! You got it right without needing a hint or anything? Drats. Well hey, you should still continue to the next step to get some practice asking for a hint and checking solutions. (Even though you obviously don't need any help here.)"
      ]
     },
     "metadata": {},
     "output_type": "display_data"
    }
   ],
   "source": [
    "# create a variable called color with an appropriate value on the line below\n",
    "# (Remember, strings in Python must be enclosed in 'single' or \"double\" quotes)\n",
    "color = 'blue'\n",
    "\n",
    "# Check your answer\n",
    "q0.check()"
   ]
  },
  {
   "cell_type": "markdown",
   "id": "b1ff4009",
   "metadata": {
    "papermill": {
     "duration": 0.005632,
     "end_time": "2025-07-26T15:36:58.132971",
     "exception": false,
     "start_time": "2025-07-26T15:36:58.127339",
     "status": "completed"
    },
    "tags": []
   },
   "source": [
    "Didn't get the right answer? How do you not even know your own favorite color?!\n",
    "\n",
    "Delete the `#` in the line below to make one of the lines run. You can choose between getting a hint or the full answer by choosing which line to remove the `#` from. \n",
    "\n",
    "Removing the `#` is called uncommenting, because it changes that line from a \"comment\" which Python doesn't run to code, which Python does run."
   ]
  },
  {
   "cell_type": "code",
   "execution_count": 4,
   "id": "54465239",
   "metadata": {
    "execution": {
     "iopub.execute_input": "2025-07-26T15:36:58.144002Z",
     "iopub.status.busy": "2025-07-26T15:36:58.143670Z",
     "iopub.status.idle": "2025-07-26T15:36:58.153883Z",
     "shell.execute_reply": "2025-07-26T15:36:58.152860Z"
    },
    "papermill": {
     "duration": 0.017606,
     "end_time": "2025-07-26T15:36:58.155445",
     "exception": false,
     "start_time": "2025-07-26T15:36:58.137839",
     "status": "completed"
    },
    "tags": []
   },
   "outputs": [
    {
     "data": {
      "application/javascript": [
       "parent.postMessage({\"jupyterEvent\": \"custom.exercise_interaction\", \"data\": {\"interactionType\": 2, \"questionType\": 2, \"questionId\": \"0_ExerciseFormatTutorial\", \"learnToolsVersion\": \"0.3.5\", \"valueTowardsCompletion\": 0.0, \"failureMessage\": \"\", \"exceptionClass\": \"\", \"trace\": \"\", \"outcomeType\": 4}}, \"*\")"
      ],
      "text/plain": [
       "<IPython.core.display.Javascript object>"
      ]
     },
     "metadata": {},
     "output_type": "display_data"
    },
    {
     "data": {
      "text/markdown": [
       "<span style=\"color:#3366cc\">Hint:</span> Your favorite color rhymes with *glue*."
      ],
      "text/plain": [
       "Hint: Your favorite color rhymes with *glue*."
      ]
     },
     "metadata": {},
     "output_type": "display_data"
    },
    {
     "data": {
      "application/javascript": [
       "parent.postMessage({\"jupyterEvent\": \"custom.exercise_interaction\", \"data\": {\"interactionType\": 3, \"questionType\": 2, \"questionId\": \"0_ExerciseFormatTutorial\", \"learnToolsVersion\": \"0.3.5\", \"valueTowardsCompletion\": 0.0, \"failureMessage\": \"\", \"exceptionClass\": \"\", \"trace\": \"\", \"outcomeType\": 4}}, \"*\")"
      ],
      "text/plain": [
       "<IPython.core.display.Javascript object>"
      ]
     },
     "metadata": {},
     "output_type": "display_data"
    },
    {
     "data": {
      "text/markdown": [
       "<span style=\"color:#33cc99\">Solution:</span> \n",
       "```python\n",
       "color = \"blue\"\n",
       "```"
      ],
      "text/plain": [
       "Solution: \n",
       "```python\n",
       "color = \"blue\"\n",
       "```"
      ]
     },
     "metadata": {},
     "output_type": "display_data"
    }
   ],
   "source": [
    "q0.hint()\n",
    "q0.solution()"
   ]
  },
  {
   "cell_type": "markdown",
   "id": "2282125e",
   "metadata": {
    "papermill": {
     "duration": 0.005036,
     "end_time": "2025-07-26T15:36:58.166629",
     "exception": false,
     "start_time": "2025-07-26T15:36:58.161593",
     "status": "completed"
    },
    "tags": []
   },
   "source": [
    "The upcoming questions work the same way. The only thing that will change are the question numbers. For the next question, you'll call `q1.check()`, `q1.hint()`, `q1.solution()`, for question 2, you'll call `q2.check()`, and so on."
   ]
  },
  {
   "cell_type": "markdown",
   "id": "53ab9b5f",
   "metadata": {
    "papermill": {
     "duration": 0.005165,
     "end_time": "2025-07-26T15:36:58.177179",
     "exception": false,
     "start_time": "2025-07-26T15:36:58.172014",
     "status": "completed"
    },
    "tags": []
   },
   "source": [
    "<hr/>\n",
    "\n",
    "# 1.\n",
    "\n",
    "Complete the code below. In case it's helpful, here is the table of available arithmetic operations:\n",
    "\n",
    "\n",
    "\n",
    "| Operator     | Name           | Description                                            |\n",
    "|--------------|----------------|--------------------------------------------------------|\n",
    "| ``a + b``    | Addition       | Sum of ``a`` and ``b``                                 |\n",
    "| ``a - b``    | Subtraction    | Difference of ``a`` and ``b``                          |\n",
    "| ``a * b``    | Multiplication | Product of ``a`` and ``b``                             |\n",
    "| ``a / b``    | True division  | Quotient of ``a`` and ``b``                            |\n",
    "| ``a // b``   | Floor division | Quotient of ``a`` and ``b``, removing fractional parts |\n",
    "| ``a % b``    | Modulus        | Integer remainder after division of ``a`` by ``b``     |\n",
    "| ``a ** b``   | Exponentiation | ``a`` raised to the power of ``b``                     |\n",
    "| ``-a``       | Negation       | The negative of ``a``                                  |\n",
    "\n",
    "<span style=\"display:none\"></span>\n"
   ]
  },
  {
   "cell_type": "code",
   "execution_count": 5,
   "id": "5412100b",
   "metadata": {
    "execution": {
     "iopub.execute_input": "2025-07-26T15:36:58.190268Z",
     "iopub.status.busy": "2025-07-26T15:36:58.189976Z",
     "iopub.status.idle": "2025-07-26T15:36:58.198089Z",
     "shell.execute_reply": "2025-07-26T15:36:58.197151Z"
    },
    "papermill": {
     "duration": 0.016261,
     "end_time": "2025-07-26T15:36:58.199793",
     "exception": false,
     "start_time": "2025-07-26T15:36:58.183532",
     "status": "completed"
    },
    "tags": []
   },
   "outputs": [
    {
     "data": {
      "application/javascript": [
       "parent.postMessage({\"jupyterEvent\": \"custom.exercise_interaction\", \"data\": {\"outcomeType\": 1, \"valueTowardsCompletion\": 0.25, \"interactionType\": 1, \"questionType\": 1, \"questionId\": \"1_CircleArea\", \"learnToolsVersion\": \"0.3.5\", \"failureMessage\": \"\", \"exceptionClass\": \"\", \"trace\": \"\"}}, \"*\")"
      ],
      "text/plain": [
       "<IPython.core.display.Javascript object>"
      ]
     },
     "metadata": {},
     "output_type": "display_data"
    },
    {
     "data": {
      "text/markdown": [
       "<span style=\"color:#33cc33\">Correct</span>"
      ],
      "text/plain": [
       "Correct"
      ]
     },
     "metadata": {},
     "output_type": "display_data"
    }
   ],
   "source": [
    "pi = 3.14159 # approximate\n",
    "diameter = 3\n",
    "\n",
    "# Create a variable called 'radius' equal to half the diameter\n",
    "radius = float(diameter/2)\n",
    "\n",
    "# Create a variable called 'area', using the formula for the area of a circle: pi times the radius squared\n",
    "area = float(pi * radius ** 2)\n",
    "\n",
    "# Check your answer\n",
    "q1.check()"
   ]
  },
  {
   "cell_type": "code",
   "execution_count": 6,
   "id": "d4a0bfdf",
   "metadata": {
    "execution": {
     "iopub.execute_input": "2025-07-26T15:36:58.212233Z",
     "iopub.status.busy": "2025-07-26T15:36:58.211922Z",
     "iopub.status.idle": "2025-07-26T15:36:58.216429Z",
     "shell.execute_reply": "2025-07-26T15:36:58.215347Z"
    },
    "papermill": {
     "duration": 0.012711,
     "end_time": "2025-07-26T15:36:58.218173",
     "exception": false,
     "start_time": "2025-07-26T15:36:58.205462",
     "status": "completed"
    },
    "tags": []
   },
   "outputs": [],
   "source": [
    "# Uncomment and run the lines below if you need help.\n",
    "#q1.hint()\n",
    "#q1.solution()"
   ]
  },
  {
   "cell_type": "markdown",
   "id": "98ae3c2f",
   "metadata": {
    "papermill": {
     "duration": 0.005142,
     "end_time": "2025-07-26T15:36:58.229057",
     "exception": false,
     "start_time": "2025-07-26T15:36:58.223915",
     "status": "completed"
    },
    "tags": []
   },
   "source": [
    "<hr/>\n",
    "\n",
    "# 2.\n",
    "\n",
    "Add code to the following cell to swap variables `a` and `b` (so that `a` refers to the object previously referred to by `b` and vice versa)."
   ]
  },
  {
   "cell_type": "code",
   "execution_count": 7,
   "id": "cd4d2842",
   "metadata": {
    "execution": {
     "iopub.execute_input": "2025-07-26T15:36:58.241108Z",
     "iopub.status.busy": "2025-07-26T15:36:58.240806Z",
     "iopub.status.idle": "2025-07-26T15:36:58.248995Z",
     "shell.execute_reply": "2025-07-26T15:36:58.248119Z"
    },
    "papermill": {
     "duration": 0.016089,
     "end_time": "2025-07-26T15:36:58.250463",
     "exception": false,
     "start_time": "2025-07-26T15:36:58.234374",
     "status": "completed"
    },
    "tags": []
   },
   "outputs": [
    {
     "data": {
      "application/javascript": [
       "parent.postMessage({\"jupyterEvent\": \"custom.exercise_interaction\", \"data\": {\"outcomeType\": 1, \"valueTowardsCompletion\": 0.25, \"interactionType\": 1, \"questionType\": 2, \"questionId\": \"2_VariableSwap\", \"learnToolsVersion\": \"0.3.5\", \"failureMessage\": \"\", \"exceptionClass\": \"\", \"trace\": \"\"}}, \"*\")"
      ],
      "text/plain": [
       "<IPython.core.display.Javascript object>"
      ]
     },
     "metadata": {},
     "output_type": "display_data"
    },
    {
     "data": {
      "text/markdown": [
       "<span style=\"color:#33cc33\">Correct:</span> \n",
       "\n",
       "The most straightforward solution is to use a third variable to temporarily store one of the old values. e.g.:\n",
       "\n",
       "    tmp = a\n",
       "    a = b\n",
       "    b = tmp\n",
       "\n",
       "If you've read lots of Python code, you might have seen the following trick to swap two variables in one line:\n",
       "\n",
       "    a, b = b, a\n",
       "\n",
       "We'll demystify this bit of Python magic later when we talk about *tuples*."
      ],
      "text/plain": [
       "Correct: \n",
       "\n",
       "The most straightforward solution is to use a third variable to temporarily store one of the old values. e.g.:\n",
       "\n",
       "    tmp = a\n",
       "    a = b\n",
       "    b = tmp\n",
       "\n",
       "If you've read lots of Python code, you might have seen the following trick to swap two variables in one line:\n",
       "\n",
       "    a, b = b, a\n",
       "\n",
       "We'll demystify this bit of Python magic later when we talk about *tuples*."
      ]
     },
     "metadata": {},
     "output_type": "display_data"
    }
   ],
   "source": [
    "########### Setup code - don't touch this part ######################\n",
    "# If you're curious, these are examples of lists. We'll talk about \n",
    "# them in depth a few lessons from now. For now, just know that they're\n",
    "# yet another type of Python object, like int or float.\n",
    "a = [1, 2, 3]\n",
    "b = [3, 2, 1]\n",
    "q2.store_original_ids()\n",
    "######################################################################\n",
    "\n",
    "o_a = a\n",
    "a = b\n",
    "b = o_a\n",
    "\n",
    "######################################################################\n",
    "\n",
    "# Check your answer\n",
    "q2.check()"
   ]
  },
  {
   "cell_type": "code",
   "execution_count": 8,
   "id": "4db1bcc4",
   "metadata": {
    "execution": {
     "iopub.execute_input": "2025-07-26T15:36:58.263956Z",
     "iopub.status.busy": "2025-07-26T15:36:58.263654Z",
     "iopub.status.idle": "2025-07-26T15:36:58.268121Z",
     "shell.execute_reply": "2025-07-26T15:36:58.267112Z"
    },
    "papermill": {
     "duration": 0.013165,
     "end_time": "2025-07-26T15:36:58.269695",
     "exception": false,
     "start_time": "2025-07-26T15:36:58.256530",
     "status": "completed"
    },
    "tags": []
   },
   "outputs": [],
   "source": [
    "#q2.hint()"
   ]
  },
  {
   "cell_type": "code",
   "execution_count": 9,
   "id": "ccf62de9",
   "metadata": {
    "execution": {
     "iopub.execute_input": "2025-07-26T15:36:58.282691Z",
     "iopub.status.busy": "2025-07-26T15:36:58.282365Z",
     "iopub.status.idle": "2025-07-26T15:36:58.286609Z",
     "shell.execute_reply": "2025-07-26T15:36:58.285730Z"
    },
    "papermill": {
     "duration": 0.012583,
     "end_time": "2025-07-26T15:36:58.288164",
     "exception": false,
     "start_time": "2025-07-26T15:36:58.275581",
     "status": "completed"
    },
    "tags": []
   },
   "outputs": [],
   "source": [
    "#q2.solution()"
   ]
  },
  {
   "cell_type": "markdown",
   "id": "9f7ba570",
   "metadata": {
    "papermill": {
     "duration": 0.005582,
     "end_time": "2025-07-26T15:36:58.299568",
     "exception": false,
     "start_time": "2025-07-26T15:36:58.293986",
     "status": "completed"
    },
    "tags": []
   },
   "source": [
    "<hr/>\n",
    "\n",
    "# 3a.\n",
    "\n",
    "Add parentheses to the following expression so that it evaluates to 1."
   ]
  },
  {
   "cell_type": "code",
   "execution_count": 10,
   "id": "36be5418",
   "metadata": {
    "execution": {
     "iopub.execute_input": "2025-07-26T15:36:58.312862Z",
     "iopub.status.busy": "2025-07-26T15:36:58.312543Z",
     "iopub.status.idle": "2025-07-26T15:36:58.318337Z",
     "shell.execute_reply": "2025-07-26T15:36:58.317415Z"
    },
    "papermill": {
     "duration": 0.014419,
     "end_time": "2025-07-26T15:36:58.319856",
     "exception": false,
     "start_time": "2025-07-26T15:36:58.305437",
     "status": "completed"
    },
    "tags": []
   },
   "outputs": [
    {
     "data": {
      "text/plain": [
       "1"
      ]
     },
     "execution_count": 10,
     "metadata": {},
     "output_type": "execute_result"
    }
   ],
   "source": [
    "(5 - 3) // 2"
   ]
  },
  {
   "cell_type": "code",
   "execution_count": 11,
   "id": "fe8d61c6",
   "metadata": {
    "execution": {
     "iopub.execute_input": "2025-07-26T15:36:58.333013Z",
     "iopub.status.busy": "2025-07-26T15:36:58.332737Z",
     "iopub.status.idle": "2025-07-26T15:36:58.336937Z",
     "shell.execute_reply": "2025-07-26T15:36:58.336078Z"
    },
    "papermill": {
     "duration": 0.012568,
     "end_time": "2025-07-26T15:36:58.338529",
     "exception": false,
     "start_time": "2025-07-26T15:36:58.325961",
     "status": "completed"
    },
    "tags": []
   },
   "outputs": [],
   "source": [
    "#q3.a.hint()"
   ]
  },
  {
   "cell_type": "code",
   "execution_count": 12,
   "id": "0aec2a59",
   "metadata": {
    "execution": {
     "iopub.execute_input": "2025-07-26T15:36:58.352112Z",
     "iopub.status.busy": "2025-07-26T15:36:58.351741Z",
     "iopub.status.idle": "2025-07-26T15:36:58.360074Z",
     "shell.execute_reply": "2025-07-26T15:36:58.359028Z"
    },
    "papermill": {
     "duration": 0.01701,
     "end_time": "2025-07-26T15:36:58.361757",
     "exception": false,
     "start_time": "2025-07-26T15:36:58.344747",
     "status": "completed"
    },
    "tags": []
   },
   "outputs": [
    {
     "data": {
      "application/javascript": [
       "parent.postMessage({\"jupyterEvent\": \"custom.exercise_interaction\", \"data\": {\"interactionType\": 3, \"questionType\": 4, \"questionId\": \"3.1_ArithmeticParensEasy\", \"learnToolsVersion\": \"0.3.5\", \"valueTowardsCompletion\": 0.0, \"failureMessage\": \"\", \"exceptionClass\": \"\", \"trace\": \"\", \"outcomeType\": 4}}, \"*\")"
      ],
      "text/plain": [
       "<IPython.core.display.Javascript object>"
      ]
     },
     "metadata": {},
     "output_type": "display_data"
    },
    {
     "data": {
      "text/markdown": [
       "<span style=\"color:#33cc99\">Solution:</span> \n",
       "```python\n",
       "(5 - 3) // 2\n",
       "```"
      ],
      "text/plain": [
       "Solution: \n",
       "```python\n",
       "(5 - 3) // 2\n",
       "```"
      ]
     },
     "metadata": {},
     "output_type": "display_data"
    }
   ],
   "source": [
    "# Check your answer (Run this code cell to receive credit!)\n",
    "q3.a.solution()"
   ]
  },
  {
   "cell_type": "markdown",
   "id": "30775fcb",
   "metadata": {
    "papermill": {
     "duration": 0.006614,
     "end_time": "2025-07-26T15:36:58.375384",
     "exception": false,
     "start_time": "2025-07-26T15:36:58.368770",
     "status": "completed"
    },
    "tags": []
   },
   "source": [
    "# 3b.  <span title=\"A bit spicy\" style=\"color: darkgreen \">🌶️</span>\n",
    "\n",
    "<small>Questions, like this one, marked a spicy pepper are a bit harder.</small>\n",
    "\n",
    "Add parentheses to the following expression so that it evaluates to 0."
   ]
  },
  {
   "cell_type": "code",
   "execution_count": 13,
   "id": "be5433c6",
   "metadata": {
    "execution": {
     "iopub.execute_input": "2025-07-26T15:36:58.389408Z",
     "iopub.status.busy": "2025-07-26T15:36:58.389123Z",
     "iopub.status.idle": "2025-07-26T15:36:58.395270Z",
     "shell.execute_reply": "2025-07-26T15:36:58.394324Z"
    },
    "papermill": {
     "duration": 0.015419,
     "end_time": "2025-07-26T15:36:58.396898",
     "exception": false,
     "start_time": "2025-07-26T15:36:58.381479",
     "status": "completed"
    },
    "tags": []
   },
   "outputs": [
    {
     "data": {
      "text/plain": [
       "0"
      ]
     },
     "execution_count": 13,
     "metadata": {},
     "output_type": "execute_result"
    }
   ],
   "source": [
    "(8 - (3 * 2)) - (1 + 1)"
   ]
  },
  {
   "cell_type": "code",
   "execution_count": 14,
   "id": "49c3323c",
   "metadata": {
    "execution": {
     "iopub.execute_input": "2025-07-26T15:36:58.411140Z",
     "iopub.status.busy": "2025-07-26T15:36:58.410866Z",
     "iopub.status.idle": "2025-07-26T15:36:58.415331Z",
     "shell.execute_reply": "2025-07-26T15:36:58.414301Z"
    },
    "papermill": {
     "duration": 0.013865,
     "end_time": "2025-07-26T15:36:58.416968",
     "exception": false,
     "start_time": "2025-07-26T15:36:58.403103",
     "status": "completed"
    },
    "tags": []
   },
   "outputs": [],
   "source": [
    "#q3.b.hint()"
   ]
  },
  {
   "cell_type": "code",
   "execution_count": 15,
   "id": "3f8f1c9e",
   "metadata": {
    "execution": {
     "iopub.execute_input": "2025-07-26T15:36:58.431375Z",
     "iopub.status.busy": "2025-07-26T15:36:58.431087Z",
     "iopub.status.idle": "2025-07-26T15:36:58.439960Z",
     "shell.execute_reply": "2025-07-26T15:36:58.438865Z"
    },
    "papermill": {
     "duration": 0.018235,
     "end_time": "2025-07-26T15:36:58.441631",
     "exception": false,
     "start_time": "2025-07-26T15:36:58.423396",
     "status": "completed"
    },
    "tags": []
   },
   "outputs": [
    {
     "data": {
      "application/javascript": [
       "parent.postMessage({\"jupyterEvent\": \"custom.exercise_interaction\", \"data\": {\"interactionType\": 3, \"questionType\": 4, \"questionId\": \"3.2_ArithmeticParensHard\", \"learnToolsVersion\": \"0.3.5\", \"valueTowardsCompletion\": 0.0, \"failureMessage\": \"\", \"exceptionClass\": \"\", \"trace\": \"\", \"outcomeType\": 4}}, \"*\")"
      ],
      "text/plain": [
       "<IPython.core.display.Javascript object>"
      ]
     },
     "metadata": {},
     "output_type": "display_data"
    },
    {
     "data": {
      "text/markdown": [
       "<span style=\"color:#33cc99\">Solution:</span> `(8 - 3) * (2 - (1 + 1))` is one solution. There may be others."
      ],
      "text/plain": [
       "Solution: `(8 - 3) * (2 - (1 + 1))` is one solution. There may be others."
      ]
     },
     "metadata": {},
     "output_type": "display_data"
    }
   ],
   "source": [
    "# Check your answer (Run this code cell to receive credit!)\n",
    "q3.b.solution()"
   ]
  },
  {
   "cell_type": "markdown",
   "id": "55217580",
   "metadata": {
    "papermill": {
     "duration": 0.006685,
     "end_time": "2025-07-26T15:36:58.455023",
     "exception": false,
     "start_time": "2025-07-26T15:36:58.448338",
     "status": "completed"
    },
    "tags": []
   },
   "source": [
    "<hr/>\n",
    "\n",
    "# 4. \n",
    "Alice, Bob and Carol have agreed to pool their Halloween candy and split it evenly among themselves.\n",
    "For the sake of their friendship, any candies left over will be smashed. For example, if they collectively\n",
    "bring home 91 candies, they'll take 30 each and smash 1.\n",
    "\n",
    "Write an arithmetic expression below to calculate how many candies they must smash for a given haul."
   ]
  },
  {
   "cell_type": "code",
   "execution_count": 16,
   "id": "7745416b",
   "metadata": {
    "execution": {
     "iopub.execute_input": "2025-07-26T15:36:58.469293Z",
     "iopub.status.busy": "2025-07-26T15:36:58.469013Z",
     "iopub.status.idle": "2025-07-26T15:36:58.477213Z",
     "shell.execute_reply": "2025-07-26T15:36:58.476087Z"
    },
    "papermill": {
     "duration": 0.01758,
     "end_time": "2025-07-26T15:36:58.479076",
     "exception": false,
     "start_time": "2025-07-26T15:36:58.461496",
     "status": "completed"
    },
    "tags": []
   },
   "outputs": [
    {
     "data": {
      "application/javascript": [
       "parent.postMessage({\"jupyterEvent\": \"custom.exercise_interaction\", \"data\": {\"outcomeType\": 1, \"valueTowardsCompletion\": 0.25, \"interactionType\": 1, \"questionType\": 1, \"questionId\": \"4_CandySplitting\", \"learnToolsVersion\": \"0.3.5\", \"failureMessage\": \"\", \"exceptionClass\": \"\", \"trace\": \"\"}}, \"*\")"
      ],
      "text/plain": [
       "<IPython.core.display.Javascript object>"
      ]
     },
     "metadata": {},
     "output_type": "display_data"
    },
    {
     "data": {
      "text/markdown": [
       "<span style=\"color:#33cc33\">Correct</span>"
      ],
      "text/plain": [
       "Correct"
      ]
     },
     "metadata": {},
     "output_type": "display_data"
    }
   ],
   "source": [
    "# Variables representing the number of candies collected by alice, bob, and carol\n",
    "alice_candies = 121\n",
    "bob_candies = 77\n",
    "carol_candies = 109\n",
    "\n",
    " \n",
    "# involving alice_candies, bob_candies, and carol_candies\n",
    "to_smash = (alice_candies + bob_candies + carol_candies) % 3\n",
    "\n",
    "\n",
    "# Check your answer\n",
    "q4.check()"
   ]
  },
  {
   "cell_type": "code",
   "execution_count": 17,
   "id": "56661b3f",
   "metadata": {
    "execution": {
     "iopub.execute_input": "2025-07-26T15:36:58.494071Z",
     "iopub.status.busy": "2025-07-26T15:36:58.493774Z",
     "iopub.status.idle": "2025-07-26T15:36:58.498422Z",
     "shell.execute_reply": "2025-07-26T15:36:58.497343Z"
    },
    "papermill": {
     "duration": 0.014254,
     "end_time": "2025-07-26T15:36:58.500192",
     "exception": false,
     "start_time": "2025-07-26T15:36:58.485938",
     "status": "completed"
    },
    "tags": []
   },
   "outputs": [],
   "source": [
    "#q4.hint()\n",
    "#q4.solution()"
   ]
  },
  {
   "cell_type": "markdown",
   "id": "a8fb0582",
   "metadata": {
    "papermill": {
     "duration": 0.006585,
     "end_time": "2025-07-26T15:36:58.513857",
     "exception": false,
     "start_time": "2025-07-26T15:36:58.507272",
     "status": "completed"
    },
    "tags": []
   },
   "source": [
    "# Keep Going\n",
    "\n",
    "Next up, you'll **[learn to write new functions and understand functions others write](https://www.kaggle.com/colinmorris/functions-and-getting-help)**. This will make you at least 10 times more productive as a Python programmer. "
   ]
  },
  {
   "cell_type": "markdown",
   "id": "ac735fc8",
   "metadata": {
    "papermill": {
     "duration": 0.006324,
     "end_time": "2025-07-26T15:36:58.526652",
     "exception": false,
     "start_time": "2025-07-26T15:36:58.520328",
     "status": "completed"
    },
    "tags": []
   },
   "source": [
    "---\n",
    "\n",
    "\n",
    "\n",
    "\n",
    "*Have questions or comments? Visit the [course discussion forum](https://www.kaggle.com/learn/python/discussion) to chat with other learners.*"
   ]
  }
 ],
 "metadata": {
  "kaggle": {
   "accelerator": "none",
   "dataSources": [],
   "isGpuEnabled": false,
   "isInternetEnabled": false,
   "language": "python",
   "sourceType": "notebook"
  },
  "kernelspec": {
   "display_name": "Python 3",
   "language": "python",
   "name": "python3"
  },
  "language_info": {
   "codemirror_mode": {
    "name": "ipython",
    "version": 3
   },
   "file_extension": ".py",
   "mimetype": "text/x-python",
   "name": "python",
   "nbconvert_exporter": "python",
   "pygments_lexer": "ipython3",
   "version": "3.11.13"
  },
  "learntools_metadata": {
   "lesson_index": 0,
   "type": "exercise"
  },
  "papermill": {
   "default_parameters": {},
   "duration": 8.699406,
   "end_time": "2025-07-26T15:36:59.154859",
   "environment_variables": {},
   "exception": null,
   "input_path": "__notebook__.ipynb",
   "output_path": "__notebook__.ipynb",
   "parameters": {},
   "start_time": "2025-07-26T15:36:50.455453",
   "version": "2.6.0"
  }
 },
 "nbformat": 4,
 "nbformat_minor": 5
}
