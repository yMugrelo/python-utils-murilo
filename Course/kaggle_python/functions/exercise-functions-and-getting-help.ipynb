{
 "cells": [
  {
   "cell_type": "markdown",
   "id": "dc4939ea",
   "metadata": {
    "papermill": {
     "duration": 0.004628,
     "end_time": "2025-07-26T16:11:19.152065",
     "exception": false,
     "start_time": "2025-07-26T16:11:19.147437",
     "status": "completed"
    },
    "tags": []
   },
   "source": [
    "**This notebook is an exercise in the [Python](https://www.kaggle.com/learn/python) course.  You can reference the tutorial at [this link](https://www.kaggle.com/colinmorris/functions-and-getting-help).**\n",
    "\n",
    "---\n"
   ]
  },
  {
   "cell_type": "markdown",
   "id": "0c33f7c6",
   "metadata": {
    "papermill": {
     "duration": 0.003368,
     "end_time": "2025-07-26T16:11:19.159180",
     "exception": false,
     "start_time": "2025-07-26T16:11:19.155812",
     "status": "completed"
    },
    "tags": []
   },
   "source": [
    "Functions are powerful. Try writing some yourself.\n",
    "\n",
    "As before, don't forget to run the setup code below before jumping into question 1."
   ]
  },
  {
   "cell_type": "code",
   "execution_count": 1,
   "id": "4b72c05b",
   "metadata": {
    "_kg_hide-input": true,
    "_kg_hide-output": true,
    "execution": {
     "iopub.execute_input": "2025-07-26T16:11:19.167225Z",
     "iopub.status.busy": "2025-07-26T16:11:19.166908Z",
     "iopub.status.idle": "2025-07-26T16:11:21.121493Z",
     "shell.execute_reply": "2025-07-26T16:11:21.119775Z"
    },
    "papermill": {
     "duration": 1.961534,
     "end_time": "2025-07-26T16:11:21.124190",
     "exception": false,
     "start_time": "2025-07-26T16:11:19.162656",
     "status": "completed"
    },
    "tags": []
   },
   "outputs": [
    {
     "name": "stdout",
     "output_type": "stream",
     "text": [
      "Setup complete.\n"
     ]
    }
   ],
   "source": [
    "# SETUP. You don't need to worry for now about what this code does or how it works.\n",
    "from learntools.core import binder; binder.bind(globals())\n",
    "from learntools.python.ex2 import *\n",
    "print('Setup complete.')"
   ]
  },
  {
   "cell_type": "markdown",
   "id": "eab91924",
   "metadata": {
    "papermill": {
     "duration": 0.003582,
     "end_time": "2025-07-26T16:11:21.132893",
     "exception": false,
     "start_time": "2025-07-26T16:11:21.129311",
     "status": "completed"
    },
    "tags": []
   },
   "source": [
    "# 1.\n",
    "\n",
    "Complete the body of the following function according to its docstring.\n",
    "\n",
    "HINT: Python has a built-in function `round`."
   ]
  },
  {
   "cell_type": "code",
   "execution_count": 2,
   "id": "0e094ad9",
   "metadata": {
    "execution": {
     "iopub.execute_input": "2025-07-26T16:11:21.141499Z",
     "iopub.status.busy": "2025-07-26T16:11:21.141052Z",
     "iopub.status.idle": "2025-07-26T16:11:21.149767Z",
     "shell.execute_reply": "2025-07-26T16:11:21.148878Z"
    },
    "papermill": {
     "duration": 0.014696,
     "end_time": "2025-07-26T16:11:21.151281",
     "exception": false,
     "start_time": "2025-07-26T16:11:21.136585",
     "status": "completed"
    },
    "tags": []
   },
   "outputs": [
    {
     "data": {
      "application/javascript": [
       "parent.postMessage({\"jupyterEvent\": \"custom.exercise_interaction\", \"data\": {\"outcomeType\": 1, \"valueTowardsCompletion\": 0.16666666666666666, \"interactionType\": 1, \"questionType\": 2, \"questionId\": \"1_RoundFunctionProblem\", \"learnToolsVersion\": \"0.3.5\", \"failureMessage\": \"\", \"exceptionClass\": \"\", \"trace\": \"\"}}, \"*\")"
      ],
      "text/plain": [
       "<IPython.core.display.Javascript object>"
      ]
     },
     "metadata": {},
     "output_type": "display_data"
    },
    {
     "data": {
      "text/markdown": [
       "<span style=\"color:#33cc33\">Correct</span>"
      ],
      "text/plain": [
       "Correct"
      ]
     },
     "metadata": {},
     "output_type": "display_data"
    }
   ],
   "source": [
    "def round_to_two_places(num):\n",
    "    \"\"\"Return the given number rounded to two decimal places. \n",
    "    \n",
    "    >>> round_to_two_places(3.14159)\n",
    "    3.14\n",
    "    \"\"\"\n",
    "    return round(num, 2)\n",
    "\n",
    "\n",
    "    # Replace this body with your own code.\n",
    "    # (\"pass\" is a keyword that does literally nothing. We used it as a placeholder\n",
    "    # because after we begin a code block, Python requires at least one line of code)\n",
    "    pass\n",
    "\n",
    "# Check your answer\n",
    "q1.check()"
   ]
  },
  {
   "cell_type": "code",
   "execution_count": 3,
   "id": "87053961",
   "metadata": {
    "execution": {
     "iopub.execute_input": "2025-07-26T16:11:21.160063Z",
     "iopub.status.busy": "2025-07-26T16:11:21.159720Z",
     "iopub.status.idle": "2025-07-26T16:11:21.163635Z",
     "shell.execute_reply": "2025-07-26T16:11:21.162770Z"
    },
    "papermill": {
     "duration": 0.009995,
     "end_time": "2025-07-26T16:11:21.165156",
     "exception": false,
     "start_time": "2025-07-26T16:11:21.155161",
     "status": "completed"
    },
    "tags": []
   },
   "outputs": [],
   "source": [
    "# Uncomment the following for a hint\n",
    "#q1.hint()\n",
    "# Or uncomment the following to peek at the solution\n",
    "#q1.solution()"
   ]
  },
  {
   "cell_type": "markdown",
   "id": "5649fe09",
   "metadata": {
    "papermill": {
     "duration": 0.003326,
     "end_time": "2025-07-26T16:11:21.172356",
     "exception": false,
     "start_time": "2025-07-26T16:11:21.169030",
     "status": "completed"
    },
    "tags": []
   },
   "source": [
    "# 2.\n",
    "The help for `round` says that `ndigits` (the second argument) may be negative.\n",
    "What do you think will happen when it is? Try some examples in the following cell."
   ]
  },
  {
   "cell_type": "code",
   "execution_count": 4,
   "id": "0196fcda",
   "metadata": {
    "execution": {
     "iopub.execute_input": "2025-07-26T16:11:21.181441Z",
     "iopub.status.busy": "2025-07-26T16:11:21.180779Z",
     "iopub.status.idle": "2025-07-26T16:11:21.186451Z",
     "shell.execute_reply": "2025-07-26T16:11:21.185656Z"
    },
    "papermill": {
     "duration": 0.011767,
     "end_time": "2025-07-26T16:11:21.187736",
     "exception": false,
     "start_time": "2025-07-26T16:11:21.175969",
     "status": "completed"
    },
    "tags": []
   },
   "outputs": [
    {
     "data": {
      "text/plain": [
       "-2"
      ]
     },
     "execution_count": 4,
     "metadata": {},
     "output_type": "execute_result"
    }
   ],
   "source": [
    "# Put your test code here\n",
    "\n",
    "round(-2.5)\n"
   ]
  },
  {
   "cell_type": "markdown",
   "id": "2e041068",
   "metadata": {
    "papermill": {
     "duration": 0.003529,
     "end_time": "2025-07-26T16:11:21.195586",
     "exception": false,
     "start_time": "2025-07-26T16:11:21.192057",
     "status": "completed"
    },
    "tags": []
   },
   "source": [
    "Can you think of a case where this would be useful?  Once you're ready, run the code cell below to see the answer and to receive credit for completing the problem."
   ]
  },
  {
   "cell_type": "code",
   "execution_count": 5,
   "id": "e80af829",
   "metadata": {
    "execution": {
     "iopub.execute_input": "2025-07-26T16:11:21.204461Z",
     "iopub.status.busy": "2025-07-26T16:11:21.204096Z",
     "iopub.status.idle": "2025-07-26T16:11:21.211864Z",
     "shell.execute_reply": "2025-07-26T16:11:21.210971Z"
    },
    "papermill": {
     "duration": 0.013952,
     "end_time": "2025-07-26T16:11:21.213250",
     "exception": false,
     "start_time": "2025-07-26T16:11:21.199298",
     "status": "completed"
    },
    "tags": []
   },
   "outputs": [
    {
     "data": {
      "application/javascript": [
       "parent.postMessage({\"jupyterEvent\": \"custom.exercise_interaction\", \"data\": {\"interactionType\": 3, \"questionType\": 4, \"questionId\": \"2_RoundNdigitsProblem\", \"learnToolsVersion\": \"0.3.5\", \"valueTowardsCompletion\": 0.0, \"failureMessage\": \"\", \"exceptionClass\": \"\", \"trace\": \"\", \"outcomeType\": 4}}, \"*\")"
      ],
      "text/plain": [
       "<IPython.core.display.Javascript object>"
      ]
     },
     "metadata": {},
     "output_type": "display_data"
    },
    {
     "data": {
      "text/markdown": [
       "<span style=\"color:#33cc99\">Solution:</span> As you've seen, `ndigits=-1` rounds to the nearest 10, `ndigits=-2` rounds to the nearest 100 and so on. Where might this be useful? Suppose we're dealing with large numbers:\n",
       "\n",
       "> The area of Finland is 338,424 km²  \n",
       "> The area of Greenland is 2,166,086 km²\n",
       "\n",
       "We probably don't care whether it's really 338,424, or 338,425, or 338,177. All those digits of accuracy are just distracting. We can chop them off by calling `round()` with `ndigits=-3`:\n",
       "\n",
       "> The area of Finland is 338,000 km²  \n",
       "> The area of Greenland is 2,166,000 km²\n",
       "\n",
       "(We'll talk about how we would get the commas later when we talk about string formatting :))\n"
      ],
      "text/plain": [
       "Solution: As you've seen, `ndigits=-1` rounds to the nearest 10, `ndigits=-2` rounds to the nearest 100 and so on. Where might this be useful? Suppose we're dealing with large numbers:\n",
       "\n",
       "> The area of Finland is 338,424 km²  \n",
       "> The area of Greenland is 2,166,086 km²\n",
       "\n",
       "We probably don't care whether it's really 338,424, or 338,425, or 338,177. All those digits of accuracy are just distracting. We can chop them off by calling `round()` with `ndigits=-3`:\n",
       "\n",
       "> The area of Finland is 338,000 km²  \n",
       "> The area of Greenland is 2,166,000 km²\n",
       "\n",
       "(We'll talk about how we would get the commas later when we talk about string formatting :))"
      ]
     },
     "metadata": {},
     "output_type": "display_data"
    }
   ],
   "source": [
    "# Check your answer (Run this code cell to receive credit!)\n",
    "q2.solution()"
   ]
  },
  {
   "cell_type": "markdown",
   "id": "870f6eca",
   "metadata": {
    "papermill": {
     "duration": 0.005459,
     "end_time": "2025-07-26T16:11:21.223839",
     "exception": false,
     "start_time": "2025-07-26T16:11:21.218380",
     "status": "completed"
    },
    "tags": []
   },
   "source": [
    "# 3.\n",
    "\n",
    "In the previous exercise, the candy-sharing friends Alice, Bob and Carol tried to split candies evenly. For the sake of their friendship, any candies left over would be smashed. For example, if they collectively bring home 91 candies, they'll take 30 each and smash 1.\n",
    "\n",
    "Below is a simple function that will calculate the number of candies to smash for *any* number of total candies.\n",
    "\n",
    "Modify it so that it optionally takes a second argument representing the number of friends the candies are being split between. If no second argument is provided, it should assume 3 friends, as before.\n",
    "\n",
    "Update the docstring to reflect this new behaviour."
   ]
  },
  {
   "cell_type": "code",
   "execution_count": 6,
   "id": "d72594ed",
   "metadata": {
    "execution": {
     "iopub.execute_input": "2025-07-26T16:11:21.238642Z",
     "iopub.status.busy": "2025-07-26T16:11:21.238323Z",
     "iopub.status.idle": "2025-07-26T16:11:21.247174Z",
     "shell.execute_reply": "2025-07-26T16:11:21.246378Z"
    },
    "papermill": {
     "duration": 0.019193,
     "end_time": "2025-07-26T16:11:21.249703",
     "exception": false,
     "start_time": "2025-07-26T16:11:21.230510",
     "status": "completed"
    },
    "tags": []
   },
   "outputs": [
    {
     "data": {
      "application/javascript": [
       "parent.postMessage({\"jupyterEvent\": \"custom.exercise_interaction\", \"data\": {\"outcomeType\": 1, \"valueTowardsCompletion\": 0.16666666666666666, \"interactionType\": 1, \"questionType\": 2, \"questionId\": \"3_CandySmashingFunctionProblem\", \"learnToolsVersion\": \"0.3.5\", \"failureMessage\": \"\", \"exceptionClass\": \"\", \"trace\": \"\"}}, \"*\")"
      ],
      "text/plain": [
       "<IPython.core.display.Javascript object>"
      ]
     },
     "metadata": {},
     "output_type": "display_data"
    },
    {
     "data": {
      "text/markdown": [
       "<span style=\"color:#33cc33\">Correct</span>"
      ],
      "text/plain": [
       "Correct"
      ]
     },
     "metadata": {},
     "output_type": "display_data"
    }
   ],
   "source": [
    "def to_smash(total_candies, number_of_friends = 3):\n",
    "    \n",
    "    return total_candies % number_of_friends\n",
    "\n",
    "# Check your answer\n",
    "q3.check()"
   ]
  },
  {
   "cell_type": "code",
   "execution_count": 7,
   "id": "5f170cef",
   "metadata": {
    "execution": {
     "iopub.execute_input": "2025-07-26T16:11:21.265138Z",
     "iopub.status.busy": "2025-07-26T16:11:21.263907Z",
     "iopub.status.idle": "2025-07-26T16:11:21.269031Z",
     "shell.execute_reply": "2025-07-26T16:11:21.268311Z"
    },
    "papermill": {
     "duration": 0.014779,
     "end_time": "2025-07-26T16:11:21.270506",
     "exception": false,
     "start_time": "2025-07-26T16:11:21.255727",
     "status": "completed"
    },
    "tags": []
   },
   "outputs": [],
   "source": [
    "#q3.hint()"
   ]
  },
  {
   "cell_type": "code",
   "execution_count": 8,
   "id": "b4efe756",
   "metadata": {
    "execution": {
     "iopub.execute_input": "2025-07-26T16:11:21.282582Z",
     "iopub.status.busy": "2025-07-26T16:11:21.282256Z",
     "iopub.status.idle": "2025-07-26T16:11:21.286379Z",
     "shell.execute_reply": "2025-07-26T16:11:21.285439Z"
    },
    "papermill": {
     "duration": 0.012555,
     "end_time": "2025-07-26T16:11:21.288068",
     "exception": false,
     "start_time": "2025-07-26T16:11:21.275513",
     "status": "completed"
    },
    "tags": []
   },
   "outputs": [],
   "source": [
    "#q3.solution()"
   ]
  },
  {
   "cell_type": "markdown",
   "id": "1c84a363",
   "metadata": {
    "papermill": {
     "duration": 0.00608,
     "end_time": "2025-07-26T16:11:21.300394",
     "exception": false,
     "start_time": "2025-07-26T16:11:21.294314",
     "status": "completed"
    },
    "tags": []
   },
   "source": [
    "# 4. (Optional)\n",
    "\n",
    "It may not be fun, but reading and understanding error messages will be an important part of your Python career.\n",
    "\n",
    "Each code cell below contains some commented buggy code. For each cell...\n",
    "\n",
    "1. Read the code and predict what you think will happen when it's run.\n",
    "2. Then uncomment the code and run it to see what happens. (**Tip**: In the kernel editor, you can highlight several lines and press `ctrl`+`/` to toggle commenting.)\n",
    "3. Fix the code (so that it accomplishes its intended purpose without throwing an exception)\n",
    "\n",
    "<!-- TODO: should this be autochecked? Delta is probably pretty small. -->"
   ]
  },
  {
   "cell_type": "code",
   "execution_count": 9,
   "id": "98160f3c",
   "metadata": {
    "execution": {
     "iopub.execute_input": "2025-07-26T16:11:21.314273Z",
     "iopub.status.busy": "2025-07-26T16:11:21.313709Z",
     "iopub.status.idle": "2025-07-26T16:11:21.318466Z",
     "shell.execute_reply": "2025-07-26T16:11:21.317759Z"
    },
    "papermill": {
     "duration": 0.012937,
     "end_time": "2025-07-26T16:11:21.319625",
     "exception": false,
     "start_time": "2025-07-26T16:11:21.306688",
     "status": "completed"
    },
    "tags": []
   },
   "outputs": [],
   "source": [
    "# ruound_to_two_places(9.9999)"
   ]
  },
  {
   "cell_type": "code",
   "execution_count": 10,
   "id": "2e1f4ae5",
   "metadata": {
    "execution": {
     "iopub.execute_input": "2025-07-26T16:11:21.332739Z",
     "iopub.status.busy": "2025-07-26T16:11:21.332436Z",
     "iopub.status.idle": "2025-07-26T16:11:21.338153Z",
     "shell.execute_reply": "2025-07-26T16:11:21.337191Z"
    },
    "papermill": {
     "duration": 0.013789,
     "end_time": "2025-07-26T16:11:21.339778",
     "exception": false,
     "start_time": "2025-07-26T16:11:21.325989",
     "status": "completed"
    },
    "tags": []
   },
   "outputs": [],
   "source": [
    " x = -10\n",
    " y = 5\n",
    " # Which of the two variables above has the smallest absolute value?\n",
    " smallest_abs = min(abs(x), abs(y))\n",
    "#error, abs takes only one argument "
   ]
  },
  {
   "cell_type": "code",
   "execution_count": 11,
   "id": "1731c0b7",
   "metadata": {
    "execution": {
     "iopub.execute_input": "2025-07-26T16:11:21.350256Z",
     "iopub.status.busy": "2025-07-26T16:11:21.349892Z",
     "iopub.status.idle": "2025-07-26T16:11:21.354691Z",
     "shell.execute_reply": "2025-07-26T16:11:21.353846Z"
    },
    "papermill": {
     "duration": 0.011709,
     "end_time": "2025-07-26T16:11:21.356030",
     "exception": false,
     "start_time": "2025-07-26T16:11:21.344321",
     "status": "completed"
    },
    "tags": []
   },
   "outputs": [
    {
     "name": "stdout",
     "output_type": "stream",
     "text": [
      "5\n"
     ]
    }
   ],
   "source": [
    " def f(x):\n",
    "     y = abs(x)\n",
    "     return y\n",
    "\n",
    " print(f(5))"
   ]
  },
  {
   "cell_type": "markdown",
   "id": "95eb2567",
   "metadata": {
    "papermill": {
     "duration": 0.003988,
     "end_time": "2025-07-26T16:11:21.364287",
     "exception": false,
     "start_time": "2025-07-26T16:11:21.360299",
     "status": "completed"
    },
    "tags": []
   },
   "source": [
    "# Keep Going\n",
    "\n",
    "Nice job with the code. Next up, you'll learn about *conditionals*, which you'll need to **[write interesting programs](https://www.kaggle.com/colinmorris/booleans-and-conditionals)**. "
   ]
  },
  {
   "cell_type": "markdown",
   "id": "e3a0bd3b",
   "metadata": {
    "papermill": {
     "duration": 0.004185,
     "end_time": "2025-07-26T16:11:21.372464",
     "exception": false,
     "start_time": "2025-07-26T16:11:21.368279",
     "status": "completed"
    },
    "tags": []
   },
   "source": [
    "---\n",
    "\n",
    "\n",
    "\n",
    "\n",
    "*Have questions or comments? Visit the [course discussion forum](https://www.kaggle.com/learn/python/discussion) to chat with other learners.*"
   ]
  }
 ],
 "metadata": {
  "kaggle": {
   "accelerator": "none",
   "dataSources": [],
   "isGpuEnabled": false,
   "isInternetEnabled": false,
   "language": "python",
   "sourceType": "notebook"
  },
  "kernelspec": {
   "display_name": "Python 3",
   "language": "python",
   "name": "python3"
  },
  "language_info": {
   "codemirror_mode": {
    "name": "ipython",
    "version": 3
   },
   "file_extension": ".py",
   "mimetype": "text/x-python",
   "name": "python",
   "nbconvert_exporter": "python",
   "pygments_lexer": "ipython3",
   "version": "3.11.13"
  },
  "learntools_metadata": {
   "lesson_index": 1,
   "type": "exercise"
  },
  "papermill": {
   "default_parameters": {},
   "duration": 7.645886,
   "end_time": "2025-07-26T16:11:21.898394",
   "environment_variables": {},
   "exception": null,
   "input_path": "__notebook__.ipynb",
   "output_path": "__notebook__.ipynb",
   "parameters": {},
   "start_time": "2025-07-26T16:11:14.252508",
   "version": "2.6.0"
  }
 },
 "nbformat": 4,
 "nbformat_minor": 5
}
