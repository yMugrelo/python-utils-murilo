{
 "cells": [
  {
   "cell_type": "markdown",
   "id": "4d3ff5ee",
   "metadata": {
    "papermill": {
     "duration": 0.004462,
     "end_time": "2025-08-04T16:41:04.590823",
     "exception": false,
     "start_time": "2025-08-04T16:41:04.586361",
     "status": "completed"
    },
    "tags": []
   },
   "source": [
    "**This notebook is an exercise in the [Python](https://www.kaggle.com/learn/python) course.  You can reference the tutorial at [this link](https://www.kaggle.com/colinmorris/lists).**\n",
    "\n",
    "---\n"
   ]
  },
  {
   "cell_type": "markdown",
   "id": "afb16fba",
   "metadata": {
    "papermill": {
     "duration": 0.003265,
     "end_time": "2025-08-04T16:41:04.597882",
     "exception": false,
     "start_time": "2025-08-04T16:41:04.594617",
     "status": "completed"
    },
    "tags": []
   },
   "source": [
    "Things get more interesting with lists. You'll apply your new knowledge to solve the questions below. Remember to run the following cell first."
   ]
  },
  {
   "cell_type": "code",
   "execution_count": 1,
   "id": "b582dd2b",
   "metadata": {
    "execution": {
     "iopub.execute_input": "2025-08-04T16:41:04.606434Z",
     "iopub.status.busy": "2025-08-04T16:41:04.606000Z",
     "iopub.status.idle": "2025-08-04T16:41:06.859006Z",
     "shell.execute_reply": "2025-08-04T16:41:06.857852Z"
    },
    "papermill": {
     "duration": 2.259361,
     "end_time": "2025-08-04T16:41:06.860822",
     "exception": false,
     "start_time": "2025-08-04T16:41:04.601461",
     "status": "completed"
    },
    "tags": []
   },
   "outputs": [
    {
     "name": "stdout",
     "output_type": "stream",
     "text": [
      "Setup complete.\n"
     ]
    }
   ],
   "source": [
    "from learntools.core import binder; binder.bind(globals())\n",
    "from learntools.python.ex4 import *\n",
    "print('Setup complete.')"
   ]
  },
  {
   "cell_type": "markdown",
   "id": "15fedc9d",
   "metadata": {
    "papermill": {
     "duration": 0.003486,
     "end_time": "2025-08-04T16:41:06.868155",
     "exception": false,
     "start_time": "2025-08-04T16:41:06.864669",
     "status": "completed"
    },
    "tags": []
   },
   "source": [
    "# 1.\n",
    "\n",
    "Complete the function below according to its docstring."
   ]
  },
  {
   "cell_type": "code",
   "execution_count": 2,
   "id": "9303e94d",
   "metadata": {
    "execution": {
     "iopub.execute_input": "2025-08-04T16:41:06.876700Z",
     "iopub.status.busy": "2025-08-04T16:41:06.876210Z",
     "iopub.status.idle": "2025-08-04T16:41:06.884903Z",
     "shell.execute_reply": "2025-08-04T16:41:06.884001Z"
    },
    "papermill": {
     "duration": 0.014801,
     "end_time": "2025-08-04T16:41:06.886464",
     "exception": false,
     "start_time": "2025-08-04T16:41:06.871663",
     "status": "completed"
    },
    "tags": []
   },
   "outputs": [
    {
     "data": {
      "application/javascript": [
       "parent.postMessage({\"jupyterEvent\": \"custom.exercise_interaction\", \"data\": {\"outcomeType\": 1, \"valueTowardsCompletion\": 0.2, \"interactionType\": 1, \"questionType\": 2, \"questionId\": \"1_SelectSecondItem\", \"learnToolsVersion\": \"0.3.5\", \"failureMessage\": \"\", \"exceptionClass\": \"\", \"trace\": \"\"}}, \"*\")"
      ],
      "text/plain": [
       "<IPython.core.display.Javascript object>"
      ]
     },
     "metadata": {},
     "output_type": "display_data"
    },
    {
     "data": {
      "text/markdown": [
       "<span style=\"color:#33cc33\">Correct</span>"
      ],
      "text/plain": [
       "Correct"
      ]
     },
     "metadata": {},
     "output_type": "display_data"
    }
   ],
   "source": [
    "def select_second(L):\n",
    "    if len(L) >= 2:\n",
    "        return L[1]\n",
    "    else:\n",
    "        return None \n",
    "\n",
    "# Check your answer\n",
    "q1.check()"
   ]
  },
  {
   "cell_type": "code",
   "execution_count": 3,
   "id": "13381c6e",
   "metadata": {
    "collapsed": true,
    "execution": {
     "iopub.execute_input": "2025-08-04T16:41:06.895909Z",
     "iopub.status.busy": "2025-08-04T16:41:06.895555Z",
     "iopub.status.idle": "2025-08-04T16:41:06.899865Z",
     "shell.execute_reply": "2025-08-04T16:41:06.898713Z"
    },
    "jupyter": {
     "outputs_hidden": true
    },
    "papermill": {
     "duration": 0.010745,
     "end_time": "2025-08-04T16:41:06.901380",
     "exception": false,
     "start_time": "2025-08-04T16:41:06.890635",
     "status": "completed"
    },
    "tags": []
   },
   "outputs": [],
   "source": [
    "#q1.hint()\n",
    "#q1.solution()"
   ]
  },
  {
   "cell_type": "markdown",
   "id": "93a4088e",
   "metadata": {
    "papermill": {
     "duration": 0.00352,
     "end_time": "2025-08-04T16:41:06.909061",
     "exception": false,
     "start_time": "2025-08-04T16:41:06.905541",
     "status": "completed"
    },
    "tags": []
   },
   "source": [
    "# 2.\n",
    "\n",
    "You are analyzing sports teams.  Members of each team are stored in a list. The Coach is the first name in the list, the captain is the second name in the list, and other players are listed after that. \n",
    "These lists are stored in another list, which starts with the best team and proceeds through the list to the worst team last.  Complete the function below to select the **captain** of the worst team."
   ]
  },
  {
   "cell_type": "code",
   "execution_count": 4,
   "id": "f5b718be",
   "metadata": {
    "execution": {
     "iopub.execute_input": "2025-08-04T16:41:06.917999Z",
     "iopub.status.busy": "2025-08-04T16:41:06.917629Z",
     "iopub.status.idle": "2025-08-04T16:41:06.926226Z",
     "shell.execute_reply": "2025-08-04T16:41:06.925172Z"
    },
    "papermill": {
     "duration": 0.01519,
     "end_time": "2025-08-04T16:41:06.927971",
     "exception": false,
     "start_time": "2025-08-04T16:41:06.912781",
     "status": "completed"
    },
    "tags": []
   },
   "outputs": [
    {
     "data": {
      "application/javascript": [
       "parent.postMessage({\"jupyterEvent\": \"custom.exercise_interaction\", \"data\": {\"outcomeType\": 1, \"valueTowardsCompletion\": 0.2, \"interactionType\": 1, \"questionType\": 2, \"questionId\": \"2_LosingTeamCaptain\", \"learnToolsVersion\": \"0.3.5\", \"failureMessage\": \"\", \"exceptionClass\": \"\", \"trace\": \"\"}}, \"*\")"
      ],
      "text/plain": [
       "<IPython.core.display.Javascript object>"
      ]
     },
     "metadata": {},
     "output_type": "display_data"
    },
    {
     "data": {
      "text/markdown": [
       "<span style=\"color:#33cc33\">Correct</span>"
      ],
      "text/plain": [
       "Correct"
      ]
     },
     "metadata": {},
     "output_type": "display_data"
    }
   ],
   "source": [
    "def losing_team_captain(teams):\n",
    "    return teams[-1][1] \n",
    "\n",
    "# Check your answer\n",
    "q2.check()"
   ]
  },
  {
   "cell_type": "code",
   "execution_count": 5,
   "id": "d9d5fd61",
   "metadata": {
    "execution": {
     "iopub.execute_input": "2025-08-04T16:41:06.937977Z",
     "iopub.status.busy": "2025-08-04T16:41:06.937611Z",
     "iopub.status.idle": "2025-08-04T16:41:06.941936Z",
     "shell.execute_reply": "2025-08-04T16:41:06.940909Z"
    },
    "papermill": {
     "duration": 0.011424,
     "end_time": "2025-08-04T16:41:06.943817",
     "exception": false,
     "start_time": "2025-08-04T16:41:06.932393",
     "status": "completed"
    },
    "tags": []
   },
   "outputs": [],
   "source": [
    "#q2.hint()\n",
    "#q2.solution()"
   ]
  },
  {
   "cell_type": "markdown",
   "id": "8b0eb321",
   "metadata": {
    "papermill": {
     "duration": 0.00368,
     "end_time": "2025-08-04T16:41:06.952837",
     "exception": false,
     "start_time": "2025-08-04T16:41:06.949157",
     "status": "completed"
    },
    "tags": []
   },
   "source": [
    "# 3.\n",
    "\n",
    "The next iteration of Mario Kart will feature an extra-infuriating new item, the *Purple Shell*. When used, it warps the last place racer into first place and the first place racer into last place. Complete the function below to implement the Purple Shell's effect."
   ]
  },
  {
   "cell_type": "code",
   "execution_count": 6,
   "id": "0fcccf70",
   "metadata": {
    "execution": {
     "iopub.execute_input": "2025-08-04T16:41:06.963615Z",
     "iopub.status.busy": "2025-08-04T16:41:06.963123Z",
     "iopub.status.idle": "2025-08-04T16:41:06.972101Z",
     "shell.execute_reply": "2025-08-04T16:41:06.971158Z"
    },
    "papermill": {
     "duration": 0.016183,
     "end_time": "2025-08-04T16:41:06.973485",
     "exception": false,
     "start_time": "2025-08-04T16:41:06.957302",
     "status": "completed"
    },
    "tags": []
   },
   "outputs": [
    {
     "data": {
      "application/javascript": [
       "parent.postMessage({\"jupyterEvent\": \"custom.exercise_interaction\", \"data\": {\"outcomeType\": 1, \"valueTowardsCompletion\": 0.2, \"interactionType\": 1, \"questionType\": 2, \"questionId\": \"3_PurpleShell\", \"learnToolsVersion\": \"0.3.5\", \"failureMessage\": \"\", \"exceptionClass\": \"\", \"trace\": \"\"}}, \"*\")"
      ],
      "text/plain": [
       "<IPython.core.display.Javascript object>"
      ]
     },
     "metadata": {},
     "output_type": "display_data"
    },
    {
     "data": {
      "text/markdown": [
       "<span style=\"color:#33cc33\">Correct</span>"
      ],
      "text/plain": [
       "Correct"
      ]
     },
     "metadata": {},
     "output_type": "display_data"
    }
   ],
   "source": [
    "def purple_shell(racers):\n",
    "    racers[0], racers[-1] = racers[-1], racers[0]\n",
    "    \n",
    "\n",
    "\n",
    "# Check your answer\n",
    "q3.check()"
   ]
  },
  {
   "cell_type": "code",
   "execution_count": 7,
   "id": "b76cdab5",
   "metadata": {
    "collapsed": true,
    "execution": {
     "iopub.execute_input": "2025-08-04T16:41:06.983203Z",
     "iopub.status.busy": "2025-08-04T16:41:06.982902Z",
     "iopub.status.idle": "2025-08-04T16:41:06.986865Z",
     "shell.execute_reply": "2025-08-04T16:41:06.986041Z"
    },
    "jupyter": {
     "outputs_hidden": true
    },
    "papermill": {
     "duration": 0.010657,
     "end_time": "2025-08-04T16:41:06.988284",
     "exception": false,
     "start_time": "2025-08-04T16:41:06.977627",
     "status": "completed"
    },
    "tags": []
   },
   "outputs": [],
   "source": [
    "#q3.hint()\n",
    "#q3.solution()"
   ]
  },
  {
   "cell_type": "markdown",
   "id": "85f8b648",
   "metadata": {
    "papermill": {
     "duration": 0.004241,
     "end_time": "2025-08-04T16:41:06.996837",
     "exception": false,
     "start_time": "2025-08-04T16:41:06.992596",
     "status": "completed"
    },
    "tags": []
   },
   "source": [
    "# 4.\n",
    "\n",
    "What are the lengths of the following lists? Fill in the variable `lengths` with your predictions. (Try to make a prediction for each list *without* just calling `len()` on it.)"
   ]
  },
  {
   "cell_type": "code",
   "execution_count": 8,
   "id": "c4b84d24",
   "metadata": {
    "execution": {
     "iopub.execute_input": "2025-08-04T16:41:07.007191Z",
     "iopub.status.busy": "2025-08-04T16:41:07.006827Z",
     "iopub.status.idle": "2025-08-04T16:41:07.016063Z",
     "shell.execute_reply": "2025-08-04T16:41:07.015281Z"
    },
    "papermill": {
     "duration": 0.016108,
     "end_time": "2025-08-04T16:41:07.017551",
     "exception": false,
     "start_time": "2025-08-04T16:41:07.001443",
     "status": "completed"
    },
    "tags": []
   },
   "outputs": [
    {
     "data": {
      "application/javascript": [
       "parent.postMessage({\"jupyterEvent\": \"custom.exercise_interaction\", \"data\": {\"outcomeType\": 1, \"valueTowardsCompletion\": 0.2, \"interactionType\": 1, \"questionType\": 1, \"questionId\": \"4_UnderstandLen\", \"learnToolsVersion\": \"0.3.5\", \"failureMessage\": \"\", \"exceptionClass\": \"\", \"trace\": \"\"}}, \"*\")"
      ],
      "text/plain": [
       "<IPython.core.display.Javascript object>"
      ]
     },
     "metadata": {},
     "output_type": "display_data"
    },
    {
     "data": {
      "text/markdown": [
       "<span style=\"color:#33cc33\">Correct:</span> \n",
       "\n",
       "\n",
       "- a: There are three items in this list. Nothing tricky yet.\n",
       "- b: The list `[2, 3]` counts as a single item. It has one item before it. So we have 2 items in the list\n",
       "- c: The empty list has 0 items\n",
       "- d: The expression is the same as the list `[2, 3]`, which has length 2."
      ],
      "text/plain": [
       "Correct: \n",
       "\n",
       "\n",
       "- a: There are three items in this list. Nothing tricky yet.\n",
       "- b: The list `[2, 3]` counts as a single item. It has one item before it. So we have 2 items in the list\n",
       "- c: The empty list has 0 items\n",
       "- d: The expression is the same as the list `[2, 3]`, which has length 2."
      ]
     },
     "metadata": {},
     "output_type": "display_data"
    }
   ],
   "source": [
    "a = [1, 2, 3]\n",
    "b = [1, [2, 3]]\n",
    "c = []\n",
    "d = [1, 2, 3][1:]\n",
    "\n",
    "# Put your predictions in the list below. Lengths should contain 4 numbers, the\n",
    "# first being the length of a, the second being the length of b and so on.\n",
    "lengths = [3,2,0,2]\n",
    "\n",
    "# Check your answer\n",
    "q4.check()"
   ]
  },
  {
   "cell_type": "code",
   "execution_count": 9,
   "id": "87a0bbcf",
   "metadata": {
    "collapsed": true,
    "execution": {
     "iopub.execute_input": "2025-08-04T16:41:07.028432Z",
     "iopub.status.busy": "2025-08-04T16:41:07.028013Z",
     "iopub.status.idle": "2025-08-04T16:41:07.032445Z",
     "shell.execute_reply": "2025-08-04T16:41:07.031317Z"
    },
    "jupyter": {
     "outputs_hidden": true
    },
    "papermill": {
     "duration": 0.01143,
     "end_time": "2025-08-04T16:41:07.034114",
     "exception": false,
     "start_time": "2025-08-04T16:41:07.022684",
     "status": "completed"
    },
    "tags": []
   },
   "outputs": [],
   "source": [
    "# line below provides some explanation\n",
    "#q4.solution()"
   ]
  },
  {
   "cell_type": "markdown",
   "id": "bac143b0",
   "metadata": {
    "papermill": {
     "duration": 0.004226,
     "end_time": "2025-08-04T16:41:07.042858",
     "exception": false,
     "start_time": "2025-08-04T16:41:07.038632",
     "status": "completed"
    },
    "tags": []
   },
   "source": [
    "# 5. <span title=\"A bit spicy\" style=\"color: darkgreen \">🌶️</span>\n",
    "\n",
    "We're using lists to record people who attended our party and what order they arrived in. For example, the following list represents a party with 7 guests, in which Adela showed up first and Ford was the last to arrive:\n",
    "\n",
    "    party_attendees = ['Adela', 'Fleda', 'Owen', 'May', 'Mona', 'Gilbert', 'Ford']\n",
    "\n",
    "A guest is considered 'fashionably late' if they arrived after at least half of the party's guests. However, they must not be the very last guest (that's taking it too far). In the above example, Mona and Gilbert are the only guests who were fashionably late.\n",
    "\n",
    "Complete the function below which takes a list of party attendees as well as a person, and tells us whether that person is fashionably late."
   ]
  },
  {
   "cell_type": "code",
   "execution_count": 10,
   "id": "1eee13ca",
   "metadata": {
    "execution": {
     "iopub.execute_input": "2025-08-04T16:41:07.053337Z",
     "iopub.status.busy": "2025-08-04T16:41:07.052513Z",
     "iopub.status.idle": "2025-08-04T16:41:07.061134Z",
     "shell.execute_reply": "2025-08-04T16:41:07.060019Z"
    },
    "papermill": {
     "duration": 0.01548,
     "end_time": "2025-08-04T16:41:07.062637",
     "exception": false,
     "start_time": "2025-08-04T16:41:07.047157",
     "status": "completed"
    },
    "tags": []
   },
   "outputs": [
    {
     "data": {
      "application/javascript": [
       "parent.postMessage({\"jupyterEvent\": \"custom.exercise_interaction\", \"data\": {\"outcomeType\": 1, \"valueTowardsCompletion\": 0.2, \"interactionType\": 1, \"questionType\": 2, \"questionId\": \"5_FashionablyLate\", \"learnToolsVersion\": \"0.3.5\", \"failureMessage\": \"\", \"exceptionClass\": \"\", \"trace\": \"\"}}, \"*\")"
      ],
      "text/plain": [
       "<IPython.core.display.Javascript object>"
      ]
     },
     "metadata": {},
     "output_type": "display_data"
    },
    {
     "data": {
      "text/markdown": [
       "<span style=\"color:#33cc33\">Correct</span>"
      ],
      "text/plain": [
       "Correct"
      ]
     },
     "metadata": {},
     "output_type": "display_data"
    }
   ],
   "source": [
    "def fashionably_late(arrivals, name):\n",
    "    index = arrivals.index(name)\n",
    "    halfway = len(arrivals) / 2\n",
    "    return index >= halfway and index != len(arrivals) - 1\n",
    "# Check your answer\n",
    "q5.check()"
   ]
  },
  {
   "cell_type": "code",
   "execution_count": 11,
   "id": "c496d052",
   "metadata": {
    "collapsed": true,
    "execution": {
     "iopub.execute_input": "2025-08-04T16:41:07.073679Z",
     "iopub.status.busy": "2025-08-04T16:41:07.073404Z",
     "iopub.status.idle": "2025-08-04T16:41:07.077410Z",
     "shell.execute_reply": "2025-08-04T16:41:07.076562Z"
    },
    "jupyter": {
     "outputs_hidden": true
    },
    "papermill": {
     "duration": 0.011549,
     "end_time": "2025-08-04T16:41:07.078937",
     "exception": false,
     "start_time": "2025-08-04T16:41:07.067388",
     "status": "completed"
    },
    "tags": []
   },
   "outputs": [],
   "source": [
    "#q5.hint()\n",
    "#q5.solution()"
   ]
  },
  {
   "cell_type": "markdown",
   "id": "4c0f14ee",
   "metadata": {
    "papermill": {
     "duration": 0.00445,
     "end_time": "2025-08-04T16:41:07.088221",
     "exception": false,
     "start_time": "2025-08-04T16:41:07.083771",
     "status": "completed"
    },
    "tags": []
   },
   "source": [
    "# Keep Going\n",
    "\n",
    "That's it for lists and tuples! Now you have the baseline knowledge to **[learn about loops](https://www.kaggle.com/colinmorris/loops-and-list-comprehensions)**, which is where lists and tuples get really interesting. "
   ]
  },
  {
   "cell_type": "markdown",
   "id": "c4568063",
   "metadata": {
    "papermill": {
     "duration": 0.004315,
     "end_time": "2025-08-04T16:41:07.097082",
     "exception": false,
     "start_time": "2025-08-04T16:41:07.092767",
     "status": "completed"
    },
    "tags": []
   },
   "source": [
    "---\n",
    "\n",
    "\n",
    "\n",
    "\n",
    "*Have questions or comments? Visit the [course discussion forum](https://www.kaggle.com/learn/python/discussion) to chat with other learners.*"
   ]
  }
 ],
 "metadata": {
  "kaggle": {
   "accelerator": "none",
   "dataSources": [],
   "isGpuEnabled": false,
   "isInternetEnabled": false,
   "language": "python",
   "sourceType": "notebook"
  },
  "kernelspec": {
   "display_name": "Python 3",
   "language": "python",
   "name": "python3"
  },
  "language_info": {
   "codemirror_mode": {
    "name": "ipython",
    "version": 3
   },
   "file_extension": ".py",
   "mimetype": "text/x-python",
   "name": "python",
   "nbconvert_exporter": "python",
   "pygments_lexer": "ipython3",
   "version": "3.11.13"
  },
  "learntools_metadata": {
   "lesson_index": 3,
   "type": "exercise"
  },
  "papermill": {
   "default_parameters": {},
   "duration": 8.613704,
   "end_time": "2025-08-04T16:41:07.723427",
   "environment_variables": {},
   "exception": null,
   "input_path": "__notebook__.ipynb",
   "output_path": "__notebook__.ipynb",
   "parameters": {},
   "start_time": "2025-08-04T16:40:59.109723",
   "version": "2.6.0"
  }
 },
 "nbformat": 4,
 "nbformat_minor": 5
}
