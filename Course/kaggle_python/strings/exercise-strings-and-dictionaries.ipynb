{
 "cells": [
  {
   "cell_type": "markdown",
   "id": "74c4c41f",
   "metadata": {
    "papermill": {
     "duration": 0.004775,
     "end_time": "2025-08-07T13:32:53.102961",
     "exception": false,
     "start_time": "2025-08-07T13:32:53.098186",
     "status": "completed"
    },
    "tags": []
   },
   "source": [
    "**This notebook is an exercise in the [Python](https://www.kaggle.com/learn/python) course.  You can reference the tutorial at [this link](https://www.kaggle.com/colinmorris/strings-and-dictionaries).**\n",
    "\n",
    "---\n"
   ]
  },
  {
   "cell_type": "markdown",
   "id": "ced194f0",
   "metadata": {
    "papermill": {
     "duration": 0.004181,
     "end_time": "2025-08-07T13:32:53.111260",
     "exception": false,
     "start_time": "2025-08-07T13:32:53.107079",
     "status": "completed"
    },
    "tags": []
   },
   "source": [
    "You are almost done with the course. Nice job!\n",
    "\n",
    "We have a couple more interesting problems for you before you go. \n",
    "\n",
    "As always, run the setup code below before working on the questions."
   ]
  },
  {
   "cell_type": "code",
   "execution_count": 1,
   "id": "4f24a012",
   "metadata": {
    "execution": {
     "iopub.execute_input": "2025-08-07T13:32:53.120553Z",
     "iopub.status.busy": "2025-08-07T13:32:53.120229Z",
     "iopub.status.idle": "2025-08-07T13:32:55.113614Z",
     "shell.execute_reply": "2025-08-07T13:32:55.112547Z"
    },
    "papermill": {
     "duration": 1.999816,
     "end_time": "2025-08-07T13:32:55.115216",
     "exception": false,
     "start_time": "2025-08-07T13:32:53.115400",
     "status": "completed"
    },
    "tags": []
   },
   "outputs": [
    {
     "name": "stdout",
     "output_type": "stream",
     "text": [
      "Setup complete.\n"
     ]
    }
   ],
   "source": [
    "from learntools.core import binder; binder.bind(globals())\n",
    "from learntools.python.ex6 import *\n",
    "print('Setup complete.')"
   ]
  },
  {
   "cell_type": "markdown",
   "id": "9405c037",
   "metadata": {
    "papermill": {
     "duration": 0.003799,
     "end_time": "2025-08-07T13:32:55.123286",
     "exception": false,
     "start_time": "2025-08-07T13:32:55.119487",
     "status": "completed"
    },
    "tags": []
   },
   "source": [
    "Let's start with a string lightning round to warm up. What are the lengths of the strings below?\n",
    "\n",
    "For each of the five strings below, predict what `len()` would return when passed that string. Use the variable `length` to record your answer, then run the cell to check whether you were right.  \n",
    "\n",
    "# 0a."
   ]
  },
  {
   "cell_type": "code",
   "execution_count": 2,
   "id": "6405b960",
   "metadata": {
    "execution": {
     "iopub.execute_input": "2025-08-07T13:32:55.132749Z",
     "iopub.status.busy": "2025-08-07T13:32:55.132191Z",
     "iopub.status.idle": "2025-08-07T13:32:55.141725Z",
     "shell.execute_reply": "2025-08-07T13:32:55.140670Z"
    },
    "papermill": {
     "duration": 0.016085,
     "end_time": "2025-08-07T13:32:55.143353",
     "exception": false,
     "start_time": "2025-08-07T13:32:55.127268",
     "status": "completed"
    },
    "tags": []
   },
   "outputs": [
    {
     "data": {
      "application/javascript": [
       "parent.postMessage({\"jupyterEvent\": \"custom.exercise_interaction\", \"data\": {\"outcomeType\": 1, \"valueTowardsCompletion\": 0.3333333333333333, \"interactionType\": 1, \"questionType\": 1, \"questionId\": \"0.1_ZA\", \"learnToolsVersion\": \"0.3.5\", \"failureMessage\": \"\", \"exceptionClass\": \"\", \"trace\": \"\"}}, \"*\")"
      ],
      "text/plain": [
       "<IPython.core.display.Javascript object>"
      ]
     },
     "metadata": {},
     "output_type": "display_data"
    },
    {
     "data": {
      "text/markdown": [
       "<span style=\"color:#33cc33\">Correct:</span> \n",
       "\n",
       "The empty string has length zero. Note that the empty string is also the only string that Python considers as False when converting to boolean."
      ],
      "text/plain": [
       "Correct: \n",
       "\n",
       "The empty string has length zero. Note that the empty string is also the only string that Python considers as False when converting to boolean."
      ]
     },
     "metadata": {},
     "output_type": "display_data"
    }
   ],
   "source": [
    "a = \"\"\n",
    "length = len(a)\n",
    "q0.a.check()"
   ]
  },
  {
   "cell_type": "markdown",
   "id": "f43f8f5b",
   "metadata": {
    "papermill": {
     "duration": 0.004081,
     "end_time": "2025-08-07T13:32:55.151971",
     "exception": false,
     "start_time": "2025-08-07T13:32:55.147890",
     "status": "completed"
    },
    "tags": []
   },
   "source": [
    "# 0b."
   ]
  },
  {
   "cell_type": "code",
   "execution_count": 3,
   "id": "66b9fe15",
   "metadata": {
    "execution": {
     "iopub.execute_input": "2025-08-07T13:32:55.161987Z",
     "iopub.status.busy": "2025-08-07T13:32:55.161253Z",
     "iopub.status.idle": "2025-08-07T13:32:55.168432Z",
     "shell.execute_reply": "2025-08-07T13:32:55.167630Z"
    },
    "papermill": {
     "duration": 0.013795,
     "end_time": "2025-08-07T13:32:55.169985",
     "exception": false,
     "start_time": "2025-08-07T13:32:55.156190",
     "status": "completed"
    },
    "tags": []
   },
   "outputs": [
    {
     "data": {
      "application/javascript": [
       "parent.postMessage({\"jupyterEvent\": \"custom.exercise_interaction\", \"data\": {\"outcomeType\": 1, \"valueTowardsCompletion\": 0.3333333333333333, \"interactionType\": 1, \"questionType\": 1, \"questionId\": \"0.2_ZB\", \"learnToolsVersion\": \"0.3.5\", \"failureMessage\": \"\", \"exceptionClass\": \"\", \"trace\": \"\"}}, \"*\")"
      ],
      "text/plain": [
       "<IPython.core.display.Javascript object>"
      ]
     },
     "metadata": {},
     "output_type": "display_data"
    },
    {
     "data": {
      "text/markdown": [
       "<span style=\"color:#33cc33\">Correct:</span> \n",
       "\n",
       "Keep in mind Python includes spaces (and punctuation) when counting string length."
      ],
      "text/plain": [
       "Correct: \n",
       "\n",
       "Keep in mind Python includes spaces (and punctuation) when counting string length."
      ]
     },
     "metadata": {},
     "output_type": "display_data"
    }
   ],
   "source": [
    "b = \"it's ok\"\n",
    "length = len(b)\n",
    "q0.b.check()"
   ]
  },
  {
   "cell_type": "markdown",
   "id": "877f912f",
   "metadata": {
    "papermill": {
     "duration": 0.004034,
     "end_time": "2025-08-07T13:32:55.178749",
     "exception": false,
     "start_time": "2025-08-07T13:32:55.174715",
     "status": "completed"
    },
    "tags": []
   },
   "source": [
    "# 0c."
   ]
  },
  {
   "cell_type": "code",
   "execution_count": 4,
   "id": "047d2a6e",
   "metadata": {
    "execution": {
     "iopub.execute_input": "2025-08-07T13:32:55.190374Z",
     "iopub.status.busy": "2025-08-07T13:32:55.189838Z",
     "iopub.status.idle": "2025-08-07T13:32:55.197504Z",
     "shell.execute_reply": "2025-08-07T13:32:55.196621Z"
    },
    "papermill": {
     "duration": 0.014498,
     "end_time": "2025-08-07T13:32:55.198986",
     "exception": false,
     "start_time": "2025-08-07T13:32:55.184488",
     "status": "completed"
    },
    "tags": []
   },
   "outputs": [
    {
     "data": {
      "application/javascript": [
       "parent.postMessage({\"jupyterEvent\": \"custom.exercise_interaction\", \"data\": {\"outcomeType\": 1, \"valueTowardsCompletion\": 0.3333333333333333, \"interactionType\": 1, \"questionType\": 1, \"questionId\": \"0.3_ZC\", \"learnToolsVersion\": \"0.3.5\", \"failureMessage\": \"\", \"exceptionClass\": \"\", \"trace\": \"\"}}, \"*\")"
      ],
      "text/plain": [
       "<IPython.core.display.Javascript object>"
      ]
     },
     "metadata": {},
     "output_type": "display_data"
    },
    {
     "data": {
      "text/markdown": [
       "<span style=\"color:#33cc33\">Correct:</span> \n",
       "\n",
       "Even though we use different syntax to create it, the string `c` is identical to `b`. In particular, note that the backslash is not part of the string, so it doesn't contribute to its length."
      ],
      "text/plain": [
       "Correct: \n",
       "\n",
       "Even though we use different syntax to create it, the string `c` is identical to `b`. In particular, note that the backslash is not part of the string, so it doesn't contribute to its length."
      ]
     },
     "metadata": {},
     "output_type": "display_data"
    }
   ],
   "source": [
    "c = 'it\\'s ok'\n",
    "length = len(c)\n",
    "q0.c.check()"
   ]
  },
  {
   "cell_type": "markdown",
   "id": "4f2aeeb5",
   "metadata": {
    "papermill": {
     "duration": 0.004384,
     "end_time": "2025-08-07T13:32:55.208124",
     "exception": false,
     "start_time": "2025-08-07T13:32:55.203740",
     "status": "completed"
    },
    "tags": []
   },
   "source": [
    "# 0d."
   ]
  },
  {
   "cell_type": "code",
   "execution_count": 5,
   "id": "37e4fd00",
   "metadata": {
    "execution": {
     "iopub.execute_input": "2025-08-07T13:32:55.218544Z",
     "iopub.status.busy": "2025-08-07T13:32:55.218251Z",
     "iopub.status.idle": "2025-08-07T13:32:55.225973Z",
     "shell.execute_reply": "2025-08-07T13:32:55.224970Z"
    },
    "papermill": {
     "duration": 0.014727,
     "end_time": "2025-08-07T13:32:55.227413",
     "exception": false,
     "start_time": "2025-08-07T13:32:55.212686",
     "status": "completed"
    },
    "tags": []
   },
   "outputs": [
    {
     "data": {
      "application/javascript": [
       "parent.postMessage({\"jupyterEvent\": \"custom.exercise_interaction\", \"data\": {\"outcomeType\": 1, \"valueTowardsCompletion\": 0.3333333333333333, \"interactionType\": 1, \"questionType\": 1, \"questionId\": \"0.4_ZD\", \"learnToolsVersion\": \"0.3.5\", \"failureMessage\": \"\", \"exceptionClass\": \"\", \"trace\": \"\"}}, \"*\")"
      ],
      "text/plain": [
       "<IPython.core.display.Javascript object>"
      ]
     },
     "metadata": {},
     "output_type": "display_data"
    },
    {
     "data": {
      "text/markdown": [
       "<span style=\"color:#33cc33\">Correct:</span> \n",
       "\n",
       "The fact that this string was created using triple-quote syntax doesn't make any difference in terms of its content or length. This string is exactly the same as `'hey'`."
      ],
      "text/plain": [
       "Correct: \n",
       "\n",
       "The fact that this string was created using triple-quote syntax doesn't make any difference in terms of its content or length. This string is exactly the same as `'hey'`."
      ]
     },
     "metadata": {},
     "output_type": "display_data"
    }
   ],
   "source": [
    "d = \"\"\"hey\"\"\"\n",
    "length = len(d)\n",
    "q0.d.check()"
   ]
  },
  {
   "cell_type": "markdown",
   "id": "dd6e3084",
   "metadata": {
    "papermill": {
     "duration": 0.004576,
     "end_time": "2025-08-07T13:32:55.236754",
     "exception": false,
     "start_time": "2025-08-07T13:32:55.232178",
     "status": "completed"
    },
    "tags": []
   },
   "source": [
    "# 0e."
   ]
  },
  {
   "cell_type": "code",
   "execution_count": 6,
   "id": "8ccfe002",
   "metadata": {
    "execution": {
     "iopub.execute_input": "2025-08-07T13:32:55.247200Z",
     "iopub.status.busy": "2025-08-07T13:32:55.246931Z",
     "iopub.status.idle": "2025-08-07T13:32:55.254335Z",
     "shell.execute_reply": "2025-08-07T13:32:55.253636Z"
    },
    "papermill": {
     "duration": 0.01463,
     "end_time": "2025-08-07T13:32:55.256038",
     "exception": false,
     "start_time": "2025-08-07T13:32:55.241408",
     "status": "completed"
    },
    "tags": []
   },
   "outputs": [
    {
     "data": {
      "application/javascript": [
       "parent.postMessage({\"jupyterEvent\": \"custom.exercise_interaction\", \"data\": {\"outcomeType\": 1, \"valueTowardsCompletion\": 0.3333333333333333, \"interactionType\": 1, \"questionType\": 1, \"questionId\": \"0.5_ZE\", \"learnToolsVersion\": \"0.3.5\", \"failureMessage\": \"\", \"exceptionClass\": \"\", \"trace\": \"\"}}, \"*\")"
      ],
      "text/plain": [
       "<IPython.core.display.Javascript object>"
      ]
     },
     "metadata": {},
     "output_type": "display_data"
    },
    {
     "data": {
      "text/markdown": [
       "<span style=\"color:#33cc33\">Correct:</span> \n",
       "\n",
       "The newline character is just a single character! (Even though we represent it to Python using a combination of two characters.)"
      ],
      "text/plain": [
       "Correct: \n",
       "\n",
       "The newline character is just a single character! (Even though we represent it to Python using a combination of two characters.)"
      ]
     },
     "metadata": {},
     "output_type": "display_data"
    }
   ],
   "source": [
    "e = '\\n'\n",
    "length = len(e)\n",
    "q0.e.check()"
   ]
  },
  {
   "cell_type": "markdown",
   "id": "d2c689ba",
   "metadata": {
    "papermill": {
     "duration": 0.004698,
     "end_time": "2025-08-07T13:32:55.265825",
     "exception": false,
     "start_time": "2025-08-07T13:32:55.261127",
     "status": "completed"
    },
    "tags": []
   },
   "source": [
    "# 1.\n",
    "\n",
    "There is a saying that \"Data scientists spend 80% of their time cleaning data, and 20% of their time complaining about cleaning data.\" Let's see if you can write a function to help clean US zip code data. Given a string, it should return whether or not that string represents a valid zip code. For our purposes, a valid zip code is any string consisting of exactly 5 digits.\n",
    "\n",
    "HINT: `str` has a method that will be useful here. Use `help(str)` to review a list of string methods."
   ]
  },
  {
   "cell_type": "code",
   "execution_count": 7,
   "id": "1ea85dc7",
   "metadata": {
    "execution": {
     "iopub.execute_input": "2025-08-07T13:32:55.276706Z",
     "iopub.status.busy": "2025-08-07T13:32:55.276323Z",
     "iopub.status.idle": "2025-08-07T13:32:55.284469Z",
     "shell.execute_reply": "2025-08-07T13:32:55.283332Z"
    },
    "papermill": {
     "duration": 0.015517,
     "end_time": "2025-08-07T13:32:55.286096",
     "exception": false,
     "start_time": "2025-08-07T13:32:55.270579",
     "status": "completed"
    },
    "tags": []
   },
   "outputs": [
    {
     "data": {
      "application/javascript": [
       "parent.postMessage({\"jupyterEvent\": \"custom.exercise_interaction\", \"data\": {\"outcomeType\": 1, \"valueTowardsCompletion\": 0.3333333333333333, \"interactionType\": 1, \"questionType\": 2, \"questionId\": \"1_ZipValidator\", \"learnToolsVersion\": \"0.3.5\", \"failureMessage\": \"\", \"exceptionClass\": \"\", \"trace\": \"\"}}, \"*\")"
      ],
      "text/plain": [
       "<IPython.core.display.Javascript object>"
      ]
     },
     "metadata": {},
     "output_type": "display_data"
    },
    {
     "data": {
      "text/markdown": [
       "<span style=\"color:#33cc33\">Correct</span>"
      ],
      "text/plain": [
       "Correct"
      ]
     },
     "metadata": {},
     "output_type": "display_data"
    }
   ],
   "source": [
    "def is_valid_zip(zip_code):\n",
    "    return isinstance(zip_code, str) and zip_code.isdigit() and len(zip_code) == 5\n",
    "# Check your answer\n",
    "q1.check()"
   ]
  },
  {
   "cell_type": "code",
   "execution_count": 8,
   "id": "50166a82",
   "metadata": {
    "execution": {
     "iopub.execute_input": "2025-08-07T13:32:55.297755Z",
     "iopub.status.busy": "2025-08-07T13:32:55.297311Z",
     "iopub.status.idle": "2025-08-07T13:32:55.301994Z",
     "shell.execute_reply": "2025-08-07T13:32:55.300936Z"
    },
    "papermill": {
     "duration": 0.012363,
     "end_time": "2025-08-07T13:32:55.303593",
     "exception": false,
     "start_time": "2025-08-07T13:32:55.291230",
     "status": "completed"
    },
    "tags": []
   },
   "outputs": [],
   "source": [
    "#q1.hint()\n",
    "#q1.solution()"
   ]
  },
  {
   "cell_type": "markdown",
   "id": "a2f49581",
   "metadata": {
    "papermill": {
     "duration": 0.00495,
     "end_time": "2025-08-07T13:32:55.313969",
     "exception": false,
     "start_time": "2025-08-07T13:32:55.309019",
     "status": "completed"
    },
    "tags": []
   },
   "source": [
    "# 2.\n",
    "\n",
    "A researcher has gathered thousands of news articles. But she wants to focus her attention on articles including a specific word. Complete the function below to help her filter her list of articles.\n",
    "\n",
    "Your function should meet the following criteria:\n",
    "\n",
    "- Do not include documents where the keyword string shows up only as a part of a larger word. For example, if she were looking for the keyword “closed”, you would not include the string “enclosed.” \n",
    "- She does not want you to distinguish upper case from lower case letters. So the phrase “Closed the case.” would be included when the keyword is “closed”\n",
    "- Do not let periods or commas affect what is matched. “It is closed.” would be included when the keyword is “closed”. But you can assume there are no other types of punctuation."
   ]
  },
  {
   "cell_type": "code",
   "execution_count": 9,
   "id": "f785f6c8",
   "metadata": {
    "execution": {
     "iopub.execute_input": "2025-08-07T13:32:55.325062Z",
     "iopub.status.busy": "2025-08-07T13:32:55.324792Z",
     "iopub.status.idle": "2025-08-07T13:32:55.332890Z",
     "shell.execute_reply": "2025-08-07T13:32:55.332060Z"
    },
    "papermill": {
     "duration": 0.015493,
     "end_time": "2025-08-07T13:32:55.334348",
     "exception": false,
     "start_time": "2025-08-07T13:32:55.318855",
     "status": "completed"
    },
    "tags": []
   },
   "outputs": [
    {
     "data": {
      "application/javascript": [
       "parent.postMessage({\"jupyterEvent\": \"custom.exercise_interaction\", \"data\": {\"outcomeType\": 1, \"valueTowardsCompletion\": 0.3333333333333333, \"interactionType\": 1, \"questionType\": 2, \"questionId\": \"2_WordSearch\", \"learnToolsVersion\": \"0.3.5\", \"failureMessage\": \"\", \"exceptionClass\": \"\", \"trace\": \"\"}}, \"*\")"
      ],
      "text/plain": [
       "<IPython.core.display.Javascript object>"
      ]
     },
     "metadata": {},
     "output_type": "display_data"
    },
    {
     "data": {
      "text/markdown": [
       "<span style=\"color:#33cc33\">Correct</span>"
      ],
      "text/plain": [
       "Correct"
      ]
     },
     "metadata": {},
     "output_type": "display_data"
    }
   ],
   "source": [
    "def word_search(doc_list, keyword):\n",
    "    \"\"\"\n",
    "    Takes a list of documents (each document is a string) and a keyword. \n",
    "    Returns list of the index values into the original list for all documents \n",
    "    containing the keyword.\n",
    "\n",
    "    Example:\n",
    "    doc_list = [\"The Learn Python Challenge Casino.\", \"They bought a car\", \"Casinoville\"]\n",
    "    >>> word_search(doc_list, 'casino')\n",
    "    >>> [0]\n",
    "    \"\"\"\n",
    "    result = []\n",
    "    for i, doc in enumerate(doc_list):\n",
    "        words = doc.lower().split()\n",
    "        if keyword.lower() in [word.strip('.!,?') for word in words]:\n",
    "            result.append(i)\n",
    "    return result \n",
    "\n",
    "# Check your answer\n",
    "q2.check()"
   ]
  },
  {
   "cell_type": "code",
   "execution_count": 10,
   "id": "726104a3",
   "metadata": {
    "execution": {
     "iopub.execute_input": "2025-08-07T13:32:55.346710Z",
     "iopub.status.busy": "2025-08-07T13:32:55.346252Z",
     "iopub.status.idle": "2025-08-07T13:32:55.350844Z",
     "shell.execute_reply": "2025-08-07T13:32:55.349925Z"
    },
    "papermill": {
     "duration": 0.012711,
     "end_time": "2025-08-07T13:32:55.352476",
     "exception": false,
     "start_time": "2025-08-07T13:32:55.339765",
     "status": "completed"
    },
    "tags": []
   },
   "outputs": [],
   "source": [
    "#q2.hint()\n",
    "#q2.solution()"
   ]
  },
  {
   "cell_type": "markdown",
   "id": "4b45d6ac",
   "metadata": {
    "papermill": {
     "duration": 0.004955,
     "end_time": "2025-08-07T13:32:55.362854",
     "exception": false,
     "start_time": "2025-08-07T13:32:55.357899",
     "status": "completed"
    },
    "tags": []
   },
   "source": [
    "# 3.\n",
    "\n",
    "Now the researcher wants to supply multiple keywords to search for. Complete the function below to help her.\n",
    "\n",
    "(You're encouraged to use the `word_search` function you just wrote when implementing this function. Reusing code in this way makes your programs more robust and readable - and it saves typing!)"
   ]
  },
  {
   "cell_type": "code",
   "execution_count": 11,
   "id": "f383dbb3",
   "metadata": {
    "execution": {
     "iopub.execute_input": "2025-08-07T13:32:55.375638Z",
     "iopub.status.busy": "2025-08-07T13:32:55.375207Z",
     "iopub.status.idle": "2025-08-07T13:32:55.384858Z",
     "shell.execute_reply": "2025-08-07T13:32:55.383546Z"
    },
    "papermill": {
     "duration": 0.017695,
     "end_time": "2025-08-07T13:32:55.386500",
     "exception": false,
     "start_time": "2025-08-07T13:32:55.368805",
     "status": "completed"
    },
    "tags": []
   },
   "outputs": [
    {
     "data": {
      "application/javascript": [
       "parent.postMessage({\"jupyterEvent\": \"custom.exercise_interaction\", \"data\": {\"outcomeType\": 1, \"valueTowardsCompletion\": 0.3333333333333333, \"interactionType\": 1, \"questionType\": 2, \"questionId\": \"3_MultiWordSearch\", \"learnToolsVersion\": \"0.3.5\", \"failureMessage\": \"\", \"exceptionClass\": \"\", \"trace\": \"\"}}, \"*\")"
      ],
      "text/plain": [
       "<IPython.core.display.Javascript object>"
      ]
     },
     "metadata": {},
     "output_type": "display_data"
    },
    {
     "data": {
      "text/markdown": [
       "<span style=\"color:#33cc33\">Correct</span>"
      ],
      "text/plain": [
       "Correct"
      ]
     },
     "metadata": {},
     "output_type": "display_data"
    }
   ],
   "source": [
    "def multi_word_search(doc_list, keywords):\n",
    "    \"\"\"\n",
    "    Takes list of documents (each document is a string) and a list of keywords.  \n",
    "    Returns a dictionary where each key is a keyword, and the value is a list of indices\n",
    "    (from doc_list) of the documents containing that keyword\n",
    "\n",
    "    >>> doc_list = [\"The Learn Python Challenge Casino.\", \"They bought a car and a casino\", \"Casinoville\"]\n",
    "    >>> keywords = ['casino', 'they']\n",
    "    >>> multi_word_search(doc_list, keywords)\n",
    "    {'casino': [0, 1], 'they': [1]}\n",
    "    \"\"\"\n",
    "    result = {} \n",
    "    for keyword in keywords:\n",
    "        result[keyword] = []\n",
    "        for i, doc in enumerate(doc_list):\n",
    "            words = [word.strip('.,!?').lower() for word in doc.split()]\n",
    "            if keyword.lower() in words:\n",
    "                result[keyword].append(i)\n",
    "    return result\n",
    "\n",
    "# Check your answer\n",
    "q3.check()"
   ]
  },
  {
   "cell_type": "code",
   "execution_count": 12,
   "id": "4814a362",
   "metadata": {
    "execution": {
     "iopub.execute_input": "2025-08-07T13:32:55.398750Z",
     "iopub.status.busy": "2025-08-07T13:32:55.398312Z",
     "iopub.status.idle": "2025-08-07T13:32:55.402511Z",
     "shell.execute_reply": "2025-08-07T13:32:55.401589Z"
    },
    "papermill": {
     "duration": 0.01221,
     "end_time": "2025-08-07T13:32:55.404294",
     "exception": false,
     "start_time": "2025-08-07T13:32:55.392084",
     "status": "completed"
    },
    "tags": []
   },
   "outputs": [],
   "source": [
    "#q3.solution()"
   ]
  },
  {
   "cell_type": "markdown",
   "id": "fc879e52",
   "metadata": {
    "papermill": {
     "duration": 0.005097,
     "end_time": "2025-08-07T13:32:55.415922",
     "exception": false,
     "start_time": "2025-08-07T13:32:55.410825",
     "status": "completed"
    },
    "tags": []
   },
   "source": [
    "# Keep Going\n",
    "\n",
    "You've learned a lot. But even the best programmers rely heavily on \"libraries\" of code from other programmers. You'll learn about that in **[the last lesson](https://www.kaggle.com/colinmorris/working-with-external-libraries)**.\n"
   ]
  },
  {
   "cell_type": "markdown",
   "id": "b9128858",
   "metadata": {
    "papermill": {
     "duration": 0.005173,
     "end_time": "2025-08-07T13:32:55.426337",
     "exception": false,
     "start_time": "2025-08-07T13:32:55.421164",
     "status": "completed"
    },
    "tags": []
   },
   "source": [
    "---\n",
    "\n",
    "\n",
    "\n",
    "\n",
    "*Have questions or comments? Visit the [course discussion forum](https://www.kaggle.com/learn/python/discussion) to chat with other learners.*"
   ]
  }
 ],
 "metadata": {
  "kaggle": {
   "accelerator": "none",
   "dataSources": [],
   "isGpuEnabled": false,
   "isInternetEnabled": false,
   "language": "python",
   "sourceType": "notebook"
  },
  "kernelspec": {
   "display_name": "Python 3",
   "language": "python",
   "name": "python3"
  },
  "language_info": {
   "codemirror_mode": {
    "name": "ipython",
    "version": 3
   },
   "file_extension": ".py",
   "mimetype": "text/x-python",
   "name": "python",
   "nbconvert_exporter": "python",
   "pygments_lexer": "ipython3",
   "version": "3.11.13"
  },
  "learntools_metadata": {
   "lesson_index": 5,
   "type": "exercise"
  },
  "papermill": {
   "default_parameters": {},
   "duration": 7.689775,
   "end_time": "2025-08-07T13:32:55.951605",
   "environment_variables": {},
   "exception": null,
   "input_path": "__notebook__.ipynb",
   "output_path": "__notebook__.ipynb",
   "parameters": {},
   "start_time": "2025-08-07T13:32:48.261830",
   "version": "2.6.0"
  }
 },
 "nbformat": 4,
 "nbformat_minor": 5
}
