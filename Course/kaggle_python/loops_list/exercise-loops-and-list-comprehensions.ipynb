{
 "cells": [
  {
   "cell_type": "markdown",
   "id": "b7ffed79",
   "metadata": {
    "papermill": {
     "duration": 0.00564,
     "end_time": "2025-08-06T16:41:17.050307",
     "exception": false,
     "start_time": "2025-08-06T16:41:17.044667",
     "status": "completed"
    },
    "tags": []
   },
   "source": [
    "**This notebook is an exercise in the [Python](https://www.kaggle.com/learn/python) course.  You can reference the tutorial at [this link](https://www.kaggle.com/colinmorris/loops-and-list-comprehensions).**\n",
    "\n",
    "---\n"
   ]
  },
  {
   "cell_type": "markdown",
   "id": "5be89d54",
   "metadata": {
    "papermill": {
     "duration": 0.003837,
     "end_time": "2025-08-06T16:41:17.058713",
     "exception": false,
     "start_time": "2025-08-06T16:41:17.054876",
     "status": "completed"
    },
    "tags": []
   },
   "source": [
    "With all you've learned, you can start writing much more interesting programs. See if you can solve the problems below.\n",
    "\n",
    "As always, run the setup code below before working on the questions."
   ]
  },
  {
   "cell_type": "code",
   "execution_count": 1,
   "id": "adc28275",
   "metadata": {
    "execution": {
     "iopub.execute_input": "2025-08-06T16:41:17.068764Z",
     "iopub.status.busy": "2025-08-06T16:41:17.068278Z",
     "iopub.status.idle": "2025-08-06T16:41:19.350465Z",
     "shell.execute_reply": "2025-08-06T16:41:19.349458Z"
    },
    "papermill": {
     "duration": 2.289584,
     "end_time": "2025-08-06T16:41:19.352481",
     "exception": false,
     "start_time": "2025-08-06T16:41:17.062897",
     "status": "completed"
    },
    "tags": []
   },
   "outputs": [
    {
     "name": "stdout",
     "output_type": "stream",
     "text": [
      "Setup complete.\n"
     ]
    }
   ],
   "source": [
    "from learntools.core import binder; binder.bind(globals())\n",
    "from learntools.python.ex5 import *\n",
    "print('Setup complete.')"
   ]
  },
  {
   "cell_type": "markdown",
   "id": "717a57b9",
   "metadata": {
    "papermill": {
     "duration": 0.004086,
     "end_time": "2025-08-06T16:41:19.361440",
     "exception": false,
     "start_time": "2025-08-06T16:41:19.357354",
     "status": "completed"
    },
    "tags": []
   },
   "source": [
    "# 1.\n",
    "\n",
    "Have you ever felt debugging involved a bit of luck? The following program has a bug. Try to identify the bug and fix it."
   ]
  },
  {
   "cell_type": "code",
   "execution_count": 2,
   "id": "f4dafc5f",
   "metadata": {
    "execution": {
     "iopub.execute_input": "2025-08-06T16:41:19.371487Z",
     "iopub.status.busy": "2025-08-06T16:41:19.370980Z",
     "iopub.status.idle": "2025-08-06T16:41:19.376612Z",
     "shell.execute_reply": "2025-08-06T16:41:19.375470Z"
    },
    "papermill": {
     "duration": 0.012734,
     "end_time": "2025-08-06T16:41:19.378359",
     "exception": false,
     "start_time": "2025-08-06T16:41:19.365625",
     "status": "completed"
    },
    "tags": []
   },
   "outputs": [],
   "source": [
    "def has_lucky_number(nums):\n",
    "    \n",
    "    for num in nums:\n",
    "        if num % 7 == 0:\n",
    "            return True\n",
    "        return False"
   ]
  },
  {
   "cell_type": "markdown",
   "id": "c1e1281c",
   "metadata": {
    "papermill": {
     "duration": 0.004754,
     "end_time": "2025-08-06T16:41:19.387640",
     "exception": false,
     "start_time": "2025-08-06T16:41:19.382886",
     "status": "completed"
    },
    "tags": []
   },
   "source": [
    "Try to identify the bug and fix it in the cell below:"
   ]
  },
  {
   "cell_type": "code",
   "execution_count": 3,
   "id": "ee834f34",
   "metadata": {
    "execution": {
     "iopub.execute_input": "2025-08-06T16:41:19.397604Z",
     "iopub.status.busy": "2025-08-06T16:41:19.396838Z",
     "iopub.status.idle": "2025-08-06T16:41:19.407223Z",
     "shell.execute_reply": "2025-08-06T16:41:19.406198Z"
    },
    "papermill": {
     "duration": 0.017389,
     "end_time": "2025-08-06T16:41:19.408944",
     "exception": false,
     "start_time": "2025-08-06T16:41:19.391555",
     "status": "completed"
    },
    "tags": []
   },
   "outputs": [
    {
     "data": {
      "application/javascript": [
       "parent.postMessage({\"jupyterEvent\": \"custom.exercise_interaction\", \"data\": {\"outcomeType\": 1, \"valueTowardsCompletion\": 0.25, \"interactionType\": 1, \"questionType\": 2, \"questionId\": \"1_EarlyExitDebugging\", \"learnToolsVersion\": \"0.3.5\", \"failureMessage\": \"\", \"exceptionClass\": \"\", \"trace\": \"\"}}, \"*\")"
      ],
      "text/plain": [
       "<IPython.core.display.Javascript object>"
      ]
     },
     "metadata": {},
     "output_type": "display_data"
    },
    {
     "data": {
      "text/markdown": [
       "<span style=\"color:#33cc33\">Correct:</span> \n",
       "\n",
       "Remember that `return` causes a function to exit immediately. So our original implementation always ran for just one iteration. We can only return `False` if we've looked at every element of the list (and confirmed that none of them are lucky). Though we can return early if the answer is `True`:\n",
       "\n",
       "```python\n",
       "def has_lucky_number(nums):\n",
       "    for num in nums:\n",
       "        if num % 7 == 0:\n",
       "            return True\n",
       "    # We've exhausted the list without finding a lucky number\n",
       "    return False\n",
       "```\n",
       "\n",
       "Here's a one-line version using a list comprehension with Python's `any` function (you can read about what it does by calling `help(any)`):\n",
       "\n",
       "```python\n",
       "def has_lucky_number(nums):\n",
       "    return any([num % 7 == 0 for num in nums])\n",
       "```\n"
      ],
      "text/plain": [
       "Correct: \n",
       "\n",
       "Remember that `return` causes a function to exit immediately. So our original implementation always ran for just one iteration. We can only return `False` if we've looked at every element of the list (and confirmed that none of them are lucky). Though we can return early if the answer is `True`:\n",
       "\n",
       "```python\n",
       "def has_lucky_number(nums):\n",
       "    for num in nums:\n",
       "        if num % 7 == 0:\n",
       "            return True\n",
       "    # We've exhausted the list without finding a lucky number\n",
       "    return False\n",
       "```\n",
       "\n",
       "Here's a one-line version using a list comprehension with Python's `any` function (you can read about what it does by calling `help(any)`):\n",
       "\n",
       "```python\n",
       "def has_lucky_number(nums):\n",
       "    return any([num % 7 == 0 for num in nums])\n",
       "```"
      ]
     },
     "metadata": {},
     "output_type": "display_data"
    }
   ],
   "source": [
    "def has_lucky_number(nums):\n",
    "    \"\"\"Return whether the given list of numbers is lucky. A lucky list contains\n",
    "    at least one number divisible by 7.\n",
    "    \"\"\"\n",
    "    for num in nums:\n",
    "        if num % 7 == 0:\n",
    "            return True\n",
    "    return False\n",
    "\n",
    "# Check your answer\n",
    "q1.check()"
   ]
  },
  {
   "cell_type": "code",
   "execution_count": 4,
   "id": "445c9baf",
   "metadata": {
    "execution": {
     "iopub.execute_input": "2025-08-06T16:41:19.419023Z",
     "iopub.status.busy": "2025-08-06T16:41:19.418569Z",
     "iopub.status.idle": "2025-08-06T16:41:19.423168Z",
     "shell.execute_reply": "2025-08-06T16:41:19.422057Z"
    },
    "papermill": {
     "duration": 0.011709,
     "end_time": "2025-08-06T16:41:19.424935",
     "exception": false,
     "start_time": "2025-08-06T16:41:19.413226",
     "status": "completed"
    },
    "tags": []
   },
   "outputs": [],
   "source": [
    "#q1.hint()\n",
    "#q1.solution()"
   ]
  },
  {
   "cell_type": "markdown",
   "id": "99d58149",
   "metadata": {
    "papermill": {
     "duration": 0.004173,
     "end_time": "2025-08-06T16:41:19.434977",
     "exception": false,
     "start_time": "2025-08-06T16:41:19.430804",
     "status": "completed"
    },
    "tags": []
   },
   "source": [
    "# 2.\n",
    "Look at the Python expression below. What do you think we'll get when we run it? When you've made your prediction, uncomment the code and run the cell to see if you were right."
   ]
  },
  {
   "cell_type": "code",
   "execution_count": 5,
   "id": "d60a3535",
   "metadata": {
    "execution": {
     "iopub.execute_input": "2025-08-06T16:41:19.445262Z",
     "iopub.status.busy": "2025-08-06T16:41:19.444895Z",
     "iopub.status.idle": "2025-08-06T16:41:19.449658Z",
     "shell.execute_reply": "2025-08-06T16:41:19.448719Z"
    },
    "papermill": {
     "duration": 0.012189,
     "end_time": "2025-08-06T16:41:19.451471",
     "exception": false,
     "start_time": "2025-08-06T16:41:19.439282",
     "status": "completed"
    },
    "tags": []
   },
   "outputs": [],
   "source": [
    "#[1, 2, 3, 4] > 2"
   ]
  },
  {
   "cell_type": "markdown",
   "id": "c1c14eea",
   "metadata": {
    "papermill": {
     "duration": 0.003902,
     "end_time": "2025-08-06T16:41:19.459927",
     "exception": false,
     "start_time": "2025-08-06T16:41:19.456025",
     "status": "completed"
    },
    "tags": []
   },
   "source": [
    "R and Python have some libraries (like numpy and pandas) compare each element of the list to 2 (i.e. do an 'element-wise' comparison) and give us a list of booleans like `[False, False, True, True]`. \n",
    "\n",
    "Implement a function that reproduces this behaviour, returning a list of booleans corresponding to whether the corresponding element is greater than n."
   ]
  },
  {
   "cell_type": "code",
   "execution_count": 6,
   "id": "db370e4a",
   "metadata": {
    "execution": {
     "iopub.execute_input": "2025-08-06T16:41:19.469503Z",
     "iopub.status.busy": "2025-08-06T16:41:19.469199Z",
     "iopub.status.idle": "2025-08-06T16:41:19.477494Z",
     "shell.execute_reply": "2025-08-06T16:41:19.476627Z"
    },
    "papermill": {
     "duration": 0.015148,
     "end_time": "2025-08-06T16:41:19.479100",
     "exception": false,
     "start_time": "2025-08-06T16:41:19.463952",
     "status": "completed"
    },
    "tags": []
   },
   "outputs": [
    {
     "data": {
      "application/javascript": [
       "parent.postMessage({\"jupyterEvent\": \"custom.exercise_interaction\", \"data\": {\"outcomeType\": 1, \"valueTowardsCompletion\": 0.25, \"interactionType\": 1, \"questionType\": 2, \"questionId\": \"2_ElementWiseComparison\", \"learnToolsVersion\": \"0.3.5\", \"failureMessage\": \"\", \"exceptionClass\": \"\", \"trace\": \"\"}}, \"*\")"
      ],
      "text/plain": [
       "<IPython.core.display.Javascript object>"
      ]
     },
     "metadata": {},
     "output_type": "display_data"
    },
    {
     "data": {
      "text/markdown": [
       "<span style=\"color:#33cc33\">Correct:</span> \n",
       "\n",
       "Here's one solution:\n",
       "```python\n",
       "def elementwise_greater_than(L, thresh):\n",
       "    res = []\n",
       "    for ele in L:\n",
       "        res.append(ele > thresh)\n",
       "    return res\n",
       "```\n",
       "\n",
       "And here's the list comprehension version:\n",
       "```python\n",
       "def elementwise_greater_than(L, thresh):\n",
       "    return [ele > thresh for ele in L]\n",
       "```\n"
      ],
      "text/plain": [
       "Correct: \n",
       "\n",
       "Here's one solution:\n",
       "```python\n",
       "def elementwise_greater_than(L, thresh):\n",
       "    res = []\n",
       "    for ele in L:\n",
       "        res.append(ele > thresh)\n",
       "    return res\n",
       "```\n",
       "\n",
       "And here's the list comprehension version:\n",
       "```python\n",
       "def elementwise_greater_than(L, thresh):\n",
       "    return [ele > thresh for ele in L]\n",
       "```"
      ]
     },
     "metadata": {},
     "output_type": "display_data"
    }
   ],
   "source": [
    "def elementwise_greater_than(L, thresh):\n",
    "    \"\"\"Return a list with the same length as L, where the value at index i is \n",
    "    True if L[i] is greater than thresh, and False otherwise.\n",
    "    \n",
    "    >>> elementwise_greater_than([1, 2, 3, 4], 2)\n",
    "    [False, False, True, True]\n",
    "    \"\"\"\n",
    "    results = []\n",
    "    for item in L:\n",
    "        results.append(item > thresh)\n",
    "    return results\n",
    "# Check your answer\n",
    "q2.check()"
   ]
  },
  {
   "cell_type": "code",
   "execution_count": 7,
   "id": "ebb4d21e",
   "metadata": {
    "execution": {
     "iopub.execute_input": "2025-08-06T16:41:19.489940Z",
     "iopub.status.busy": "2025-08-06T16:41:19.489585Z",
     "iopub.status.idle": "2025-08-06T16:41:19.494111Z",
     "shell.execute_reply": "2025-08-06T16:41:19.493065Z"
    },
    "papermill": {
     "duration": 0.011767,
     "end_time": "2025-08-06T16:41:19.495660",
     "exception": false,
     "start_time": "2025-08-06T16:41:19.483893",
     "status": "completed"
    },
    "tags": []
   },
   "outputs": [],
   "source": [
    "#q2.solution()"
   ]
  },
  {
   "cell_type": "markdown",
   "id": "87825af4",
   "metadata": {
    "papermill": {
     "duration": 0.004335,
     "end_time": "2025-08-06T16:41:19.504893",
     "exception": false,
     "start_time": "2025-08-06T16:41:19.500558",
     "status": "completed"
    },
    "tags": []
   },
   "source": [
    "# 3.\n",
    "\n",
    "Complete the body of the function below according to its docstring."
   ]
  },
  {
   "cell_type": "code",
   "execution_count": 8,
   "id": "817b40e6",
   "metadata": {
    "execution": {
     "iopub.execute_input": "2025-08-06T16:41:19.515621Z",
     "iopub.status.busy": "2025-08-06T16:41:19.515308Z",
     "iopub.status.idle": "2025-08-06T16:41:19.525004Z",
     "shell.execute_reply": "2025-08-06T16:41:19.524121Z"
    },
    "papermill": {
     "duration": 0.016923,
     "end_time": "2025-08-06T16:41:19.526423",
     "exception": false,
     "start_time": "2025-08-06T16:41:19.509500",
     "status": "completed"
    },
    "tags": []
   },
   "outputs": [
    {
     "data": {
      "application/javascript": [
       "parent.postMessage({\"jupyterEvent\": \"custom.exercise_interaction\", \"data\": {\"outcomeType\": 1, \"valueTowardsCompletion\": 0.25, \"interactionType\": 1, \"questionType\": 2, \"questionId\": \"3_BoringMenu\", \"learnToolsVersion\": \"0.3.5\", \"failureMessage\": \"\", \"exceptionClass\": \"\", \"trace\": \"\"}}, \"*\")"
      ],
      "text/plain": [
       "<IPython.core.display.Javascript object>"
      ]
     },
     "metadata": {},
     "output_type": "display_data"
    },
    {
     "data": {
      "text/markdown": [
       "<span style=\"color:#33cc33\">Correct:</span> \n",
       "\n",
       "\n",
       "\n",
       "```python\n",
       "def menu_is_boring(meals):\n",
       "    # Iterate over all indices of the list, except the last one\n",
       "    for i in range(len(meals)-1):\n",
       "        if meals[i] == meals[i+1]:\n",
       "            return True\n",
       "    return False\n",
       "```\n",
       "\n",
       "The key to our solution is the call to `range`. `range(len(meals))` would give us all the indices of `meals`. If we had used that range, the last iteration of the loop would be comparing the last element to the element after it, which is... `IndexError`! `range(len(meals)-1)` gives us all the indices except the index of the last element.\n",
       "\n",
       "But don't we need to check if `meals` is empty? Turns out that `range(0) == range(-1)` - they're both empty. So if `meals` has length 0 or 1, we just won't do any iterations of our for loop.\n"
      ],
      "text/plain": [
       "Correct: \n",
       "\n",
       "\n",
       "\n",
       "```python\n",
       "def menu_is_boring(meals):\n",
       "    # Iterate over all indices of the list, except the last one\n",
       "    for i in range(len(meals)-1):\n",
       "        if meals[i] == meals[i+1]:\n",
       "            return True\n",
       "    return False\n",
       "```\n",
       "\n",
       "The key to our solution is the call to `range`. `range(len(meals))` would give us all the indices of `meals`. If we had used that range, the last iteration of the loop would be comparing the last element to the element after it, which is... `IndexError`! `range(len(meals)-1)` gives us all the indices except the index of the last element.\n",
       "\n",
       "But don't we need to check if `meals` is empty? Turns out that `range(0) == range(-1)` - they're both empty. So if `meals` has length 0 or 1, we just won't do any iterations of our for loop."
      ]
     },
     "metadata": {},
     "output_type": "display_data"
    }
   ],
   "source": [
    "def menu_is_boring(meals):\n",
    "    for i in range(len(meals) - 1):\n",
    "        if meals[i] == meals[i + 1]:\n",
    "            return True \n",
    "    return False \n",
    "# Check your answer\n",
    "q3.check()"
   ]
  },
  {
   "cell_type": "code",
   "execution_count": 9,
   "id": "9741f8e8",
   "metadata": {
    "execution": {
     "iopub.execute_input": "2025-08-06T16:41:19.537414Z",
     "iopub.status.busy": "2025-08-06T16:41:19.537106Z",
     "iopub.status.idle": "2025-08-06T16:41:19.541368Z",
     "shell.execute_reply": "2025-08-06T16:41:19.540295Z"
    },
    "papermill": {
     "duration": 0.011794,
     "end_time": "2025-08-06T16:41:19.543177",
     "exception": false,
     "start_time": "2025-08-06T16:41:19.531383",
     "status": "completed"
    },
    "tags": []
   },
   "outputs": [],
   "source": [
    "#q3.hint()\n",
    "#q3.solution()"
   ]
  },
  {
   "cell_type": "markdown",
   "id": "c32a0282",
   "metadata": {
    "papermill": {
     "duration": 0.004371,
     "end_time": "2025-08-06T16:41:19.552640",
     "exception": false,
     "start_time": "2025-08-06T16:41:19.548269",
     "status": "completed"
    },
    "tags": []
   },
   "source": [
    "# 4. <span title=\"A bit spicy\" style=\"color: darkgreen \">🌶️</span>\n",
    "\n",
    "Next to the Blackjack table, the Python Challenge Casino has a slot machine. You can get a result from the slot machine by calling `play_slot_machine()`. The number it returns is your winnings in dollars. Usually it returns 0.  But sometimes you'll get lucky and get a big payday. Try running it below:"
   ]
  },
  {
   "cell_type": "code",
   "execution_count": 10,
   "id": "f1f2237a",
   "metadata": {
    "execution": {
     "iopub.execute_input": "2025-08-06T16:41:19.564322Z",
     "iopub.status.busy": "2025-08-06T16:41:19.563532Z",
     "iopub.status.idle": "2025-08-06T16:41:19.569991Z",
     "shell.execute_reply": "2025-08-06T16:41:19.569014Z"
    },
    "papermill": {
     "duration": 0.014116,
     "end_time": "2025-08-06T16:41:19.571494",
     "exception": false,
     "start_time": "2025-08-06T16:41:19.557378",
     "status": "completed"
    },
    "tags": []
   },
   "outputs": [
    {
     "data": {
      "text/plain": [
       "0"
      ]
     },
     "execution_count": 10,
     "metadata": {},
     "output_type": "execute_result"
    }
   ],
   "source": [
    "play_slot_machine()"
   ]
  },
  {
   "cell_type": "markdown",
   "id": "d080e3e0",
   "metadata": {
    "papermill": {
     "duration": 0.004308,
     "end_time": "2025-08-06T16:41:19.580900",
     "exception": false,
     "start_time": "2025-08-06T16:41:19.576592",
     "status": "completed"
    },
    "tags": []
   },
   "source": [
    "By the way, did we mention that each play costs $1? Don't worry, we'll send you the bill later.\n",
    "\n",
    "On average, how much money can you expect to gain (or lose) every time you play the machine?  The casino keeps it a secret, but you can estimate the average value of each pull using a technique called the **Monte Carlo method**. To estimate the average outcome, we simulate the scenario many times, and return the average result.\n",
    "\n",
    "Complete the following function to calculate the average value per play of the slot machine."
   ]
  },
  {
   "cell_type": "code",
   "execution_count": 11,
   "id": "50eb643d",
   "metadata": {
    "execution": {
     "iopub.execute_input": "2025-08-06T16:41:19.591450Z",
     "iopub.status.busy": "2025-08-06T16:41:19.591117Z",
     "iopub.status.idle": "2025-08-06T16:41:19.596955Z",
     "shell.execute_reply": "2025-08-06T16:41:19.595911Z"
    },
    "papermill": {
     "duration": 0.013082,
     "end_time": "2025-08-06T16:41:19.598436",
     "exception": false,
     "start_time": "2025-08-06T16:41:19.585354",
     "status": "completed"
    },
    "tags": []
   },
   "outputs": [],
   "source": [
    "def estimate_average_slot_payout(n_runs):\n",
    "    \"\"\"Run the slot machine n_runs times and return the average net profit per run.\n",
    "    Example calls (note that return value is nondeterministic!):\n",
    "    >>> estimate_average_slot_payout(1)\n",
    "    -1\n",
    "    >>> estimate_average_slot_payout(1)\n",
    "    0.5\n",
    "    \"\"\"\n",
    "    total = 0 \n",
    "    for i in range(n_runs):\n",
    "        total += play_slot_machine()\n",
    "    return total/n_runs\n",
    "    pass"
   ]
  },
  {
   "cell_type": "markdown",
   "id": "fd964998",
   "metadata": {
    "papermill": {
     "duration": 0.004356,
     "end_time": "2025-08-06T16:41:19.607822",
     "exception": false,
     "start_time": "2025-08-06T16:41:19.603466",
     "status": "completed"
    },
    "tags": []
   },
   "source": [
    "When you think you know the expected value per spin, run the code cell below to view the solution and get credit for answering the question."
   ]
  },
  {
   "cell_type": "code",
   "execution_count": 12,
   "id": "170892b5",
   "metadata": {
    "execution": {
     "iopub.execute_input": "2025-08-06T16:41:19.617957Z",
     "iopub.status.busy": "2025-08-06T16:41:19.617618Z",
     "iopub.status.idle": "2025-08-06T16:41:19.625050Z",
     "shell.execute_reply": "2025-08-06T16:41:19.623888Z"
    },
    "papermill": {
     "duration": 0.0144,
     "end_time": "2025-08-06T16:41:19.626659",
     "exception": false,
     "start_time": "2025-08-06T16:41:19.612259",
     "status": "completed"
    },
    "tags": []
   },
   "outputs": [
    {
     "data": {
      "application/javascript": [
       "parent.postMessage({\"jupyterEvent\": \"custom.exercise_interaction\", \"data\": {\"interactionType\": 3, \"questionType\": 4, \"questionId\": \"4_ExpectedSlotsPayout\", \"learnToolsVersion\": \"0.3.5\", \"valueTowardsCompletion\": 0.0, \"failureMessage\": \"\", \"exceptionClass\": \"\", \"trace\": \"\", \"outcomeType\": 4}}, \"*\")"
      ],
      "text/plain": [
       "<IPython.core.display.Javascript object>"
      ]
     },
     "metadata": {},
     "output_type": "display_data"
    },
    {
     "data": {
      "text/markdown": [
       "<span style=\"color:#33cc99\">Solution:</span> \n",
       "    \n",
       "The exact expected value of one pull of the slot machine is 0.025 - i.e. a little more than 2 cents.  See?  Not every game in the Python Challenge Casino is rigged against the player!\n",
       "\n",
       "In order to get this answer, you'll need to implement the `estimate_average_slot_payout(n_runs)` function to simulate pulling the slot machine `n_runs` times.  It should return the payout averaged over those `n_runs`.\n",
       "\n",
       "Then, once the function is defined, in order to estimate the average slot payout, we need only call the function.\n",
       "\n",
       "Because of the high variance of the outcome (there are some very rare high payout results that significantly affect the average) you might need to run your function with a very high value of `n_runs` to get a stable answer close to the true expectation.  For instance, you might use a value for `n_runs` of 1000000.\n",
       "\n",
       "Here's an example for how the function could look:\n",
       "```python\n",
       "def estimate_average_slot_payout(n_runs):\n",
       "    # Play slot machine n_runs times, calculate payout of each\n",
       "    payouts = [play_slot_machine()-1 for i in range(n_runs)]\n",
       "    # Calculate the average value\n",
       "    avg_payout = sum(payouts) / n_runs\n",
       "    return avg_payout\n",
       "    \n",
       "estimate_average_slot_payout(10000000)\n",
       "\n",
       "```\n",
       "\n",
       "This should return an answer close to 0.025!\n",
       "            \n"
      ],
      "text/plain": [
       "Solution: \n",
       "    \n",
       "The exact expected value of one pull of the slot machine is 0.025 - i.e. a little more than 2 cents.  See?  Not every game in the Python Challenge Casino is rigged against the player!\n",
       "\n",
       "In order to get this answer, you'll need to implement the `estimate_average_slot_payout(n_runs)` function to simulate pulling the slot machine `n_runs` times.  It should return the payout averaged over those `n_runs`.\n",
       "\n",
       "Then, once the function is defined, in order to estimate the average slot payout, we need only call the function.\n",
       "\n",
       "Because of the high variance of the outcome (there are some very rare high payout results that significantly affect the average) you might need to run your function with a very high value of `n_runs` to get a stable answer close to the true expectation.  For instance, you might use a value for `n_runs` of 1000000.\n",
       "\n",
       "Here's an example for how the function could look:\n",
       "```python\n",
       "def estimate_average_slot_payout(n_runs):\n",
       "    # Play slot machine n_runs times, calculate payout of each\n",
       "    payouts = [play_slot_machine()-1 for i in range(n_runs)]\n",
       "    # Calculate the average value\n",
       "    avg_payout = sum(payouts) / n_runs\n",
       "    return avg_payout\n",
       "    \n",
       "estimate_average_slot_payout(10000000)\n",
       "\n",
       "```\n",
       "\n",
       "This should return an answer close to 0.025!\n",
       "            "
      ]
     },
     "metadata": {},
     "output_type": "display_data"
    }
   ],
   "source": [
    "# Check your answer (Run this code cell to receive credit!)\n",
    "q4.solution()"
   ]
  },
  {
   "cell_type": "markdown",
   "id": "3798fdcd",
   "metadata": {
    "papermill": {
     "duration": 0.00457,
     "end_time": "2025-08-06T16:41:19.636470",
     "exception": false,
     "start_time": "2025-08-06T16:41:19.631900",
     "status": "completed"
    },
    "tags": []
   },
   "source": [
    "# Keep Going\n",
    "\n",
    "Many programmers report that dictionaries are their favorite data structure. You'll get to **[learn about them](https://www.kaggle.com/colinmorris/strings-and-dictionaries)** (as well as strings) in the next lesson."
   ]
  },
  {
   "cell_type": "markdown",
   "id": "456e1c59",
   "metadata": {
    "papermill": {
     "duration": 0.004454,
     "end_time": "2025-08-06T16:41:19.645925",
     "exception": false,
     "start_time": "2025-08-06T16:41:19.641471",
     "status": "completed"
    },
    "tags": []
   },
   "source": [
    "---\n",
    "\n",
    "\n",
    "\n",
    "\n",
    "*Have questions or comments? Visit the [course discussion forum](https://www.kaggle.com/learn/python/discussion) to chat with other learners.*"
   ]
  }
 ],
 "metadata": {
  "kaggle": {
   "accelerator": "none",
   "dataSources": [],
   "isGpuEnabled": false,
   "isInternetEnabled": false,
   "language": "python",
   "sourceType": "notebook"
  },
  "kernelspec": {
   "display_name": "Python 3",
   "language": "python",
   "name": "python3"
  },
  "language_info": {
   "codemirror_mode": {
    "name": "ipython",
    "version": 3
   },
   "file_extension": ".py",
   "mimetype": "text/x-python",
   "name": "python",
   "nbconvert_exporter": "python",
   "pygments_lexer": "ipython3",
   "version": "3.11.13"
  },
  "learntools_metadata": {
   "lesson_index": 4,
   "type": "exercise"
  },
  "papermill": {
   "default_parameters": {},
   "duration": 9.471037,
   "end_time": "2025-08-06T16:41:20.479825",
   "environment_variables": {},
   "exception": null,
   "input_path": "__notebook__.ipynb",
   "output_path": "__notebook__.ipynb",
   "parameters": {},
   "start_time": "2025-08-06T16:41:11.008788",
   "version": "2.6.0"
  }
 },
 "nbformat": 4,
 "nbformat_minor": 5
}
